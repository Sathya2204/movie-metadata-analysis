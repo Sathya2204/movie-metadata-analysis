{
  "nbformat": 4,
  "nbformat_minor": 0,
  "metadata": {
    "colab": {
      "provenance": []
    },
    "kernelspec": {
      "name": "python3",
      "display_name": "Python 3"
    },
    "language_info": {
      "name": "python"
    }
  },
  "cells": [
    {
      "cell_type": "markdown",
      "source": [
        "# 🎬 Movies Metadata Analysis & Visualization\n",
        "\n",
        "Welcome to this **Movie Dataset Analysis** notebook!\n",
        "\n",
        "In this notebook, we’ll:       \n",
        "✅ **Clean and preprocess the data** (handling missing values, transforming features)  \n",
        "✅ **Explore movie industry trends** through visualizations  \n",
        "✅ **Answer key questions** like:  \n",
        "- How are movie budgets distributed?  \n",
        "- Which genres are most common?  \n",
        "- Does a bigger budget mean more revenue or profit?  \n",
        "- How have movies evolved over the years?  \n",
        "\n",
        "---\n",
        "\n",
        "## 📌 **About the Dataset**\n",
        "We’re using a movie metadata dataset (originally from [The Movies Dataset](https://www.kaggle.com/datasets/rounakbanik/the-movies-dataset)) that contains:\n",
        "- Budget, revenue, and profit information  \n",
        "- Genre and language details  \n",
        "- Release dates  \n",
        "- Ratings (average votes, popularity)\n",
        "\n",
        "---\n",
        "\n",
        "## 🚀 **How to Use This Notebook**\n",
        "1️⃣ Run each cell in order — code blocks will clean, transform, and visualize the data.  \n",
        "2️⃣ Explore the charts and outputs to understand patterns in the movie industry.  \n",
        "3️⃣ Feel free to modify code or add your own analyses!\n",
        "\n",
        "👉 **Libraries used**:  \n",
        "`pandas`, `numpy`, `seaborn`, `matplotlib`, `ast`, `collections`\n",
        "\n",
        "---\n",
        "\n",
        "## 📊 **Main Analyses**\n",
        "Throughout the notebook, we’ll cover:\n",
        "- Budget and profit distributions  \n",
        "- Top genres  \n",
        "- Budget vs revenue trends  \n",
        "- Popularity vs ratings  \n",
        "- Budget categories over years  \n",
        "- Runtime and genre insights  \n",
        "\n",
        "---\n",
        "\n",
        "🎯 **Goal:** Gain a deeper understanding of how different factors (budget, genre, release year, etc.) relate to movie success.\n",
        "\n",
        "---\n",
        "\n",
        "⚡ *Tip: If you’re running on Colab, make sure the dataset CSV is uploaded and paths are set correctly.*\n",
        "\n"
      ],
      "metadata": {
        "id": "0PGC-cgE5kYY"
      }
    },
    {
      "cell_type": "code",
      "execution_count": 103,
      "metadata": {
        "id": "psnMml5GUCha"
      },
      "outputs": [],
      "source": [
        "import numpy as np\n",
        "import pandas as pd\n",
        "import seaborn as sns\n",
        "import matplotlib.pyplot as plt\n",
        "import ast"
      ]
    },
    {
      "cell_type": "code",
      "source": [
        "df=pd.read_csv(\"/content/movies_metadata.csv\")\n",
        "df.head()"
      ],
      "metadata": {
        "colab": {
          "base_uri": "https://localhost:8080/",
          "height": 498
        },
        "id": "LbaKqXawd66w",
        "outputId": "0c2c2e01-3850-44b3-9854-062d613ec4d0"
      },
      "execution_count": 104,
      "outputs": [
        {
          "output_type": "execute_result",
          "data": {
            "text/plain": [
              "   adult                     backdrop_path  \\\n",
              "0  False  /w8crvpc3KisHMH72Da5ktwHf6rY.jpg   \n",
              "1  False  /w7MsyOpP003FYhsiTgVHa3rNsrz.jpg   \n",
              "2  False  /jMBXArRB02mFB5H4qZIZwojeG1S.jpg   \n",
              "3  False  /u2fwkirPOiYzmYgtGbInPQtpQo0.jpg   \n",
              "4  False  /7JUshKTF1oM9exGlRltube4cuQ7.jpg   \n",
              "\n",
              "                               belongs_to_collection    budget  \\\n",
              "0                                                NaN         0   \n",
              "1                                                NaN  18000000   \n",
              "2  {'id':124901,'name':'Hatchet Collection','post...         0   \n",
              "3  {'id':124950,'name':'American Graffiti Collect...    777000   \n",
              "4  {'id':93369,'name':'Ringu Collection','poster_...   6000000   \n",
              "\n",
              "                                              genres  \\\n",
              "0                   [{'id':99,'name':'Documentary'}]   \n",
              "1  [{'id':18,'name':'Drama'},{'id':10751,'name':'...   \n",
              "2  [{'id':27,'name':'Horror'},{'id':53,'name':'Th...   \n",
              "3  [{'id':35,'name':'Comedy'},{'id':18,'name':'Dr...   \n",
              "4                        [{'id':27,'name':'Horror'}]   \n",
              "\n",
              "                                       homepage      id    imdb_id  \\\n",
              "0                                           NaN  526313  tt8412232   \n",
              "1                http://www.adogswayhome.movie/  508763  tt7616798   \n",
              "2  http://ariescope.com/2011/04/12/hatchet-iii/  167575  tt1870419   \n",
              "3                                           NaN     838  tt0069704   \n",
              "4                                           NaN    9674  tt0235712   \n",
              "\n",
              "  original_language                  original_title  ... release_date  \\\n",
              "0                en                 A Leaf of Faith  ...   2018-05-21   \n",
              "1                en                A Dog's Way Home  ...   2019-01-10   \n",
              "2                en                     Hatchet III  ...   2013-06-14   \n",
              "3                en               American Graffiti  ...   1973-08-01   \n",
              "4                ja  ??????????????????????????????  ...   2000-01-22   \n",
              "\n",
              "     revenue runtime                         spoken_languages    status  \\\n",
              "0          0    86.0                                       []  Released   \n",
              "1   17643857    96.0    [{'iso_639_1':'en','name':'English'}]  Released   \n",
              "2          0    89.0    [{'iso_639_1':'en','name':'English'}]  Released   \n",
              "3  140000000   110.0    [{'iso_639_1':'en','name':'English'}]  Released   \n",
              "4          0    99.0  [{'iso_639_1':'ja','name':'?????????'}]  Released   \n",
              "\n",
              "                                    tagline              title  video  \\\n",
              "0           Kill the pain, not the patient.    A Leaf of Faith  False   \n",
              "1  A lot can happen between lost and found.   A Dog's Way Home  False   \n",
              "2                Victor Crowley Lives Again        Hatchet III  False   \n",
              "3                    Where were you in '62?  American Graffiti  False   \n",
              "4                                       NaN            Ringu 0  False   \n",
              "\n",
              "  vote_average vote_count  \n",
              "0          8.0          5  \n",
              "1          6.5         76  \n",
              "2          5.5        145  \n",
              "3          7.1        597  \n",
              "4          6.0         75  \n",
              "\n",
              "[5 rows x 25 columns]"
            ],
            "text/html": [
              "\n",
              "  <div id=\"df-ea0a710e-6418-4127-8709-019629f4b54c\" class=\"colab-df-container\">\n",
              "    <div>\n",
              "<style scoped>\n",
              "    .dataframe tbody tr th:only-of-type {\n",
              "        vertical-align: middle;\n",
              "    }\n",
              "\n",
              "    .dataframe tbody tr th {\n",
              "        vertical-align: top;\n",
              "    }\n",
              "\n",
              "    .dataframe thead th {\n",
              "        text-align: right;\n",
              "    }\n",
              "</style>\n",
              "<table border=\"1\" class=\"dataframe\">\n",
              "  <thead>\n",
              "    <tr style=\"text-align: right;\">\n",
              "      <th></th>\n",
              "      <th>adult</th>\n",
              "      <th>backdrop_path</th>\n",
              "      <th>belongs_to_collection</th>\n",
              "      <th>budget</th>\n",
              "      <th>genres</th>\n",
              "      <th>homepage</th>\n",
              "      <th>id</th>\n",
              "      <th>imdb_id</th>\n",
              "      <th>original_language</th>\n",
              "      <th>original_title</th>\n",
              "      <th>...</th>\n",
              "      <th>release_date</th>\n",
              "      <th>revenue</th>\n",
              "      <th>runtime</th>\n",
              "      <th>spoken_languages</th>\n",
              "      <th>status</th>\n",
              "      <th>tagline</th>\n",
              "      <th>title</th>\n",
              "      <th>video</th>\n",
              "      <th>vote_average</th>\n",
              "      <th>vote_count</th>\n",
              "    </tr>\n",
              "  </thead>\n",
              "  <tbody>\n",
              "    <tr>\n",
              "      <th>0</th>\n",
              "      <td>False</td>\n",
              "      <td>/w8crvpc3KisHMH72Da5ktwHf6rY.jpg</td>\n",
              "      <td>NaN</td>\n",
              "      <td>0</td>\n",
              "      <td>[{'id':99,'name':'Documentary'}]</td>\n",
              "      <td>NaN</td>\n",
              "      <td>526313</td>\n",
              "      <td>tt8412232</td>\n",
              "      <td>en</td>\n",
              "      <td>A Leaf of Faith</td>\n",
              "      <td>...</td>\n",
              "      <td>2018-05-21</td>\n",
              "      <td>0</td>\n",
              "      <td>86.0</td>\n",
              "      <td>[]</td>\n",
              "      <td>Released</td>\n",
              "      <td>Kill the pain, not the patient.</td>\n",
              "      <td>A Leaf of Faith</td>\n",
              "      <td>False</td>\n",
              "      <td>8.0</td>\n",
              "      <td>5</td>\n",
              "    </tr>\n",
              "    <tr>\n",
              "      <th>1</th>\n",
              "      <td>False</td>\n",
              "      <td>/w7MsyOpP003FYhsiTgVHa3rNsrz.jpg</td>\n",
              "      <td>NaN</td>\n",
              "      <td>18000000</td>\n",
              "      <td>[{'id':18,'name':'Drama'},{'id':10751,'name':'...</td>\n",
              "      <td>http://www.adogswayhome.movie/</td>\n",
              "      <td>508763</td>\n",
              "      <td>tt7616798</td>\n",
              "      <td>en</td>\n",
              "      <td>A Dog's Way Home</td>\n",
              "      <td>...</td>\n",
              "      <td>2019-01-10</td>\n",
              "      <td>17643857</td>\n",
              "      <td>96.0</td>\n",
              "      <td>[{'iso_639_1':'en','name':'English'}]</td>\n",
              "      <td>Released</td>\n",
              "      <td>A lot can happen between lost and found.</td>\n",
              "      <td>A Dog's Way Home</td>\n",
              "      <td>False</td>\n",
              "      <td>6.5</td>\n",
              "      <td>76</td>\n",
              "    </tr>\n",
              "    <tr>\n",
              "      <th>2</th>\n",
              "      <td>False</td>\n",
              "      <td>/jMBXArRB02mFB5H4qZIZwojeG1S.jpg</td>\n",
              "      <td>{'id':124901,'name':'Hatchet Collection','post...</td>\n",
              "      <td>0</td>\n",
              "      <td>[{'id':27,'name':'Horror'},{'id':53,'name':'Th...</td>\n",
              "      <td>http://ariescope.com/2011/04/12/hatchet-iii/</td>\n",
              "      <td>167575</td>\n",
              "      <td>tt1870419</td>\n",
              "      <td>en</td>\n",
              "      <td>Hatchet III</td>\n",
              "      <td>...</td>\n",
              "      <td>2013-06-14</td>\n",
              "      <td>0</td>\n",
              "      <td>89.0</td>\n",
              "      <td>[{'iso_639_1':'en','name':'English'}]</td>\n",
              "      <td>Released</td>\n",
              "      <td>Victor Crowley Lives Again</td>\n",
              "      <td>Hatchet III</td>\n",
              "      <td>False</td>\n",
              "      <td>5.5</td>\n",
              "      <td>145</td>\n",
              "    </tr>\n",
              "    <tr>\n",
              "      <th>3</th>\n",
              "      <td>False</td>\n",
              "      <td>/u2fwkirPOiYzmYgtGbInPQtpQo0.jpg</td>\n",
              "      <td>{'id':124950,'name':'American Graffiti Collect...</td>\n",
              "      <td>777000</td>\n",
              "      <td>[{'id':35,'name':'Comedy'},{'id':18,'name':'Dr...</td>\n",
              "      <td>NaN</td>\n",
              "      <td>838</td>\n",
              "      <td>tt0069704</td>\n",
              "      <td>en</td>\n",
              "      <td>American Graffiti</td>\n",
              "      <td>...</td>\n",
              "      <td>1973-08-01</td>\n",
              "      <td>140000000</td>\n",
              "      <td>110.0</td>\n",
              "      <td>[{'iso_639_1':'en','name':'English'}]</td>\n",
              "      <td>Released</td>\n",
              "      <td>Where were you in '62?</td>\n",
              "      <td>American Graffiti</td>\n",
              "      <td>False</td>\n",
              "      <td>7.1</td>\n",
              "      <td>597</td>\n",
              "    </tr>\n",
              "    <tr>\n",
              "      <th>4</th>\n",
              "      <td>False</td>\n",
              "      <td>/7JUshKTF1oM9exGlRltube4cuQ7.jpg</td>\n",
              "      <td>{'id':93369,'name':'Ringu Collection','poster_...</td>\n",
              "      <td>6000000</td>\n",
              "      <td>[{'id':27,'name':'Horror'}]</td>\n",
              "      <td>NaN</td>\n",
              "      <td>9674</td>\n",
              "      <td>tt0235712</td>\n",
              "      <td>ja</td>\n",
              "      <td>??????????????????????????????</td>\n",
              "      <td>...</td>\n",
              "      <td>2000-01-22</td>\n",
              "      <td>0</td>\n",
              "      <td>99.0</td>\n",
              "      <td>[{'iso_639_1':'ja','name':'?????????'}]</td>\n",
              "      <td>Released</td>\n",
              "      <td>NaN</td>\n",
              "      <td>Ringu 0</td>\n",
              "      <td>False</td>\n",
              "      <td>6.0</td>\n",
              "      <td>75</td>\n",
              "    </tr>\n",
              "  </tbody>\n",
              "</table>\n",
              "<p>5 rows × 25 columns</p>\n",
              "</div>\n",
              "    <div class=\"colab-df-buttons\">\n",
              "\n",
              "  <div class=\"colab-df-container\">\n",
              "    <button class=\"colab-df-convert\" onclick=\"convertToInteractive('df-ea0a710e-6418-4127-8709-019629f4b54c')\"\n",
              "            title=\"Convert this dataframe to an interactive table.\"\n",
              "            style=\"display:none;\">\n",
              "\n",
              "  <svg xmlns=\"http://www.w3.org/2000/svg\" height=\"24px\" viewBox=\"0 -960 960 960\">\n",
              "    <path d=\"M120-120v-720h720v720H120Zm60-500h600v-160H180v160Zm220 220h160v-160H400v160Zm0 220h160v-160H400v160ZM180-400h160v-160H180v160Zm440 0h160v-160H620v160ZM180-180h160v-160H180v160Zm440 0h160v-160H620v160Z\"/>\n",
              "  </svg>\n",
              "    </button>\n",
              "\n",
              "  <style>\n",
              "    .colab-df-container {\n",
              "      display:flex;\n",
              "      gap: 12px;\n",
              "    }\n",
              "\n",
              "    .colab-df-convert {\n",
              "      background-color: #E8F0FE;\n",
              "      border: none;\n",
              "      border-radius: 50%;\n",
              "      cursor: pointer;\n",
              "      display: none;\n",
              "      fill: #1967D2;\n",
              "      height: 32px;\n",
              "      padding: 0 0 0 0;\n",
              "      width: 32px;\n",
              "    }\n",
              "\n",
              "    .colab-df-convert:hover {\n",
              "      background-color: #E2EBFA;\n",
              "      box-shadow: 0px 1px 2px rgba(60, 64, 67, 0.3), 0px 1px 3px 1px rgba(60, 64, 67, 0.15);\n",
              "      fill: #174EA6;\n",
              "    }\n",
              "\n",
              "    .colab-df-buttons div {\n",
              "      margin-bottom: 4px;\n",
              "    }\n",
              "\n",
              "    [theme=dark] .colab-df-convert {\n",
              "      background-color: #3B4455;\n",
              "      fill: #D2E3FC;\n",
              "    }\n",
              "\n",
              "    [theme=dark] .colab-df-convert:hover {\n",
              "      background-color: #434B5C;\n",
              "      box-shadow: 0px 1px 3px 1px rgba(0, 0, 0, 0.15);\n",
              "      filter: drop-shadow(0px 1px 2px rgba(0, 0, 0, 0.3));\n",
              "      fill: #FFFFFF;\n",
              "    }\n",
              "  </style>\n",
              "\n",
              "    <script>\n",
              "      const buttonEl =\n",
              "        document.querySelector('#df-ea0a710e-6418-4127-8709-019629f4b54c button.colab-df-convert');\n",
              "      buttonEl.style.display =\n",
              "        google.colab.kernel.accessAllowed ? 'block' : 'none';\n",
              "\n",
              "      async function convertToInteractive(key) {\n",
              "        const element = document.querySelector('#df-ea0a710e-6418-4127-8709-019629f4b54c');\n",
              "        const dataTable =\n",
              "          await google.colab.kernel.invokeFunction('convertToInteractive',\n",
              "                                                    [key], {});\n",
              "        if (!dataTable) return;\n",
              "\n",
              "        const docLinkHtml = 'Like what you see? Visit the ' +\n",
              "          '<a target=\"_blank\" href=https://colab.research.google.com/notebooks/data_table.ipynb>data table notebook</a>'\n",
              "          + ' to learn more about interactive tables.';\n",
              "        element.innerHTML = '';\n",
              "        dataTable['output_type'] = 'display_data';\n",
              "        await google.colab.output.renderOutput(dataTable, element);\n",
              "        const docLink = document.createElement('div');\n",
              "        docLink.innerHTML = docLinkHtml;\n",
              "        element.appendChild(docLink);\n",
              "      }\n",
              "    </script>\n",
              "  </div>\n",
              "\n",
              "\n",
              "    <div id=\"df-05509a81-9f55-4b9d-b174-77f426b6fa1c\">\n",
              "      <button class=\"colab-df-quickchart\" onclick=\"quickchart('df-05509a81-9f55-4b9d-b174-77f426b6fa1c')\"\n",
              "                title=\"Suggest charts\"\n",
              "                style=\"display:none;\">\n",
              "\n",
              "<svg xmlns=\"http://www.w3.org/2000/svg\" height=\"24px\"viewBox=\"0 0 24 24\"\n",
              "     width=\"24px\">\n",
              "    <g>\n",
              "        <path d=\"M19 3H5c-1.1 0-2 .9-2 2v14c0 1.1.9 2 2 2h14c1.1 0 2-.9 2-2V5c0-1.1-.9-2-2-2zM9 17H7v-7h2v7zm4 0h-2V7h2v10zm4 0h-2v-4h2v4z\"/>\n",
              "    </g>\n",
              "</svg>\n",
              "      </button>\n",
              "\n",
              "<style>\n",
              "  .colab-df-quickchart {\n",
              "      --bg-color: #E8F0FE;\n",
              "      --fill-color: #1967D2;\n",
              "      --hover-bg-color: #E2EBFA;\n",
              "      --hover-fill-color: #174EA6;\n",
              "      --disabled-fill-color: #AAA;\n",
              "      --disabled-bg-color: #DDD;\n",
              "  }\n",
              "\n",
              "  [theme=dark] .colab-df-quickchart {\n",
              "      --bg-color: #3B4455;\n",
              "      --fill-color: #D2E3FC;\n",
              "      --hover-bg-color: #434B5C;\n",
              "      --hover-fill-color: #FFFFFF;\n",
              "      --disabled-bg-color: #3B4455;\n",
              "      --disabled-fill-color: #666;\n",
              "  }\n",
              "\n",
              "  .colab-df-quickchart {\n",
              "    background-color: var(--bg-color);\n",
              "    border: none;\n",
              "    border-radius: 50%;\n",
              "    cursor: pointer;\n",
              "    display: none;\n",
              "    fill: var(--fill-color);\n",
              "    height: 32px;\n",
              "    padding: 0;\n",
              "    width: 32px;\n",
              "  }\n",
              "\n",
              "  .colab-df-quickchart:hover {\n",
              "    background-color: var(--hover-bg-color);\n",
              "    box-shadow: 0 1px 2px rgba(60, 64, 67, 0.3), 0 1px 3px 1px rgba(60, 64, 67, 0.15);\n",
              "    fill: var(--button-hover-fill-color);\n",
              "  }\n",
              "\n",
              "  .colab-df-quickchart-complete:disabled,\n",
              "  .colab-df-quickchart-complete:disabled:hover {\n",
              "    background-color: var(--disabled-bg-color);\n",
              "    fill: var(--disabled-fill-color);\n",
              "    box-shadow: none;\n",
              "  }\n",
              "\n",
              "  .colab-df-spinner {\n",
              "    border: 2px solid var(--fill-color);\n",
              "    border-color: transparent;\n",
              "    border-bottom-color: var(--fill-color);\n",
              "    animation:\n",
              "      spin 1s steps(1) infinite;\n",
              "  }\n",
              "\n",
              "  @keyframes spin {\n",
              "    0% {\n",
              "      border-color: transparent;\n",
              "      border-bottom-color: var(--fill-color);\n",
              "      border-left-color: var(--fill-color);\n",
              "    }\n",
              "    20% {\n",
              "      border-color: transparent;\n",
              "      border-left-color: var(--fill-color);\n",
              "      border-top-color: var(--fill-color);\n",
              "    }\n",
              "    30% {\n",
              "      border-color: transparent;\n",
              "      border-left-color: var(--fill-color);\n",
              "      border-top-color: var(--fill-color);\n",
              "      border-right-color: var(--fill-color);\n",
              "    }\n",
              "    40% {\n",
              "      border-color: transparent;\n",
              "      border-right-color: var(--fill-color);\n",
              "      border-top-color: var(--fill-color);\n",
              "    }\n",
              "    60% {\n",
              "      border-color: transparent;\n",
              "      border-right-color: var(--fill-color);\n",
              "    }\n",
              "    80% {\n",
              "      border-color: transparent;\n",
              "      border-right-color: var(--fill-color);\n",
              "      border-bottom-color: var(--fill-color);\n",
              "    }\n",
              "    90% {\n",
              "      border-color: transparent;\n",
              "      border-bottom-color: var(--fill-color);\n",
              "    }\n",
              "  }\n",
              "</style>\n",
              "\n",
              "      <script>\n",
              "        async function quickchart(key) {\n",
              "          const quickchartButtonEl =\n",
              "            document.querySelector('#' + key + ' button');\n",
              "          quickchartButtonEl.disabled = true;  // To prevent multiple clicks.\n",
              "          quickchartButtonEl.classList.add('colab-df-spinner');\n",
              "          try {\n",
              "            const charts = await google.colab.kernel.invokeFunction(\n",
              "                'suggestCharts', [key], {});\n",
              "          } catch (error) {\n",
              "            console.error('Error during call to suggestCharts:', error);\n",
              "          }\n",
              "          quickchartButtonEl.classList.remove('colab-df-spinner');\n",
              "          quickchartButtonEl.classList.add('colab-df-quickchart-complete');\n",
              "        }\n",
              "        (() => {\n",
              "          let quickchartButtonEl =\n",
              "            document.querySelector('#df-05509a81-9f55-4b9d-b174-77f426b6fa1c button');\n",
              "          quickchartButtonEl.style.display =\n",
              "            google.colab.kernel.accessAllowed ? 'block' : 'none';\n",
              "        })();\n",
              "      </script>\n",
              "    </div>\n",
              "\n",
              "    </div>\n",
              "  </div>\n"
            ],
            "application/vnd.google.colaboratory.intrinsic+json": {
              "type": "dataframe",
              "variable_name": "df"
            }
          },
          "metadata": {},
          "execution_count": 104
        }
      ]
    },
    {
      "cell_type": "code",
      "source": [
        "df.tail()"
      ],
      "metadata": {
        "colab": {
          "base_uri": "https://localhost:8080/",
          "height": 481
        },
        "id": "6klbgK2wehEL",
        "outputId": "f52bf1ab-d0eb-441a-af5e-143c1919057b"
      },
      "execution_count": 105,
      "outputs": [
        {
          "output_type": "execute_result",
          "data": {
            "text/plain": [
              "       adult                     backdrop_path belongs_to_collection  \\\n",
              "10933  False  /mU8zfCOTbahNGH0ZBTCuNdX16gj.jpg                   NaN   \n",
              "10934  False  /i6wWaGsd1PxQq9AIK29GRHt96Pv.jpg                   NaN   \n",
              "10935  False  /lSPsevGgWT3Rqc9OMTyeEsZsOpf.jpg                   NaN   \n",
              "10936  False  /3quapHSlorOsbkh0b6IgyCGIBni.jpg                   NaN   \n",
              "10937  False  /vNxtjmr4jihOlFg6g07n2Nf4xNl.jpg                   NaN   \n",
              "\n",
              "         budget                                             genres  \\\n",
              "10933  24000000  [{'id':28,'name':'Action'},{'id':80,'name':'Cr...   \n",
              "10934    650000  [{'id':27,'name':'Horror'},{'id':53,'name':'Th...   \n",
              "10935  20000000  [{'id':18,'name':'Drama'},{'id':80,'name':'Cri...   \n",
              "10936  35000000  [{'id':18,'name':'Drama'},{'id':80,'name':'Cri...   \n",
              "10937         0  [{'id':28,'name':'Action'},{'id':53,'name':'Th...   \n",
              "\n",
              "                                     homepage      id    imdb_id  \\\n",
              "10933             http://www.22bullets.co.uk/   37645  tt1167638   \n",
              "10934                                     NaN  137145  tt1877543   \n",
              "10935       http://www.21-grams.com/index.php     470  tt0315733   \n",
              "10936  http://www.sonypictures.com/movies/21/    8065  tt0478087   \n",
              "10937                                     NaN  277399  tt3481210   \n",
              "\n",
              "      original_language          original_title  ... release_date   revenue  \\\n",
              "10933                fr              L'Immortel  ...   2010-03-23         0   \n",
              "10934                pt                  247??F  ...   2011-09-01         0   \n",
              "10935                en                21 Grams  ...   2003-09-06  60427839   \n",
              "10936                en                      21  ...   2008-03-27  69823199   \n",
              "10937                it  2047 - Sights of Death  ...   2014-06-13         0   \n",
              "\n",
              "      runtime                                   spoken_languages    status  \\\n",
              "10933   115.0  [{'iso_639_1':'en','name':'English'},{'iso_639...  Released   \n",
              "10934    90.0              [{'iso_639_1':'en','name':'English'}]  Released   \n",
              "10935   124.0              [{'iso_639_1':'en','name':'English'}]  Released   \n",
              "10936   123.0              [{'iso_639_1':'en','name':'English'}]  Released   \n",
              "10937    85.0              [{'iso_639_1':'en','name':'English'}]  Released   \n",
              "\n",
              "                                                 tagline  \\\n",
              "10933                   The revenge of the Professional.   \n",
              "10934                               Every Degree Matters   \n",
              "10935                          How much does life weigh?   \n",
              "10936  They proved the Vegas Blackjack System was bea...   \n",
              "10937                                  Kill or Be Killed   \n",
              "\n",
              "                       title  video vote_average vote_count  \n",
              "10933             22 Bullets  False          6.4        489  \n",
              "10934                 247??F  False          5.2         82  \n",
              "10935               21 Grams  False          7.3       1530  \n",
              "10936                     21  False          6.6       2255  \n",
              "10937  2047: Sights of Death  False          2.7         25  \n",
              "\n",
              "[5 rows x 25 columns]"
            ],
            "text/html": [
              "\n",
              "  <div id=\"df-ca9b24e7-1c24-464b-b7d8-c0c5b41153c3\" class=\"colab-df-container\">\n",
              "    <div>\n",
              "<style scoped>\n",
              "    .dataframe tbody tr th:only-of-type {\n",
              "        vertical-align: middle;\n",
              "    }\n",
              "\n",
              "    .dataframe tbody tr th {\n",
              "        vertical-align: top;\n",
              "    }\n",
              "\n",
              "    .dataframe thead th {\n",
              "        text-align: right;\n",
              "    }\n",
              "</style>\n",
              "<table border=\"1\" class=\"dataframe\">\n",
              "  <thead>\n",
              "    <tr style=\"text-align: right;\">\n",
              "      <th></th>\n",
              "      <th>adult</th>\n",
              "      <th>backdrop_path</th>\n",
              "      <th>belongs_to_collection</th>\n",
              "      <th>budget</th>\n",
              "      <th>genres</th>\n",
              "      <th>homepage</th>\n",
              "      <th>id</th>\n",
              "      <th>imdb_id</th>\n",
              "      <th>original_language</th>\n",
              "      <th>original_title</th>\n",
              "      <th>...</th>\n",
              "      <th>release_date</th>\n",
              "      <th>revenue</th>\n",
              "      <th>runtime</th>\n",
              "      <th>spoken_languages</th>\n",
              "      <th>status</th>\n",
              "      <th>tagline</th>\n",
              "      <th>title</th>\n",
              "      <th>video</th>\n",
              "      <th>vote_average</th>\n",
              "      <th>vote_count</th>\n",
              "    </tr>\n",
              "  </thead>\n",
              "  <tbody>\n",
              "    <tr>\n",
              "      <th>10933</th>\n",
              "      <td>False</td>\n",
              "      <td>/mU8zfCOTbahNGH0ZBTCuNdX16gj.jpg</td>\n",
              "      <td>NaN</td>\n",
              "      <td>24000000</td>\n",
              "      <td>[{'id':28,'name':'Action'},{'id':80,'name':'Cr...</td>\n",
              "      <td>http://www.22bullets.co.uk/</td>\n",
              "      <td>37645</td>\n",
              "      <td>tt1167638</td>\n",
              "      <td>fr</td>\n",
              "      <td>L'Immortel</td>\n",
              "      <td>...</td>\n",
              "      <td>2010-03-23</td>\n",
              "      <td>0</td>\n",
              "      <td>115.0</td>\n",
              "      <td>[{'iso_639_1':'en','name':'English'},{'iso_639...</td>\n",
              "      <td>Released</td>\n",
              "      <td>The revenge of the Professional.</td>\n",
              "      <td>22 Bullets</td>\n",
              "      <td>False</td>\n",
              "      <td>6.4</td>\n",
              "      <td>489</td>\n",
              "    </tr>\n",
              "    <tr>\n",
              "      <th>10934</th>\n",
              "      <td>False</td>\n",
              "      <td>/i6wWaGsd1PxQq9AIK29GRHt96Pv.jpg</td>\n",
              "      <td>NaN</td>\n",
              "      <td>650000</td>\n",
              "      <td>[{'id':27,'name':'Horror'},{'id':53,'name':'Th...</td>\n",
              "      <td>NaN</td>\n",
              "      <td>137145</td>\n",
              "      <td>tt1877543</td>\n",
              "      <td>pt</td>\n",
              "      <td>247??F</td>\n",
              "      <td>...</td>\n",
              "      <td>2011-09-01</td>\n",
              "      <td>0</td>\n",
              "      <td>90.0</td>\n",
              "      <td>[{'iso_639_1':'en','name':'English'}]</td>\n",
              "      <td>Released</td>\n",
              "      <td>Every Degree Matters</td>\n",
              "      <td>247??F</td>\n",
              "      <td>False</td>\n",
              "      <td>5.2</td>\n",
              "      <td>82</td>\n",
              "    </tr>\n",
              "    <tr>\n",
              "      <th>10935</th>\n",
              "      <td>False</td>\n",
              "      <td>/lSPsevGgWT3Rqc9OMTyeEsZsOpf.jpg</td>\n",
              "      <td>NaN</td>\n",
              "      <td>20000000</td>\n",
              "      <td>[{'id':18,'name':'Drama'},{'id':80,'name':'Cri...</td>\n",
              "      <td>http://www.21-grams.com/index.php</td>\n",
              "      <td>470</td>\n",
              "      <td>tt0315733</td>\n",
              "      <td>en</td>\n",
              "      <td>21 Grams</td>\n",
              "      <td>...</td>\n",
              "      <td>2003-09-06</td>\n",
              "      <td>60427839</td>\n",
              "      <td>124.0</td>\n",
              "      <td>[{'iso_639_1':'en','name':'English'}]</td>\n",
              "      <td>Released</td>\n",
              "      <td>How much does life weigh?</td>\n",
              "      <td>21 Grams</td>\n",
              "      <td>False</td>\n",
              "      <td>7.3</td>\n",
              "      <td>1530</td>\n",
              "    </tr>\n",
              "    <tr>\n",
              "      <th>10936</th>\n",
              "      <td>False</td>\n",
              "      <td>/3quapHSlorOsbkh0b6IgyCGIBni.jpg</td>\n",
              "      <td>NaN</td>\n",
              "      <td>35000000</td>\n",
              "      <td>[{'id':18,'name':'Drama'},{'id':80,'name':'Cri...</td>\n",
              "      <td>http://www.sonypictures.com/movies/21/</td>\n",
              "      <td>8065</td>\n",
              "      <td>tt0478087</td>\n",
              "      <td>en</td>\n",
              "      <td>21</td>\n",
              "      <td>...</td>\n",
              "      <td>2008-03-27</td>\n",
              "      <td>69823199</td>\n",
              "      <td>123.0</td>\n",
              "      <td>[{'iso_639_1':'en','name':'English'}]</td>\n",
              "      <td>Released</td>\n",
              "      <td>They proved the Vegas Blackjack System was bea...</td>\n",
              "      <td>21</td>\n",
              "      <td>False</td>\n",
              "      <td>6.6</td>\n",
              "      <td>2255</td>\n",
              "    </tr>\n",
              "    <tr>\n",
              "      <th>10937</th>\n",
              "      <td>False</td>\n",
              "      <td>/vNxtjmr4jihOlFg6g07n2Nf4xNl.jpg</td>\n",
              "      <td>NaN</td>\n",
              "      <td>0</td>\n",
              "      <td>[{'id':28,'name':'Action'},{'id':53,'name':'Th...</td>\n",
              "      <td>NaN</td>\n",
              "      <td>277399</td>\n",
              "      <td>tt3481210</td>\n",
              "      <td>it</td>\n",
              "      <td>2047 - Sights of Death</td>\n",
              "      <td>...</td>\n",
              "      <td>2014-06-13</td>\n",
              "      <td>0</td>\n",
              "      <td>85.0</td>\n",
              "      <td>[{'iso_639_1':'en','name':'English'}]</td>\n",
              "      <td>Released</td>\n",
              "      <td>Kill or Be Killed</td>\n",
              "      <td>2047: Sights of Death</td>\n",
              "      <td>False</td>\n",
              "      <td>2.7</td>\n",
              "      <td>25</td>\n",
              "    </tr>\n",
              "  </tbody>\n",
              "</table>\n",
              "<p>5 rows × 25 columns</p>\n",
              "</div>\n",
              "    <div class=\"colab-df-buttons\">\n",
              "\n",
              "  <div class=\"colab-df-container\">\n",
              "    <button class=\"colab-df-convert\" onclick=\"convertToInteractive('df-ca9b24e7-1c24-464b-b7d8-c0c5b41153c3')\"\n",
              "            title=\"Convert this dataframe to an interactive table.\"\n",
              "            style=\"display:none;\">\n",
              "\n",
              "  <svg xmlns=\"http://www.w3.org/2000/svg\" height=\"24px\" viewBox=\"0 -960 960 960\">\n",
              "    <path d=\"M120-120v-720h720v720H120Zm60-500h600v-160H180v160Zm220 220h160v-160H400v160Zm0 220h160v-160H400v160ZM180-400h160v-160H180v160Zm440 0h160v-160H620v160ZM180-180h160v-160H180v160Zm440 0h160v-160H620v160Z\"/>\n",
              "  </svg>\n",
              "    </button>\n",
              "\n",
              "  <style>\n",
              "    .colab-df-container {\n",
              "      display:flex;\n",
              "      gap: 12px;\n",
              "    }\n",
              "\n",
              "    .colab-df-convert {\n",
              "      background-color: #E8F0FE;\n",
              "      border: none;\n",
              "      border-radius: 50%;\n",
              "      cursor: pointer;\n",
              "      display: none;\n",
              "      fill: #1967D2;\n",
              "      height: 32px;\n",
              "      padding: 0 0 0 0;\n",
              "      width: 32px;\n",
              "    }\n",
              "\n",
              "    .colab-df-convert:hover {\n",
              "      background-color: #E2EBFA;\n",
              "      box-shadow: 0px 1px 2px rgba(60, 64, 67, 0.3), 0px 1px 3px 1px rgba(60, 64, 67, 0.15);\n",
              "      fill: #174EA6;\n",
              "    }\n",
              "\n",
              "    .colab-df-buttons div {\n",
              "      margin-bottom: 4px;\n",
              "    }\n",
              "\n",
              "    [theme=dark] .colab-df-convert {\n",
              "      background-color: #3B4455;\n",
              "      fill: #D2E3FC;\n",
              "    }\n",
              "\n",
              "    [theme=dark] .colab-df-convert:hover {\n",
              "      background-color: #434B5C;\n",
              "      box-shadow: 0px 1px 3px 1px rgba(0, 0, 0, 0.15);\n",
              "      filter: drop-shadow(0px 1px 2px rgba(0, 0, 0, 0.3));\n",
              "      fill: #FFFFFF;\n",
              "    }\n",
              "  </style>\n",
              "\n",
              "    <script>\n",
              "      const buttonEl =\n",
              "        document.querySelector('#df-ca9b24e7-1c24-464b-b7d8-c0c5b41153c3 button.colab-df-convert');\n",
              "      buttonEl.style.display =\n",
              "        google.colab.kernel.accessAllowed ? 'block' : 'none';\n",
              "\n",
              "      async function convertToInteractive(key) {\n",
              "        const element = document.querySelector('#df-ca9b24e7-1c24-464b-b7d8-c0c5b41153c3');\n",
              "        const dataTable =\n",
              "          await google.colab.kernel.invokeFunction('convertToInteractive',\n",
              "                                                    [key], {});\n",
              "        if (!dataTable) return;\n",
              "\n",
              "        const docLinkHtml = 'Like what you see? Visit the ' +\n",
              "          '<a target=\"_blank\" href=https://colab.research.google.com/notebooks/data_table.ipynb>data table notebook</a>'\n",
              "          + ' to learn more about interactive tables.';\n",
              "        element.innerHTML = '';\n",
              "        dataTable['output_type'] = 'display_data';\n",
              "        await google.colab.output.renderOutput(dataTable, element);\n",
              "        const docLink = document.createElement('div');\n",
              "        docLink.innerHTML = docLinkHtml;\n",
              "        element.appendChild(docLink);\n",
              "      }\n",
              "    </script>\n",
              "  </div>\n",
              "\n",
              "\n",
              "    <div id=\"df-097a906d-966b-4f8e-980d-018689b8b67f\">\n",
              "      <button class=\"colab-df-quickchart\" onclick=\"quickchart('df-097a906d-966b-4f8e-980d-018689b8b67f')\"\n",
              "                title=\"Suggest charts\"\n",
              "                style=\"display:none;\">\n",
              "\n",
              "<svg xmlns=\"http://www.w3.org/2000/svg\" height=\"24px\"viewBox=\"0 0 24 24\"\n",
              "     width=\"24px\">\n",
              "    <g>\n",
              "        <path d=\"M19 3H5c-1.1 0-2 .9-2 2v14c0 1.1.9 2 2 2h14c1.1 0 2-.9 2-2V5c0-1.1-.9-2-2-2zM9 17H7v-7h2v7zm4 0h-2V7h2v10zm4 0h-2v-4h2v4z\"/>\n",
              "    </g>\n",
              "</svg>\n",
              "      </button>\n",
              "\n",
              "<style>\n",
              "  .colab-df-quickchart {\n",
              "      --bg-color: #E8F0FE;\n",
              "      --fill-color: #1967D2;\n",
              "      --hover-bg-color: #E2EBFA;\n",
              "      --hover-fill-color: #174EA6;\n",
              "      --disabled-fill-color: #AAA;\n",
              "      --disabled-bg-color: #DDD;\n",
              "  }\n",
              "\n",
              "  [theme=dark] .colab-df-quickchart {\n",
              "      --bg-color: #3B4455;\n",
              "      --fill-color: #D2E3FC;\n",
              "      --hover-bg-color: #434B5C;\n",
              "      --hover-fill-color: #FFFFFF;\n",
              "      --disabled-bg-color: #3B4455;\n",
              "      --disabled-fill-color: #666;\n",
              "  }\n",
              "\n",
              "  .colab-df-quickchart {\n",
              "    background-color: var(--bg-color);\n",
              "    border: none;\n",
              "    border-radius: 50%;\n",
              "    cursor: pointer;\n",
              "    display: none;\n",
              "    fill: var(--fill-color);\n",
              "    height: 32px;\n",
              "    padding: 0;\n",
              "    width: 32px;\n",
              "  }\n",
              "\n",
              "  .colab-df-quickchart:hover {\n",
              "    background-color: var(--hover-bg-color);\n",
              "    box-shadow: 0 1px 2px rgba(60, 64, 67, 0.3), 0 1px 3px 1px rgba(60, 64, 67, 0.15);\n",
              "    fill: var(--button-hover-fill-color);\n",
              "  }\n",
              "\n",
              "  .colab-df-quickchart-complete:disabled,\n",
              "  .colab-df-quickchart-complete:disabled:hover {\n",
              "    background-color: var(--disabled-bg-color);\n",
              "    fill: var(--disabled-fill-color);\n",
              "    box-shadow: none;\n",
              "  }\n",
              "\n",
              "  .colab-df-spinner {\n",
              "    border: 2px solid var(--fill-color);\n",
              "    border-color: transparent;\n",
              "    border-bottom-color: var(--fill-color);\n",
              "    animation:\n",
              "      spin 1s steps(1) infinite;\n",
              "  }\n",
              "\n",
              "  @keyframes spin {\n",
              "    0% {\n",
              "      border-color: transparent;\n",
              "      border-bottom-color: var(--fill-color);\n",
              "      border-left-color: var(--fill-color);\n",
              "    }\n",
              "    20% {\n",
              "      border-color: transparent;\n",
              "      border-left-color: var(--fill-color);\n",
              "      border-top-color: var(--fill-color);\n",
              "    }\n",
              "    30% {\n",
              "      border-color: transparent;\n",
              "      border-left-color: var(--fill-color);\n",
              "      border-top-color: var(--fill-color);\n",
              "      border-right-color: var(--fill-color);\n",
              "    }\n",
              "    40% {\n",
              "      border-color: transparent;\n",
              "      border-right-color: var(--fill-color);\n",
              "      border-top-color: var(--fill-color);\n",
              "    }\n",
              "    60% {\n",
              "      border-color: transparent;\n",
              "      border-right-color: var(--fill-color);\n",
              "    }\n",
              "    80% {\n",
              "      border-color: transparent;\n",
              "      border-right-color: var(--fill-color);\n",
              "      border-bottom-color: var(--fill-color);\n",
              "    }\n",
              "    90% {\n",
              "      border-color: transparent;\n",
              "      border-bottom-color: var(--fill-color);\n",
              "    }\n",
              "  }\n",
              "</style>\n",
              "\n",
              "      <script>\n",
              "        async function quickchart(key) {\n",
              "          const quickchartButtonEl =\n",
              "            document.querySelector('#' + key + ' button');\n",
              "          quickchartButtonEl.disabled = true;  // To prevent multiple clicks.\n",
              "          quickchartButtonEl.classList.add('colab-df-spinner');\n",
              "          try {\n",
              "            const charts = await google.colab.kernel.invokeFunction(\n",
              "                'suggestCharts', [key], {});\n",
              "          } catch (error) {\n",
              "            console.error('Error during call to suggestCharts:', error);\n",
              "          }\n",
              "          quickchartButtonEl.classList.remove('colab-df-spinner');\n",
              "          quickchartButtonEl.classList.add('colab-df-quickchart-complete');\n",
              "        }\n",
              "        (() => {\n",
              "          let quickchartButtonEl =\n",
              "            document.querySelector('#df-097a906d-966b-4f8e-980d-018689b8b67f button');\n",
              "          quickchartButtonEl.style.display =\n",
              "            google.colab.kernel.accessAllowed ? 'block' : 'none';\n",
              "        })();\n",
              "      </script>\n",
              "    </div>\n",
              "\n",
              "    </div>\n",
              "  </div>\n"
            ],
            "application/vnd.google.colaboratory.intrinsic+json": {
              "type": "dataframe"
            }
          },
          "metadata": {},
          "execution_count": 105
        }
      ]
    },
    {
      "cell_type": "code",
      "source": [
        "df.shape"
      ],
      "metadata": {
        "colab": {
          "base_uri": "https://localhost:8080/"
        },
        "id": "Iz4XyykhekDK",
        "outputId": "cab414e2-0961-4381-f597-b276e3e4f5e9"
      },
      "execution_count": 106,
      "outputs": [
        {
          "output_type": "execute_result",
          "data": {
            "text/plain": [
              "(10938, 25)"
            ]
          },
          "metadata": {},
          "execution_count": 106
        }
      ]
    },
    {
      "cell_type": "code",
      "source": [
        "df.info()"
      ],
      "metadata": {
        "colab": {
          "base_uri": "https://localhost:8080/"
        },
        "id": "cWUKqTXTemWb",
        "outputId": "4ba513be-702e-48f2-b95e-5696567a3ba9"
      },
      "execution_count": 107,
      "outputs": [
        {
          "output_type": "stream",
          "name": "stdout",
          "text": [
            "<class 'pandas.core.frame.DataFrame'>\n",
            "RangeIndex: 10938 entries, 0 to 10937\n",
            "Data columns (total 25 columns):\n",
            " #   Column                 Non-Null Count  Dtype  \n",
            "---  ------                 --------------  -----  \n",
            " 0   adult                  10938 non-null  bool   \n",
            " 1   backdrop_path          10743 non-null  object \n",
            " 2   belongs_to_collection  1792 non-null   object \n",
            " 3   budget                 10938 non-null  int64  \n",
            " 4   genres                 10938 non-null  object \n",
            " 5   homepage               3620 non-null   object \n",
            " 6   id                     10938 non-null  int64  \n",
            " 7   imdb_id                10938 non-null  object \n",
            " 8   original_language      10938 non-null  object \n",
            " 9   original_title         10938 non-null  object \n",
            " 10  overview               10929 non-null  object \n",
            " 11  popularity             10938 non-null  float64\n",
            " 12  poster_path            10938 non-null  object \n",
            " 13  production_companies   10938 non-null  object \n",
            " 14  production_countries   10938 non-null  object \n",
            " 15  release_date           10938 non-null  object \n",
            " 16  revenue                10938 non-null  int64  \n",
            " 17  runtime                10847 non-null  float64\n",
            " 18  spoken_languages       10938 non-null  object \n",
            " 19  status                 10938 non-null  object \n",
            " 20  tagline                8124 non-null   object \n",
            " 21  title                  10938 non-null  object \n",
            " 22  video                  10938 non-null  bool   \n",
            " 23  vote_average           10938 non-null  float64\n",
            " 24  vote_count             10938 non-null  int64  \n",
            "dtypes: bool(2), float64(3), int64(4), object(16)\n",
            "memory usage: 1.9+ MB\n"
          ]
        }
      ]
    },
    {
      "cell_type": "code",
      "source": [
        "df.describe()"
      ],
      "metadata": {
        "colab": {
          "base_uri": "https://localhost:8080/",
          "height": 300
        },
        "id": "rxtkJhoXTCDL",
        "outputId": "7b5cad9f-a782-43ce-c771-51600df2ac22"
      },
      "execution_count": 108,
      "outputs": [
        {
          "output_type": "execute_result",
          "data": {
            "text/plain": [
              "             budget             id    popularity       revenue       runtime  \\\n",
              "count  1.093800e+04   10938.000000  10938.000000  1.093800e+04  10847.000000   \n",
              "mean   1.448654e+07  179861.979155      7.058037  4.440145e+07    101.220061   \n",
              "std    3.302808e+07  185445.506614      7.307274  1.317882e+08     20.125990   \n",
              "min    0.000000e+00       5.000000      0.600000  0.000000e+00      3.000000   \n",
              "25%    0.000000e+00   14840.000000      2.401250  0.000000e+00     90.000000   \n",
              "50%    0.000000e+00   80352.500000      5.798000  0.000000e+00     98.000000   \n",
              "75%    1.300000e+07  345937.250000      9.465500  2.221591e+07    110.000000   \n",
              "max    5.000000e+08  590084.000000    196.775000  2.787965e+09    340.000000   \n",
              "\n",
              "       vote_average    vote_count  \n",
              "count  10938.000000  10938.000000  \n",
              "mean       6.061602    677.954105  \n",
              "std        1.347820   1620.420555  \n",
              "min        0.000000      0.000000  \n",
              "25%        5.500000     19.000000  \n",
              "50%        6.200000     88.000000  \n",
              "75%        6.900000    542.000000  \n",
              "max       10.000000  21454.000000  "
            ],
            "text/html": [
              "\n",
              "  <div id=\"df-7d71c57b-d460-43b1-a3af-e02dcd1a38bb\" class=\"colab-df-container\">\n",
              "    <div>\n",
              "<style scoped>\n",
              "    .dataframe tbody tr th:only-of-type {\n",
              "        vertical-align: middle;\n",
              "    }\n",
              "\n",
              "    .dataframe tbody tr th {\n",
              "        vertical-align: top;\n",
              "    }\n",
              "\n",
              "    .dataframe thead th {\n",
              "        text-align: right;\n",
              "    }\n",
              "</style>\n",
              "<table border=\"1\" class=\"dataframe\">\n",
              "  <thead>\n",
              "    <tr style=\"text-align: right;\">\n",
              "      <th></th>\n",
              "      <th>budget</th>\n",
              "      <th>id</th>\n",
              "      <th>popularity</th>\n",
              "      <th>revenue</th>\n",
              "      <th>runtime</th>\n",
              "      <th>vote_average</th>\n",
              "      <th>vote_count</th>\n",
              "    </tr>\n",
              "  </thead>\n",
              "  <tbody>\n",
              "    <tr>\n",
              "      <th>count</th>\n",
              "      <td>1.093800e+04</td>\n",
              "      <td>10938.000000</td>\n",
              "      <td>10938.000000</td>\n",
              "      <td>1.093800e+04</td>\n",
              "      <td>10847.000000</td>\n",
              "      <td>10938.000000</td>\n",
              "      <td>10938.000000</td>\n",
              "    </tr>\n",
              "    <tr>\n",
              "      <th>mean</th>\n",
              "      <td>1.448654e+07</td>\n",
              "      <td>179861.979155</td>\n",
              "      <td>7.058037</td>\n",
              "      <td>4.440145e+07</td>\n",
              "      <td>101.220061</td>\n",
              "      <td>6.061602</td>\n",
              "      <td>677.954105</td>\n",
              "    </tr>\n",
              "    <tr>\n",
              "      <th>std</th>\n",
              "      <td>3.302808e+07</td>\n",
              "      <td>185445.506614</td>\n",
              "      <td>7.307274</td>\n",
              "      <td>1.317882e+08</td>\n",
              "      <td>20.125990</td>\n",
              "      <td>1.347820</td>\n",
              "      <td>1620.420555</td>\n",
              "    </tr>\n",
              "    <tr>\n",
              "      <th>min</th>\n",
              "      <td>0.000000e+00</td>\n",
              "      <td>5.000000</td>\n",
              "      <td>0.600000</td>\n",
              "      <td>0.000000e+00</td>\n",
              "      <td>3.000000</td>\n",
              "      <td>0.000000</td>\n",
              "      <td>0.000000</td>\n",
              "    </tr>\n",
              "    <tr>\n",
              "      <th>25%</th>\n",
              "      <td>0.000000e+00</td>\n",
              "      <td>14840.000000</td>\n",
              "      <td>2.401250</td>\n",
              "      <td>0.000000e+00</td>\n",
              "      <td>90.000000</td>\n",
              "      <td>5.500000</td>\n",
              "      <td>19.000000</td>\n",
              "    </tr>\n",
              "    <tr>\n",
              "      <th>50%</th>\n",
              "      <td>0.000000e+00</td>\n",
              "      <td>80352.500000</td>\n",
              "      <td>5.798000</td>\n",
              "      <td>0.000000e+00</td>\n",
              "      <td>98.000000</td>\n",
              "      <td>6.200000</td>\n",
              "      <td>88.000000</td>\n",
              "    </tr>\n",
              "    <tr>\n",
              "      <th>75%</th>\n",
              "      <td>1.300000e+07</td>\n",
              "      <td>345937.250000</td>\n",
              "      <td>9.465500</td>\n",
              "      <td>2.221591e+07</td>\n",
              "      <td>110.000000</td>\n",
              "      <td>6.900000</td>\n",
              "      <td>542.000000</td>\n",
              "    </tr>\n",
              "    <tr>\n",
              "      <th>max</th>\n",
              "      <td>5.000000e+08</td>\n",
              "      <td>590084.000000</td>\n",
              "      <td>196.775000</td>\n",
              "      <td>2.787965e+09</td>\n",
              "      <td>340.000000</td>\n",
              "      <td>10.000000</td>\n",
              "      <td>21454.000000</td>\n",
              "    </tr>\n",
              "  </tbody>\n",
              "</table>\n",
              "</div>\n",
              "    <div class=\"colab-df-buttons\">\n",
              "\n",
              "  <div class=\"colab-df-container\">\n",
              "    <button class=\"colab-df-convert\" onclick=\"convertToInteractive('df-7d71c57b-d460-43b1-a3af-e02dcd1a38bb')\"\n",
              "            title=\"Convert this dataframe to an interactive table.\"\n",
              "            style=\"display:none;\">\n",
              "\n",
              "  <svg xmlns=\"http://www.w3.org/2000/svg\" height=\"24px\" viewBox=\"0 -960 960 960\">\n",
              "    <path d=\"M120-120v-720h720v720H120Zm60-500h600v-160H180v160Zm220 220h160v-160H400v160Zm0 220h160v-160H400v160ZM180-400h160v-160H180v160Zm440 0h160v-160H620v160ZM180-180h160v-160H180v160Zm440 0h160v-160H620v160Z\"/>\n",
              "  </svg>\n",
              "    </button>\n",
              "\n",
              "  <style>\n",
              "    .colab-df-container {\n",
              "      display:flex;\n",
              "      gap: 12px;\n",
              "    }\n",
              "\n",
              "    .colab-df-convert {\n",
              "      background-color: #E8F0FE;\n",
              "      border: none;\n",
              "      border-radius: 50%;\n",
              "      cursor: pointer;\n",
              "      display: none;\n",
              "      fill: #1967D2;\n",
              "      height: 32px;\n",
              "      padding: 0 0 0 0;\n",
              "      width: 32px;\n",
              "    }\n",
              "\n",
              "    .colab-df-convert:hover {\n",
              "      background-color: #E2EBFA;\n",
              "      box-shadow: 0px 1px 2px rgba(60, 64, 67, 0.3), 0px 1px 3px 1px rgba(60, 64, 67, 0.15);\n",
              "      fill: #174EA6;\n",
              "    }\n",
              "\n",
              "    .colab-df-buttons div {\n",
              "      margin-bottom: 4px;\n",
              "    }\n",
              "\n",
              "    [theme=dark] .colab-df-convert {\n",
              "      background-color: #3B4455;\n",
              "      fill: #D2E3FC;\n",
              "    }\n",
              "\n",
              "    [theme=dark] .colab-df-convert:hover {\n",
              "      background-color: #434B5C;\n",
              "      box-shadow: 0px 1px 3px 1px rgba(0, 0, 0, 0.15);\n",
              "      filter: drop-shadow(0px 1px 2px rgba(0, 0, 0, 0.3));\n",
              "      fill: #FFFFFF;\n",
              "    }\n",
              "  </style>\n",
              "\n",
              "    <script>\n",
              "      const buttonEl =\n",
              "        document.querySelector('#df-7d71c57b-d460-43b1-a3af-e02dcd1a38bb button.colab-df-convert');\n",
              "      buttonEl.style.display =\n",
              "        google.colab.kernel.accessAllowed ? 'block' : 'none';\n",
              "\n",
              "      async function convertToInteractive(key) {\n",
              "        const element = document.querySelector('#df-7d71c57b-d460-43b1-a3af-e02dcd1a38bb');\n",
              "        const dataTable =\n",
              "          await google.colab.kernel.invokeFunction('convertToInteractive',\n",
              "                                                    [key], {});\n",
              "        if (!dataTable) return;\n",
              "\n",
              "        const docLinkHtml = 'Like what you see? Visit the ' +\n",
              "          '<a target=\"_blank\" href=https://colab.research.google.com/notebooks/data_table.ipynb>data table notebook</a>'\n",
              "          + ' to learn more about interactive tables.';\n",
              "        element.innerHTML = '';\n",
              "        dataTable['output_type'] = 'display_data';\n",
              "        await google.colab.output.renderOutput(dataTable, element);\n",
              "        const docLink = document.createElement('div');\n",
              "        docLink.innerHTML = docLinkHtml;\n",
              "        element.appendChild(docLink);\n",
              "      }\n",
              "    </script>\n",
              "  </div>\n",
              "\n",
              "\n",
              "    <div id=\"df-8009701d-1856-42b2-b032-c8c12b47ae28\">\n",
              "      <button class=\"colab-df-quickchart\" onclick=\"quickchart('df-8009701d-1856-42b2-b032-c8c12b47ae28')\"\n",
              "                title=\"Suggest charts\"\n",
              "                style=\"display:none;\">\n",
              "\n",
              "<svg xmlns=\"http://www.w3.org/2000/svg\" height=\"24px\"viewBox=\"0 0 24 24\"\n",
              "     width=\"24px\">\n",
              "    <g>\n",
              "        <path d=\"M19 3H5c-1.1 0-2 .9-2 2v14c0 1.1.9 2 2 2h14c1.1 0 2-.9 2-2V5c0-1.1-.9-2-2-2zM9 17H7v-7h2v7zm4 0h-2V7h2v10zm4 0h-2v-4h2v4z\"/>\n",
              "    </g>\n",
              "</svg>\n",
              "      </button>\n",
              "\n",
              "<style>\n",
              "  .colab-df-quickchart {\n",
              "      --bg-color: #E8F0FE;\n",
              "      --fill-color: #1967D2;\n",
              "      --hover-bg-color: #E2EBFA;\n",
              "      --hover-fill-color: #174EA6;\n",
              "      --disabled-fill-color: #AAA;\n",
              "      --disabled-bg-color: #DDD;\n",
              "  }\n",
              "\n",
              "  [theme=dark] .colab-df-quickchart {\n",
              "      --bg-color: #3B4455;\n",
              "      --fill-color: #D2E3FC;\n",
              "      --hover-bg-color: #434B5C;\n",
              "      --hover-fill-color: #FFFFFF;\n",
              "      --disabled-bg-color: #3B4455;\n",
              "      --disabled-fill-color: #666;\n",
              "  }\n",
              "\n",
              "  .colab-df-quickchart {\n",
              "    background-color: var(--bg-color);\n",
              "    border: none;\n",
              "    border-radius: 50%;\n",
              "    cursor: pointer;\n",
              "    display: none;\n",
              "    fill: var(--fill-color);\n",
              "    height: 32px;\n",
              "    padding: 0;\n",
              "    width: 32px;\n",
              "  }\n",
              "\n",
              "  .colab-df-quickchart:hover {\n",
              "    background-color: var(--hover-bg-color);\n",
              "    box-shadow: 0 1px 2px rgba(60, 64, 67, 0.3), 0 1px 3px 1px rgba(60, 64, 67, 0.15);\n",
              "    fill: var(--button-hover-fill-color);\n",
              "  }\n",
              "\n",
              "  .colab-df-quickchart-complete:disabled,\n",
              "  .colab-df-quickchart-complete:disabled:hover {\n",
              "    background-color: var(--disabled-bg-color);\n",
              "    fill: var(--disabled-fill-color);\n",
              "    box-shadow: none;\n",
              "  }\n",
              "\n",
              "  .colab-df-spinner {\n",
              "    border: 2px solid var(--fill-color);\n",
              "    border-color: transparent;\n",
              "    border-bottom-color: var(--fill-color);\n",
              "    animation:\n",
              "      spin 1s steps(1) infinite;\n",
              "  }\n",
              "\n",
              "  @keyframes spin {\n",
              "    0% {\n",
              "      border-color: transparent;\n",
              "      border-bottom-color: var(--fill-color);\n",
              "      border-left-color: var(--fill-color);\n",
              "    }\n",
              "    20% {\n",
              "      border-color: transparent;\n",
              "      border-left-color: var(--fill-color);\n",
              "      border-top-color: var(--fill-color);\n",
              "    }\n",
              "    30% {\n",
              "      border-color: transparent;\n",
              "      border-left-color: var(--fill-color);\n",
              "      border-top-color: var(--fill-color);\n",
              "      border-right-color: var(--fill-color);\n",
              "    }\n",
              "    40% {\n",
              "      border-color: transparent;\n",
              "      border-right-color: var(--fill-color);\n",
              "      border-top-color: var(--fill-color);\n",
              "    }\n",
              "    60% {\n",
              "      border-color: transparent;\n",
              "      border-right-color: var(--fill-color);\n",
              "    }\n",
              "    80% {\n",
              "      border-color: transparent;\n",
              "      border-right-color: var(--fill-color);\n",
              "      border-bottom-color: var(--fill-color);\n",
              "    }\n",
              "    90% {\n",
              "      border-color: transparent;\n",
              "      border-bottom-color: var(--fill-color);\n",
              "    }\n",
              "  }\n",
              "</style>\n",
              "\n",
              "      <script>\n",
              "        async function quickchart(key) {\n",
              "          const quickchartButtonEl =\n",
              "            document.querySelector('#' + key + ' button');\n",
              "          quickchartButtonEl.disabled = true;  // To prevent multiple clicks.\n",
              "          quickchartButtonEl.classList.add('colab-df-spinner');\n",
              "          try {\n",
              "            const charts = await google.colab.kernel.invokeFunction(\n",
              "                'suggestCharts', [key], {});\n",
              "          } catch (error) {\n",
              "            console.error('Error during call to suggestCharts:', error);\n",
              "          }\n",
              "          quickchartButtonEl.classList.remove('colab-df-spinner');\n",
              "          quickchartButtonEl.classList.add('colab-df-quickchart-complete');\n",
              "        }\n",
              "        (() => {\n",
              "          let quickchartButtonEl =\n",
              "            document.querySelector('#df-8009701d-1856-42b2-b032-c8c12b47ae28 button');\n",
              "          quickchartButtonEl.style.display =\n",
              "            google.colab.kernel.accessAllowed ? 'block' : 'none';\n",
              "        })();\n",
              "      </script>\n",
              "    </div>\n",
              "\n",
              "    </div>\n",
              "  </div>\n"
            ],
            "application/vnd.google.colaboratory.intrinsic+json": {
              "type": "dataframe",
              "summary": "{\n  \"name\": \"df\",\n  \"rows\": 8,\n  \"fields\": [\n    {\n      \"column\": \"budget\",\n      \"properties\": {\n        \"dtype\": \"number\",\n        \"std\": 174108382.46696475,\n        \"min\": 0.0,\n        \"max\": 500000000.0,\n        \"num_unique_values\": 6,\n        \"samples\": [\n          10938.0,\n          14486537.730115194,\n          500000000.0\n        ],\n        \"semantic_type\": \"\",\n        \"description\": \"\"\n      }\n    },\n    {\n      \"column\": \"id\",\n      \"properties\": {\n        \"dtype\": \"number\",\n        \"std\": 204865.46746465747,\n        \"min\": 5.0,\n        \"max\": 590084.0,\n        \"num_unique_values\": 8,\n        \"samples\": [\n          179861.97915523863,\n          80352.5,\n          10938.0\n        ],\n        \"semantic_type\": \"\",\n        \"description\": \"\"\n      }\n    },\n    {\n      \"column\": \"popularity\",\n      \"properties\": {\n        \"dtype\": \"number\",\n        \"std\": 3856.1625998733807,\n        \"min\": 0.6,\n        \"max\": 10938.0,\n        \"num_unique_values\": 8,\n        \"samples\": [\n          7.058036844029988,\n          5.798,\n          10938.0\n        ],\n        \"semantic_type\": \"\",\n        \"description\": \"\"\n      }\n    },\n    {\n      \"column\": \"revenue\",\n      \"properties\": {\n        \"dtype\": \"number\",\n        \"std\": 976712644.5745946,\n        \"min\": 0.0,\n        \"max\": 2787965087.0,\n        \"num_unique_values\": 6,\n        \"samples\": [\n          10938.0,\n          44401448.7110075,\n          2787965087.0\n        ],\n        \"semantic_type\": \"\",\n        \"description\": \"\"\n      }\n    },\n    {\n      \"column\": \"runtime\",\n      \"properties\": {\n        \"dtype\": \"number\",\n        \"std\": 3797.863273131914,\n        \"min\": 3.0,\n        \"max\": 10847.0,\n        \"num_unique_values\": 8,\n        \"samples\": [\n          101.22006084631695,\n          98.0,\n          10847.0\n        ],\n        \"semantic_type\": \"\",\n        \"description\": \"\"\n      }\n    },\n    {\n      \"column\": \"vote_average\",\n      \"properties\": {\n        \"dtype\": \"number\",\n        \"std\": 3865.3495223549603,\n        \"min\": 0.0,\n        \"max\": 10938.0,\n        \"num_unique_values\": 8,\n        \"samples\": [\n          6.0616017553483275,\n          6.2,\n          10938.0\n        ],\n        \"semantic_type\": \"\",\n        \"description\": \"\"\n      }\n    },\n    {\n      \"column\": \"vote_count\",\n      \"properties\": {\n        \"dtype\": \"number\",\n        \"std\": 7812.008049643808,\n        \"min\": 0.0,\n        \"max\": 21454.0,\n        \"num_unique_values\": 8,\n        \"samples\": [\n          677.9541049552021,\n          88.0,\n          10938.0\n        ],\n        \"semantic_type\": \"\",\n        \"description\": \"\"\n      }\n    }\n  ]\n}"
            }
          },
          "metadata": {},
          "execution_count": 108
        }
      ]
    },
    {
      "cell_type": "code",
      "source": [
        "df.isnull().sum()"
      ],
      "metadata": {
        "colab": {
          "base_uri": "https://localhost:8080/",
          "height": 868
        },
        "id": "uHVrYn21etlC",
        "outputId": "474cb56d-8e34-4215-ce12-1cc1205d4910"
      },
      "execution_count": 109,
      "outputs": [
        {
          "output_type": "execute_result",
          "data": {
            "text/plain": [
              "adult                       0\n",
              "backdrop_path             195\n",
              "belongs_to_collection    9146\n",
              "budget                      0\n",
              "genres                      0\n",
              "homepage                 7318\n",
              "id                          0\n",
              "imdb_id                     0\n",
              "original_language           0\n",
              "original_title              0\n",
              "overview                    9\n",
              "popularity                  0\n",
              "poster_path                 0\n",
              "production_companies        0\n",
              "production_countries        0\n",
              "release_date                0\n",
              "revenue                     0\n",
              "runtime                    91\n",
              "spoken_languages            0\n",
              "status                      0\n",
              "tagline                  2814\n",
              "title                       0\n",
              "video                       0\n",
              "vote_average                0\n",
              "vote_count                  0\n",
              "dtype: int64"
            ],
            "text/html": [
              "<div>\n",
              "<style scoped>\n",
              "    .dataframe tbody tr th:only-of-type {\n",
              "        vertical-align: middle;\n",
              "    }\n",
              "\n",
              "    .dataframe tbody tr th {\n",
              "        vertical-align: top;\n",
              "    }\n",
              "\n",
              "    .dataframe thead th {\n",
              "        text-align: right;\n",
              "    }\n",
              "</style>\n",
              "<table border=\"1\" class=\"dataframe\">\n",
              "  <thead>\n",
              "    <tr style=\"text-align: right;\">\n",
              "      <th></th>\n",
              "      <th>0</th>\n",
              "    </tr>\n",
              "  </thead>\n",
              "  <tbody>\n",
              "    <tr>\n",
              "      <th>adult</th>\n",
              "      <td>0</td>\n",
              "    </tr>\n",
              "    <tr>\n",
              "      <th>backdrop_path</th>\n",
              "      <td>195</td>\n",
              "    </tr>\n",
              "    <tr>\n",
              "      <th>belongs_to_collection</th>\n",
              "      <td>9146</td>\n",
              "    </tr>\n",
              "    <tr>\n",
              "      <th>budget</th>\n",
              "      <td>0</td>\n",
              "    </tr>\n",
              "    <tr>\n",
              "      <th>genres</th>\n",
              "      <td>0</td>\n",
              "    </tr>\n",
              "    <tr>\n",
              "      <th>homepage</th>\n",
              "      <td>7318</td>\n",
              "    </tr>\n",
              "    <tr>\n",
              "      <th>id</th>\n",
              "      <td>0</td>\n",
              "    </tr>\n",
              "    <tr>\n",
              "      <th>imdb_id</th>\n",
              "      <td>0</td>\n",
              "    </tr>\n",
              "    <tr>\n",
              "      <th>original_language</th>\n",
              "      <td>0</td>\n",
              "    </tr>\n",
              "    <tr>\n",
              "      <th>original_title</th>\n",
              "      <td>0</td>\n",
              "    </tr>\n",
              "    <tr>\n",
              "      <th>overview</th>\n",
              "      <td>9</td>\n",
              "    </tr>\n",
              "    <tr>\n",
              "      <th>popularity</th>\n",
              "      <td>0</td>\n",
              "    </tr>\n",
              "    <tr>\n",
              "      <th>poster_path</th>\n",
              "      <td>0</td>\n",
              "    </tr>\n",
              "    <tr>\n",
              "      <th>production_companies</th>\n",
              "      <td>0</td>\n",
              "    </tr>\n",
              "    <tr>\n",
              "      <th>production_countries</th>\n",
              "      <td>0</td>\n",
              "    </tr>\n",
              "    <tr>\n",
              "      <th>release_date</th>\n",
              "      <td>0</td>\n",
              "    </tr>\n",
              "    <tr>\n",
              "      <th>revenue</th>\n",
              "      <td>0</td>\n",
              "    </tr>\n",
              "    <tr>\n",
              "      <th>runtime</th>\n",
              "      <td>91</td>\n",
              "    </tr>\n",
              "    <tr>\n",
              "      <th>spoken_languages</th>\n",
              "      <td>0</td>\n",
              "    </tr>\n",
              "    <tr>\n",
              "      <th>status</th>\n",
              "      <td>0</td>\n",
              "    </tr>\n",
              "    <tr>\n",
              "      <th>tagline</th>\n",
              "      <td>2814</td>\n",
              "    </tr>\n",
              "    <tr>\n",
              "      <th>title</th>\n",
              "      <td>0</td>\n",
              "    </tr>\n",
              "    <tr>\n",
              "      <th>video</th>\n",
              "      <td>0</td>\n",
              "    </tr>\n",
              "    <tr>\n",
              "      <th>vote_average</th>\n",
              "      <td>0</td>\n",
              "    </tr>\n",
              "    <tr>\n",
              "      <th>vote_count</th>\n",
              "      <td>0</td>\n",
              "    </tr>\n",
              "  </tbody>\n",
              "</table>\n",
              "</div><br><label><b>dtype:</b> int64</label>"
            ]
          },
          "metadata": {},
          "execution_count": 109
        }
      ]
    },
    {
      "cell_type": "code",
      "source": [
        "df.id.nunique()"
      ],
      "metadata": {
        "colab": {
          "base_uri": "https://localhost:8080/"
        },
        "id": "pnKTlUofe-nK",
        "outputId": "82adb442-c2bb-4d7d-b61a-6f2c25ae4354"
      },
      "execution_count": 110,
      "outputs": [
        {
          "output_type": "execute_result",
          "data": {
            "text/plain": [
              "10898"
            ]
          },
          "metadata": {},
          "execution_count": 110
        }
      ]
    },
    {
      "cell_type": "code",
      "source": [
        "#removing duplicates\n",
        "df.drop_duplicates(subset='id',keep='first',inplace=True)"
      ],
      "metadata": {
        "id": "qgTAz-7nfRyK"
      },
      "execution_count": 111,
      "outputs": []
    },
    {
      "cell_type": "code",
      "source": [
        "df.shape"
      ],
      "metadata": {
        "colab": {
          "base_uri": "https://localhost:8080/"
        },
        "id": "R2fGTgpifgys",
        "outputId": "5764ae6c-26a3-4c6e-cb3b-40bd1bf2e4a2"
      },
      "execution_count": 112,
      "outputs": [
        {
          "output_type": "execute_result",
          "data": {
            "text/plain": [
              "(10898, 25)"
            ]
          },
          "metadata": {},
          "execution_count": 112
        }
      ]
    },
    {
      "cell_type": "code",
      "source": [
        "df.isnull().sum()"
      ],
      "metadata": {
        "colab": {
          "base_uri": "https://localhost:8080/",
          "height": 868
        },
        "id": "DE7VXTkkfoPG",
        "outputId": "99522aec-c399-4b07-fe07-3b20203609d7"
      },
      "execution_count": 113,
      "outputs": [
        {
          "output_type": "execute_result",
          "data": {
            "text/plain": [
              "adult                       0\n",
              "backdrop_path             192\n",
              "belongs_to_collection    9110\n",
              "budget                      0\n",
              "genres                      0\n",
              "homepage                 7295\n",
              "id                          0\n",
              "imdb_id                     0\n",
              "original_language           0\n",
              "original_title              0\n",
              "overview                    9\n",
              "popularity                  0\n",
              "poster_path                 0\n",
              "production_companies        0\n",
              "production_countries        0\n",
              "release_date                0\n",
              "revenue                     0\n",
              "runtime                    90\n",
              "spoken_languages            0\n",
              "status                      0\n",
              "tagline                  2799\n",
              "title                       0\n",
              "video                       0\n",
              "vote_average                0\n",
              "vote_count                  0\n",
              "dtype: int64"
            ],
            "text/html": [
              "<div>\n",
              "<style scoped>\n",
              "    .dataframe tbody tr th:only-of-type {\n",
              "        vertical-align: middle;\n",
              "    }\n",
              "\n",
              "    .dataframe tbody tr th {\n",
              "        vertical-align: top;\n",
              "    }\n",
              "\n",
              "    .dataframe thead th {\n",
              "        text-align: right;\n",
              "    }\n",
              "</style>\n",
              "<table border=\"1\" class=\"dataframe\">\n",
              "  <thead>\n",
              "    <tr style=\"text-align: right;\">\n",
              "      <th></th>\n",
              "      <th>0</th>\n",
              "    </tr>\n",
              "  </thead>\n",
              "  <tbody>\n",
              "    <tr>\n",
              "      <th>adult</th>\n",
              "      <td>0</td>\n",
              "    </tr>\n",
              "    <tr>\n",
              "      <th>backdrop_path</th>\n",
              "      <td>192</td>\n",
              "    </tr>\n",
              "    <tr>\n",
              "      <th>belongs_to_collection</th>\n",
              "      <td>9110</td>\n",
              "    </tr>\n",
              "    <tr>\n",
              "      <th>budget</th>\n",
              "      <td>0</td>\n",
              "    </tr>\n",
              "    <tr>\n",
              "      <th>genres</th>\n",
              "      <td>0</td>\n",
              "    </tr>\n",
              "    <tr>\n",
              "      <th>homepage</th>\n",
              "      <td>7295</td>\n",
              "    </tr>\n",
              "    <tr>\n",
              "      <th>id</th>\n",
              "      <td>0</td>\n",
              "    </tr>\n",
              "    <tr>\n",
              "      <th>imdb_id</th>\n",
              "      <td>0</td>\n",
              "    </tr>\n",
              "    <tr>\n",
              "      <th>original_language</th>\n",
              "      <td>0</td>\n",
              "    </tr>\n",
              "    <tr>\n",
              "      <th>original_title</th>\n",
              "      <td>0</td>\n",
              "    </tr>\n",
              "    <tr>\n",
              "      <th>overview</th>\n",
              "      <td>9</td>\n",
              "    </tr>\n",
              "    <tr>\n",
              "      <th>popularity</th>\n",
              "      <td>0</td>\n",
              "    </tr>\n",
              "    <tr>\n",
              "      <th>poster_path</th>\n",
              "      <td>0</td>\n",
              "    </tr>\n",
              "    <tr>\n",
              "      <th>production_companies</th>\n",
              "      <td>0</td>\n",
              "    </tr>\n",
              "    <tr>\n",
              "      <th>production_countries</th>\n",
              "      <td>0</td>\n",
              "    </tr>\n",
              "    <tr>\n",
              "      <th>release_date</th>\n",
              "      <td>0</td>\n",
              "    </tr>\n",
              "    <tr>\n",
              "      <th>revenue</th>\n",
              "      <td>0</td>\n",
              "    </tr>\n",
              "    <tr>\n",
              "      <th>runtime</th>\n",
              "      <td>90</td>\n",
              "    </tr>\n",
              "    <tr>\n",
              "      <th>spoken_languages</th>\n",
              "      <td>0</td>\n",
              "    </tr>\n",
              "    <tr>\n",
              "      <th>status</th>\n",
              "      <td>0</td>\n",
              "    </tr>\n",
              "    <tr>\n",
              "      <th>tagline</th>\n",
              "      <td>2799</td>\n",
              "    </tr>\n",
              "    <tr>\n",
              "      <th>title</th>\n",
              "      <td>0</td>\n",
              "    </tr>\n",
              "    <tr>\n",
              "      <th>video</th>\n",
              "      <td>0</td>\n",
              "    </tr>\n",
              "    <tr>\n",
              "      <th>vote_average</th>\n",
              "      <td>0</td>\n",
              "    </tr>\n",
              "    <tr>\n",
              "      <th>vote_count</th>\n",
              "      <td>0</td>\n",
              "    </tr>\n",
              "  </tbody>\n",
              "</table>\n",
              "</div><br><label><b>dtype:</b> int64</label>"
            ]
          },
          "metadata": {},
          "execution_count": 113
        }
      ]
    },
    {
      "cell_type": "code",
      "source": [
        "df.columns"
      ],
      "metadata": {
        "colab": {
          "base_uri": "https://localhost:8080/"
        },
        "id": "uAEy4MkOgoY5",
        "outputId": "e43f46da-44ae-4546-a6a9-52e4dbe05be8"
      },
      "execution_count": 114,
      "outputs": [
        {
          "output_type": "execute_result",
          "data": {
            "text/plain": [
              "Index(['adult', 'backdrop_path', 'belongs_to_collection', 'budget', 'genres',\n",
              "       'homepage', 'id', 'imdb_id', 'original_language', 'original_title',\n",
              "       'overview', 'popularity', 'poster_path', 'production_companies',\n",
              "       'production_countries', 'release_date', 'revenue', 'runtime',\n",
              "       'spoken_languages', 'status', 'tagline', 'title', 'video',\n",
              "       'vote_average', 'vote_count'],\n",
              "      dtype='object')"
            ]
          },
          "metadata": {},
          "execution_count": 114
        }
      ]
    },
    {
      "cell_type": "markdown",
      "source": [
        "1.adult"
      ],
      "metadata": {
        "id": "L8Q8ZP-HCW4D"
      }
    },
    {
      "cell_type": "code",
      "source": [
        "df.adult"
      ],
      "metadata": {
        "colab": {
          "base_uri": "https://localhost:8080/",
          "height": 458
        },
        "id": "xjnRKiPegsdH",
        "outputId": "1492f438-95c6-4e48-b160-d6d07dc1e1b8"
      },
      "execution_count": 115,
      "outputs": [
        {
          "output_type": "execute_result",
          "data": {
            "text/plain": [
              "0        False\n",
              "1        False\n",
              "2        False\n",
              "3        False\n",
              "4        False\n",
              "         ...  \n",
              "10933    False\n",
              "10934    False\n",
              "10935    False\n",
              "10936    False\n",
              "10937    False\n",
              "Name: adult, Length: 10898, dtype: bool"
            ],
            "text/html": [
              "<div>\n",
              "<style scoped>\n",
              "    .dataframe tbody tr th:only-of-type {\n",
              "        vertical-align: middle;\n",
              "    }\n",
              "\n",
              "    .dataframe tbody tr th {\n",
              "        vertical-align: top;\n",
              "    }\n",
              "\n",
              "    .dataframe thead th {\n",
              "        text-align: right;\n",
              "    }\n",
              "</style>\n",
              "<table border=\"1\" class=\"dataframe\">\n",
              "  <thead>\n",
              "    <tr style=\"text-align: right;\">\n",
              "      <th></th>\n",
              "      <th>adult</th>\n",
              "    </tr>\n",
              "  </thead>\n",
              "  <tbody>\n",
              "    <tr>\n",
              "      <th>0</th>\n",
              "      <td>False</td>\n",
              "    </tr>\n",
              "    <tr>\n",
              "      <th>1</th>\n",
              "      <td>False</td>\n",
              "    </tr>\n",
              "    <tr>\n",
              "      <th>2</th>\n",
              "      <td>False</td>\n",
              "    </tr>\n",
              "    <tr>\n",
              "      <th>3</th>\n",
              "      <td>False</td>\n",
              "    </tr>\n",
              "    <tr>\n",
              "      <th>4</th>\n",
              "      <td>False</td>\n",
              "    </tr>\n",
              "    <tr>\n",
              "      <th>...</th>\n",
              "      <td>...</td>\n",
              "    </tr>\n",
              "    <tr>\n",
              "      <th>10933</th>\n",
              "      <td>False</td>\n",
              "    </tr>\n",
              "    <tr>\n",
              "      <th>10934</th>\n",
              "      <td>False</td>\n",
              "    </tr>\n",
              "    <tr>\n",
              "      <th>10935</th>\n",
              "      <td>False</td>\n",
              "    </tr>\n",
              "    <tr>\n",
              "      <th>10936</th>\n",
              "      <td>False</td>\n",
              "    </tr>\n",
              "    <tr>\n",
              "      <th>10937</th>\n",
              "      <td>False</td>\n",
              "    </tr>\n",
              "  </tbody>\n",
              "</table>\n",
              "<p>10898 rows × 1 columns</p>\n",
              "</div><br><label><b>dtype:</b> bool</label>"
            ]
          },
          "metadata": {},
          "execution_count": 115
        }
      ]
    },
    {
      "cell_type": "code",
      "source": [
        "df.adult.unique()"
      ],
      "metadata": {
        "colab": {
          "base_uri": "https://localhost:8080/"
        },
        "id": "Aai4uAgDpoF4",
        "outputId": "a814af8f-d8b1-4d4e-b98b-5e82dd1d7d77"
      },
      "execution_count": 116,
      "outputs": [
        {
          "output_type": "execute_result",
          "data": {
            "text/plain": [
              "array([False,  True])"
            ]
          },
          "metadata": {},
          "execution_count": 116
        }
      ]
    },
    {
      "cell_type": "code",
      "source": [
        "#Categorical values into boolean\n",
        "df['adult'] = df['adult'].map({'False': 0, 'True': 1})"
      ],
      "metadata": {
        "id": "D0bxHjbppXa0"
      },
      "execution_count": 117,
      "outputs": []
    },
    {
      "cell_type": "markdown",
      "source": [
        "2.backdrop_path"
      ],
      "metadata": {
        "id": "HJFjEfUDCejC"
      }
    },
    {
      "cell_type": "code",
      "source": [
        "df['backdrop_path']"
      ],
      "metadata": {
        "colab": {
          "base_uri": "https://localhost:8080/",
          "height": 458
        },
        "id": "wFZNP7nrp1YM",
        "outputId": "7d2e9f47-b186-4be2-d61f-cbb38ac1a238"
      },
      "execution_count": 118,
      "outputs": [
        {
          "output_type": "execute_result",
          "data": {
            "text/plain": [
              "0        /w8crvpc3KisHMH72Da5ktwHf6rY.jpg\n",
              "1        /w7MsyOpP003FYhsiTgVHa3rNsrz.jpg\n",
              "2        /jMBXArRB02mFB5H4qZIZwojeG1S.jpg\n",
              "3        /u2fwkirPOiYzmYgtGbInPQtpQo0.jpg\n",
              "4        /7JUshKTF1oM9exGlRltube4cuQ7.jpg\n",
              "                       ...               \n",
              "10933    /mU8zfCOTbahNGH0ZBTCuNdX16gj.jpg\n",
              "10934    /i6wWaGsd1PxQq9AIK29GRHt96Pv.jpg\n",
              "10935    /lSPsevGgWT3Rqc9OMTyeEsZsOpf.jpg\n",
              "10936    /3quapHSlorOsbkh0b6IgyCGIBni.jpg\n",
              "10937    /vNxtjmr4jihOlFg6g07n2Nf4xNl.jpg\n",
              "Name: backdrop_path, Length: 10898, dtype: object"
            ],
            "text/html": [
              "<div>\n",
              "<style scoped>\n",
              "    .dataframe tbody tr th:only-of-type {\n",
              "        vertical-align: middle;\n",
              "    }\n",
              "\n",
              "    .dataframe tbody tr th {\n",
              "        vertical-align: top;\n",
              "    }\n",
              "\n",
              "    .dataframe thead th {\n",
              "        text-align: right;\n",
              "    }\n",
              "</style>\n",
              "<table border=\"1\" class=\"dataframe\">\n",
              "  <thead>\n",
              "    <tr style=\"text-align: right;\">\n",
              "      <th></th>\n",
              "      <th>backdrop_path</th>\n",
              "    </tr>\n",
              "  </thead>\n",
              "  <tbody>\n",
              "    <tr>\n",
              "      <th>0</th>\n",
              "      <td>/w8crvpc3KisHMH72Da5ktwHf6rY.jpg</td>\n",
              "    </tr>\n",
              "    <tr>\n",
              "      <th>1</th>\n",
              "      <td>/w7MsyOpP003FYhsiTgVHa3rNsrz.jpg</td>\n",
              "    </tr>\n",
              "    <tr>\n",
              "      <th>2</th>\n",
              "      <td>/jMBXArRB02mFB5H4qZIZwojeG1S.jpg</td>\n",
              "    </tr>\n",
              "    <tr>\n",
              "      <th>3</th>\n",
              "      <td>/u2fwkirPOiYzmYgtGbInPQtpQo0.jpg</td>\n",
              "    </tr>\n",
              "    <tr>\n",
              "      <th>4</th>\n",
              "      <td>/7JUshKTF1oM9exGlRltube4cuQ7.jpg</td>\n",
              "    </tr>\n",
              "    <tr>\n",
              "      <th>...</th>\n",
              "      <td>...</td>\n",
              "    </tr>\n",
              "    <tr>\n",
              "      <th>10933</th>\n",
              "      <td>/mU8zfCOTbahNGH0ZBTCuNdX16gj.jpg</td>\n",
              "    </tr>\n",
              "    <tr>\n",
              "      <th>10934</th>\n",
              "      <td>/i6wWaGsd1PxQq9AIK29GRHt96Pv.jpg</td>\n",
              "    </tr>\n",
              "    <tr>\n",
              "      <th>10935</th>\n",
              "      <td>/lSPsevGgWT3Rqc9OMTyeEsZsOpf.jpg</td>\n",
              "    </tr>\n",
              "    <tr>\n",
              "      <th>10936</th>\n",
              "      <td>/3quapHSlorOsbkh0b6IgyCGIBni.jpg</td>\n",
              "    </tr>\n",
              "    <tr>\n",
              "      <th>10937</th>\n",
              "      <td>/vNxtjmr4jihOlFg6g07n2Nf4xNl.jpg</td>\n",
              "    </tr>\n",
              "  </tbody>\n",
              "</table>\n",
              "<p>10898 rows × 1 columns</p>\n",
              "</div><br><label><b>dtype:</b> object</label>"
            ]
          },
          "metadata": {},
          "execution_count": 118
        }
      ]
    },
    {
      "cell_type": "code",
      "source": [
        "df['backdrop_path'].unique()"
      ],
      "metadata": {
        "colab": {
          "base_uri": "https://localhost:8080/"
        },
        "id": "_qE43RsUqxiL",
        "outputId": "e07a13ff-f091-47bb-d1eb-0ba982e3470e"
      },
      "execution_count": 119,
      "outputs": [
        {
          "output_type": "execute_result",
          "data": {
            "text/plain": [
              "array(['/w8crvpc3KisHMH72Da5ktwHf6rY.jpg',\n",
              "       '/w7MsyOpP003FYhsiTgVHa3rNsrz.jpg',\n",
              "       '/jMBXArRB02mFB5H4qZIZwojeG1S.jpg', ...,\n",
              "       '/lSPsevGgWT3Rqc9OMTyeEsZsOpf.jpg',\n",
              "       '/3quapHSlorOsbkh0b6IgyCGIBni.jpg',\n",
              "       '/vNxtjmr4jihOlFg6g07n2Nf4xNl.jpg'], dtype=object)"
            ]
          },
          "metadata": {},
          "execution_count": 119
        }
      ]
    },
    {
      "cell_type": "code",
      "source": [
        "#backdrop_path is not useful for analysis and remove column\n",
        "df.drop(columns=['backdrop_path'], inplace=True)"
      ],
      "metadata": {
        "id": "1F0NOJxlrCru"
      },
      "execution_count": 120,
      "outputs": []
    },
    {
      "cell_type": "markdown",
      "source": [
        "3.belongs_to_collection"
      ],
      "metadata": {
        "id": "pd9D8aljCqvo"
      }
    },
    {
      "cell_type": "code",
      "source": [
        "df['belongs_to_collection']"
      ],
      "metadata": {
        "colab": {
          "base_uri": "https://localhost:8080/",
          "height": 458
        },
        "id": "racTZsv4rSMF",
        "outputId": "eab57c04-58f6-49da-99a3-a70ca7f877d9"
      },
      "execution_count": 121,
      "outputs": [
        {
          "output_type": "execute_result",
          "data": {
            "text/plain": [
              "0                                                      NaN\n",
              "1                                                      NaN\n",
              "2        {'id':124901,'name':'Hatchet Collection','post...\n",
              "3        {'id':124950,'name':'American Graffiti Collect...\n",
              "4        {'id':93369,'name':'Ringu Collection','poster_...\n",
              "                               ...                        \n",
              "10933                                                  NaN\n",
              "10934                                                  NaN\n",
              "10935                                                  NaN\n",
              "10936                                                  NaN\n",
              "10937                                                  NaN\n",
              "Name: belongs_to_collection, Length: 10898, dtype: object"
            ],
            "text/html": [
              "<div>\n",
              "<style scoped>\n",
              "    .dataframe tbody tr th:only-of-type {\n",
              "        vertical-align: middle;\n",
              "    }\n",
              "\n",
              "    .dataframe tbody tr th {\n",
              "        vertical-align: top;\n",
              "    }\n",
              "\n",
              "    .dataframe thead th {\n",
              "        text-align: right;\n",
              "    }\n",
              "</style>\n",
              "<table border=\"1\" class=\"dataframe\">\n",
              "  <thead>\n",
              "    <tr style=\"text-align: right;\">\n",
              "      <th></th>\n",
              "      <th>belongs_to_collection</th>\n",
              "    </tr>\n",
              "  </thead>\n",
              "  <tbody>\n",
              "    <tr>\n",
              "      <th>0</th>\n",
              "      <td>NaN</td>\n",
              "    </tr>\n",
              "    <tr>\n",
              "      <th>1</th>\n",
              "      <td>NaN</td>\n",
              "    </tr>\n",
              "    <tr>\n",
              "      <th>2</th>\n",
              "      <td>{'id':124901,'name':'Hatchet Collection','post...</td>\n",
              "    </tr>\n",
              "    <tr>\n",
              "      <th>3</th>\n",
              "      <td>{'id':124950,'name':'American Graffiti Collect...</td>\n",
              "    </tr>\n",
              "    <tr>\n",
              "      <th>4</th>\n",
              "      <td>{'id':93369,'name':'Ringu Collection','poster_...</td>\n",
              "    </tr>\n",
              "    <tr>\n",
              "      <th>...</th>\n",
              "      <td>...</td>\n",
              "    </tr>\n",
              "    <tr>\n",
              "      <th>10933</th>\n",
              "      <td>NaN</td>\n",
              "    </tr>\n",
              "    <tr>\n",
              "      <th>10934</th>\n",
              "      <td>NaN</td>\n",
              "    </tr>\n",
              "    <tr>\n",
              "      <th>10935</th>\n",
              "      <td>NaN</td>\n",
              "    </tr>\n",
              "    <tr>\n",
              "      <th>10936</th>\n",
              "      <td>NaN</td>\n",
              "    </tr>\n",
              "    <tr>\n",
              "      <th>10937</th>\n",
              "      <td>NaN</td>\n",
              "    </tr>\n",
              "  </tbody>\n",
              "</table>\n",
              "<p>10898 rows × 1 columns</p>\n",
              "</div><br><label><b>dtype:</b> object</label>"
            ]
          },
          "metadata": {},
          "execution_count": 121
        }
      ]
    },
    {
      "cell_type": "code",
      "source": [
        "df['belongs_to_collection'].head().unique()"
      ],
      "metadata": {
        "colab": {
          "base_uri": "https://localhost:8080/"
        },
        "id": "sv_acQqAsJ8v",
        "outputId": "e3265e83-9bb4-4cd9-e2eb-0cbef63529ce"
      },
      "execution_count": 122,
      "outputs": [
        {
          "output_type": "execute_result",
          "data": {
            "text/plain": [
              "array([nan,\n",
              "       \"{'id':124901,'name':'Hatchet Collection','poster_path':'/3Y0JXGlLLYjlHVWUS50uwkSlxpL.jpg','backdrop_path':'/f3q5nrEJrhRFr0c2proh8Q9x4xx.jpg'}\",\n",
              "       \"{'id':124950,'name':'American Graffiti Collection','poster_path':'/nXbscwjttQTQ5OWskK7TSi5CSpH.jpg','backdrop_path':'/fkQH8aHqLpdDYXyCXdqRgYOhsoN.jpg'}\",\n",
              "       \"{'id':93369,'name':'Ringu Collection','poster_path':'/eQX9SK5WPdsKWRGLfga4w9KuskV.jpg','backdrop_path':'/aS42DTtR6UYNLfKdKJBKYL1OS1U.jpg'}\"],\n",
              "      dtype=object)"
            ]
          },
          "metadata": {},
          "execution_count": 122
        }
      ]
    },
    {
      "cell_type": "code",
      "source": [
        "df['belongs_to_collection'].isnull().sum()"
      ],
      "metadata": {
        "colab": {
          "base_uri": "https://localhost:8080/"
        },
        "id": "Ahx6dC-nrdhc",
        "outputId": "02e3ce1d-2c7b-4324-c56d-00a69534558e"
      },
      "execution_count": 123,
      "outputs": [
        {
          "output_type": "execute_result",
          "data": {
            "text/plain": [
              "np.int64(9110)"
            ]
          },
          "metadata": {},
          "execution_count": 123
        }
      ]
    },
    {
      "cell_type": "code",
      "source": [
        "#handling missing values\n",
        "#NaN - 0  and belongs_collection - 1\n",
        "# Create in_collection\n",
        "df['in_collection'] = df['belongs_to_collection'].notnull().astype(int)\n",
        "df.drop(columns=['belongs_to_collection'], inplace=True)\n",
        "df['in_collection']"
      ],
      "metadata": {
        "id": "a9vMq_L0r_3Z",
        "colab": {
          "base_uri": "https://localhost:8080/",
          "height": 458
        },
        "outputId": "5bd003b6-3e1e-41ce-b025-47509ee04109"
      },
      "execution_count": 124,
      "outputs": [
        {
          "output_type": "execute_result",
          "data": {
            "text/plain": [
              "0        0\n",
              "1        0\n",
              "2        1\n",
              "3        1\n",
              "4        1\n",
              "        ..\n",
              "10933    0\n",
              "10934    0\n",
              "10935    0\n",
              "10936    0\n",
              "10937    0\n",
              "Name: in_collection, Length: 10898, dtype: int64"
            ],
            "text/html": [
              "<div>\n",
              "<style scoped>\n",
              "    .dataframe tbody tr th:only-of-type {\n",
              "        vertical-align: middle;\n",
              "    }\n",
              "\n",
              "    .dataframe tbody tr th {\n",
              "        vertical-align: top;\n",
              "    }\n",
              "\n",
              "    .dataframe thead th {\n",
              "        text-align: right;\n",
              "    }\n",
              "</style>\n",
              "<table border=\"1\" class=\"dataframe\">\n",
              "  <thead>\n",
              "    <tr style=\"text-align: right;\">\n",
              "      <th></th>\n",
              "      <th>in_collection</th>\n",
              "    </tr>\n",
              "  </thead>\n",
              "  <tbody>\n",
              "    <tr>\n",
              "      <th>0</th>\n",
              "      <td>0</td>\n",
              "    </tr>\n",
              "    <tr>\n",
              "      <th>1</th>\n",
              "      <td>0</td>\n",
              "    </tr>\n",
              "    <tr>\n",
              "      <th>2</th>\n",
              "      <td>1</td>\n",
              "    </tr>\n",
              "    <tr>\n",
              "      <th>3</th>\n",
              "      <td>1</td>\n",
              "    </tr>\n",
              "    <tr>\n",
              "      <th>4</th>\n",
              "      <td>1</td>\n",
              "    </tr>\n",
              "    <tr>\n",
              "      <th>...</th>\n",
              "      <td>...</td>\n",
              "    </tr>\n",
              "    <tr>\n",
              "      <th>10933</th>\n",
              "      <td>0</td>\n",
              "    </tr>\n",
              "    <tr>\n",
              "      <th>10934</th>\n",
              "      <td>0</td>\n",
              "    </tr>\n",
              "    <tr>\n",
              "      <th>10935</th>\n",
              "      <td>0</td>\n",
              "    </tr>\n",
              "    <tr>\n",
              "      <th>10936</th>\n",
              "      <td>0</td>\n",
              "    </tr>\n",
              "    <tr>\n",
              "      <th>10937</th>\n",
              "      <td>0</td>\n",
              "    </tr>\n",
              "  </tbody>\n",
              "</table>\n",
              "<p>10898 rows × 1 columns</p>\n",
              "</div><br><label><b>dtype:</b> int64</label>"
            ]
          },
          "metadata": {},
          "execution_count": 124
        }
      ]
    },
    {
      "cell_type": "markdown",
      "source": [
        "4.budget"
      ],
      "metadata": {
        "id": "vgXuR6T6ENjU"
      }
    },
    {
      "cell_type": "code",
      "source": [
        "df['budget']"
      ],
      "metadata": {
        "colab": {
          "base_uri": "https://localhost:8080/",
          "height": 458
        },
        "id": "cC3zAdA2tgi2",
        "outputId": "2bdaf025-6e34-4678-dfed-f73e19ea33f2"
      },
      "execution_count": 125,
      "outputs": [
        {
          "output_type": "execute_result",
          "data": {
            "text/plain": [
              "0               0\n",
              "1        18000000\n",
              "2               0\n",
              "3          777000\n",
              "4         6000000\n",
              "           ...   \n",
              "10933    24000000\n",
              "10934      650000\n",
              "10935    20000000\n",
              "10936    35000000\n",
              "10937           0\n",
              "Name: budget, Length: 10898, dtype: int64"
            ],
            "text/html": [
              "<div>\n",
              "<style scoped>\n",
              "    .dataframe tbody tr th:only-of-type {\n",
              "        vertical-align: middle;\n",
              "    }\n",
              "\n",
              "    .dataframe tbody tr th {\n",
              "        vertical-align: top;\n",
              "    }\n",
              "\n",
              "    .dataframe thead th {\n",
              "        text-align: right;\n",
              "    }\n",
              "</style>\n",
              "<table border=\"1\" class=\"dataframe\">\n",
              "  <thead>\n",
              "    <tr style=\"text-align: right;\">\n",
              "      <th></th>\n",
              "      <th>budget</th>\n",
              "    </tr>\n",
              "  </thead>\n",
              "  <tbody>\n",
              "    <tr>\n",
              "      <th>0</th>\n",
              "      <td>0</td>\n",
              "    </tr>\n",
              "    <tr>\n",
              "      <th>1</th>\n",
              "      <td>18000000</td>\n",
              "    </tr>\n",
              "    <tr>\n",
              "      <th>2</th>\n",
              "      <td>0</td>\n",
              "    </tr>\n",
              "    <tr>\n",
              "      <th>3</th>\n",
              "      <td>777000</td>\n",
              "    </tr>\n",
              "    <tr>\n",
              "      <th>4</th>\n",
              "      <td>6000000</td>\n",
              "    </tr>\n",
              "    <tr>\n",
              "      <th>...</th>\n",
              "      <td>...</td>\n",
              "    </tr>\n",
              "    <tr>\n",
              "      <th>10933</th>\n",
              "      <td>24000000</td>\n",
              "    </tr>\n",
              "    <tr>\n",
              "      <th>10934</th>\n",
              "      <td>650000</td>\n",
              "    </tr>\n",
              "    <tr>\n",
              "      <th>10935</th>\n",
              "      <td>20000000</td>\n",
              "    </tr>\n",
              "    <tr>\n",
              "      <th>10936</th>\n",
              "      <td>35000000</td>\n",
              "    </tr>\n",
              "    <tr>\n",
              "      <th>10937</th>\n",
              "      <td>0</td>\n",
              "    </tr>\n",
              "  </tbody>\n",
              "</table>\n",
              "<p>10898 rows × 1 columns</p>\n",
              "</div><br><label><b>dtype:</b> int64</label>"
            ]
          },
          "metadata": {},
          "execution_count": 125
        }
      ]
    },
    {
      "cell_type": "code",
      "source": [
        "df['budget'].unique()"
      ],
      "metadata": {
        "colab": {
          "base_uri": "https://localhost:8080/"
        },
        "id": "JViyzVY-tl2n",
        "outputId": "26a5d9cb-7194-4283-940a-9eb79687653f"
      },
      "execution_count": 126,
      "outputs": [
        {
          "output_type": "execute_result",
          "data": {
            "text/plain": [
              "array([        0,  18000000,    777000,   6000000,  50000000,  17500000,\n",
              "         2000000,  20000000,   1750000,      1000,   5000000,      1600,\n",
              "         1300000,  15000000,  22000000,   3000000,     10000,        12,\n",
              "         1730000, 135000000,   2500000,  41677699,  16000000,  12000000,\n",
              "         4500000,    180000,  10000000,   7000000,  65000000,  17000000,\n",
              "        60000000,    395168,  25000000,   1073000,   1000000,   4000000,\n",
              "        42000000,   1800000,   1500000,    300000,    500000,    120000,\n",
              "       160000000,  30000000,  29000000, 130000000,    750000,   3716946,\n",
              "           17000,   4100000, 100000000,  53000000,  14000000,  35000000,\n",
              "              90,    950000,   5500000,    190000,    450000,     15000,\n",
              "        90000000,   1600000,    780000,  13000000,  48000000,  23000000,\n",
              "         9000000,   7700000, 200000000,   2800000,   8500000,   3500000,\n",
              "         3200000,   8000000,   6500000,   2300000, 175000000,  12716953,\n",
              "           85000,         2,     30000,         3,    250000,     18000,\n",
              "         9260980,    220000,   2940457,  26000000,  38000000,  38272500,\n",
              "        21000000,   7080000,   1020000,  43000000,  19000000,   6400000,\n",
              "         1200000,   7500000,   1380000,    175000,  12800000,  45000000,\n",
              "          114000,  75000000,   4552700,  52000000,  40000000, 120000000,\n",
              "          600000,  25400000,  27000000,    433000,   4700000,  11800000,\n",
              "         1158003,   2054738,  31000000,  36000000,  19116000,         8,\n",
              "          400000,         4,    103000,   6453637,         6,    355000,\n",
              "               1,     25000,    100000,   5027266,  12500000,    910000,\n",
              "         2600000,   1700000,  13938143,   9023199,    873000,    322000,\n",
              "        32000000,         5,   2393600,    143000,   1669597,    126580,\n",
              "           29595,  19800000,  13500000,  11500000,  25530000,    314701,\n",
              "         6300000,   9800000,  70000000,    630009,   3400000,  11318430,\n",
              "          350000,      3000,   2100000,   3383890,     50000, 116000000,\n",
              "         1900000,  88000000,   4300000,   1455000,    640451,    200000,\n",
              "         2883848,   1207520,   5100000,  12850990,  11000000,     40000,\n",
              "          146140,      8000,  55000000,      2000,    520000, 178000000,\n",
              "          900000,   7834998,    886000,   4161012,       180,   4954000,\n",
              "        24000000,  80000000,  18300000,  24100000,       300,        30,\n",
              "        62000000, 150000000,   6829782,       250,  47000000,  84000000,\n",
              "        28000000,  51000000,  14700000,   3082000,   8200000,  30250000,\n",
              "        16723043,  21918618,    700000,     92000,   1403910,    310000,\n",
              "               7,    360000,   1488423,  34000000,   9831962, 140000000,\n",
              "            4000,    800000,    150000,   1549000,   1050000,   6800000,\n",
              "        10400000,   3598902,    947000,   8250000,    656000,   2723903,\n",
              "       250000000,   4800000,  12840746,    145786,   1060000,    458211,\n",
              "       125000000,   1850000,    658000,   5019770,   6200000, 170000000,\n",
              "         4400000,   2200000,   5773100,     20000,      6000,  72000000,\n",
              "        95000000, 149000000,   9804690,    147983,   1100000,    106000,\n",
              "          650000,       200,  37000000,   3300000,   4317946,  44000000,\n",
              "        58000000, 110000000,   8575000,  18339750, 300000000,  66190000,\n",
              "         4200000,  14500000,      7000,   7405000,   4642619,   1683000,\n",
              "          340000,     90000,   4531653,  57000000,    525000,   7800000,\n",
              "         5610000,      5000,   2342264,    478375,   3582070,     46000,\n",
              "          308205,  10778400,   4667008,    581075,   6600000,  62770198,\n",
              "          795000,   7750000,   7154497,   7806306,    410000,        80,\n",
              "             500,  25697387,  59000000,   4900000,       101,   3600000,\n",
              "         1839169,    275000, 103000000,    960000,  24500000,   2331302,\n",
              "        94000000,    825000,     60000,   2962051,    225000,   4480393,\n",
              "          375000,  14390509,  92620000,  69000000,    133000,    927262,\n",
              "        19700000,  25477000,   2900000,   3800000,   1752000,   2395510,\n",
              "        13200000,   3700000,  31500000,    230000,   6700000,    731000,\n",
              "        13400000,  13600000,    255000,   8900000,   1400000,   1480000,\n",
              "        15100000,  82000000,  68490000,  73000000,    130000,   4250000,\n",
              "        68000000,  16600000,    420000,    140000,  19500000, 111000000,\n",
              "         3100000,    743900,   2408070,   1328931, 500000000,   7974534,\n",
              "         5741614, 180000000,    978000,    315000, 104000000,  33000000,\n",
              "       177200000,   7390000,        50,  28210303,       575,  32679734,\n",
              "        10500000,   1288000, 217000000, 230000000,    916000,    783000,\n",
              "        97000000,   1282545,   8138338,   5200000, 185000000,  56000000,\n",
              "        11795877,    176199,       120,   9500000,   1880006,     32000,\n",
              "         5800000,  85000000,     45000,   8620000,    813000,     11000,\n",
              "         7400000,  46000000, 108000000,   8700000,   1150118,    764700,\n",
              "       166000000,  22500000,   6229577,   1271000,   5005600,   1250000,\n",
              "         2700000,   9900000,  21500000,        21,   8820000, 176000000,\n",
              "       165000000,   3705538, 105000000, 144000000,   2650000, 240000000,\n",
              "         2480421,   2011799, 115000000,  25485000,  39000000,  16500000,\n",
              "        67000000,   1645000, 145000000,     31192,       855,  18500000,\n",
              "          210000,   2540800,   1650000,  64000000,    560000,   7200000,\n",
              "         5760000,  14100000,  49900000,    245000,     80000,  12796917,\n",
              "           35000,        75,   3520000, 245000000,   9400000,     70000,\n",
              "          134000,   1103000,     62000,       768,  99000000,  11930000,\n",
              "          937000,   8045760,     64000,    980000,  70200000,  87000000,\n",
              "         3500159,   2090000,   9600000,  13800000,   2240000,  16400000,\n",
              "        18200000,  49000000,  61000000,  13360000,    531374, 280000000,\n",
              "        74000000,  12700000, 190000000,  14800000,   2250000, 155000000,\n",
              "         1746964,  17700000,   2175000,  23600000,  12300000,    185000,\n",
              "           63500,    125000,  54000000, 210000000,  12600000,    761100,\n",
              "        10831173,  15600000,   5952000,   2479000,       260, 132000000,\n",
              "        66000000,   5641880,  13300000,  92000000,  29500000,    625000,\n",
              "             650, 195000000,  40600000,    640000,   1805000,    179000,\n",
              "         2380000,   1688000,   2777000,    658625,   4600000,    135000,\n",
              "          965000,     13000,   3730500,   4668069,  22997992,     75000,\n",
              "        12250000,   9250000,  37931000,       600,    156660,  98000000,\n",
              "        79000000,  93000000, 255000000,  63000000,  78000000,   9750000,\n",
              "        41000000,    567000,    425000,   4550000,       113, 126000000,\n",
              "        11700000,    923000,   3352254,  27220000,  17759769,  19100000,\n",
              "         1754000,  21169000,   4798235, 220000000, 215000000,  46630000,\n",
              "        50200000, 102000000,   8400000, 260000000,  72500000, 270000000,\n",
              "              97, 133000000,  32350000, 113000000, 258000000, 139000000,\n",
              "          463455,  22700000,  39200000,   1065000,     72000,  10800000,\n",
              "         1530000,    160000,    325000,  17900000,    530000,   1910000,\n",
              "        20500000,    806948,        18,  26500000,  10700000,        10,\n",
              "       380000000,        15,  83000000,    935000,   5300000,   2133000,\n",
              "        27500000,        20, 127000000,   5900000,  52500000,   2410000,\n",
              "         5060730,  82343495, 225000000,    590235,    343000,   2135161,\n",
              "        16800000,   3440000,   1350000,   3250000,     45202,   2400000,\n",
              "          930000,  26350000, 117000000,  81000000, 207000000,   1030064,\n",
              "       176000003,   3180000,  11715578,  12902809,  24665810,   4275000,\n",
              "          170000, 137000000, 123000000,    270000,   6900000,  10200000,\n",
              "         5860000,     23000,   9300000,   7300000, 112000000,  14600000,\n",
              "             114,   3150000,  63600000,   1814462,     42000,    550000,\n",
              "          967686,  50100000,    374000,   2280000,   6727000,      9092,\n",
              "          125687,   1340000,  51500000,  78146652,    812000,  71000000,\n",
              "         1150000, 127500000,  76000000,   7920000,         9,   1420000,\n",
              "       163000000,    850000,  82500000,     27000,    839727,    500001,\n",
              "          878000,   1987650,     24000,    348164,  32500000,    475000,\n",
              "        25500000,     24500,  15774948,  34200000,   7347125,        89,\n",
              "        10900000, 209000000,    858000, 237000000,  14350531,    123690,\n",
              "        86000000,  44500000,        45,  58800000,   4357373, 107000000,\n",
              "         1821052,   1493619,   3900000,    439000])"
            ]
          },
          "metadata": {},
          "execution_count": 126
        }
      ]
    },
    {
      "cell_type": "code",
      "source": [
        "# Budget: convert and clean\n",
        "df['budget'] = pd.to_numeric(df['budget'], errors='coerce')\n",
        "df.loc[df['budget'] < 10000, 'budget'] = np.nan\n",
        "df['budget_filled'] = df['budget'].fillna(df['budget'].median())"
      ],
      "metadata": {
        "id": "pVyJMx4XJ_j4"
      },
      "execution_count": 127,
      "outputs": []
    },
    {
      "cell_type": "code",
      "source": [
        "def budget_category(budget):\n",
        "    if pd.isna(budget):\n",
        "        return 'Unknown'\n",
        "    elif budget < 1e6:\n",
        "        return 'Low'\n",
        "    elif budget < 2e7:\n",
        "        return 'Medium'\n",
        "    elif budget < 1e8:\n",
        "        return 'High'\n",
        "    else:\n",
        "        return 'Blockbuster'"
      ],
      "metadata": {
        "id": "TI9Z8Zj4Ki5j"
      },
      "execution_count": 128,
      "outputs": []
    },
    {
      "cell_type": "code",
      "source": [
        "df['budget_category'] = df['budget'].apply(budget_category)\n",
        "df['budget_category']"
      ],
      "metadata": {
        "colab": {
          "base_uri": "https://localhost:8080/",
          "height": 458
        },
        "id": "7mzWehf0KCyD",
        "outputId": "34576dda-d82f-4d2e-80bc-839867aeea88"
      },
      "execution_count": 129,
      "outputs": [
        {
          "output_type": "execute_result",
          "data": {
            "text/plain": [
              "0        Unknown\n",
              "1         Medium\n",
              "2        Unknown\n",
              "3            Low\n",
              "4         Medium\n",
              "          ...   \n",
              "10933       High\n",
              "10934        Low\n",
              "10935       High\n",
              "10936       High\n",
              "10937    Unknown\n",
              "Name: budget_category, Length: 10898, dtype: object"
            ],
            "text/html": [
              "<div>\n",
              "<style scoped>\n",
              "    .dataframe tbody tr th:only-of-type {\n",
              "        vertical-align: middle;\n",
              "    }\n",
              "\n",
              "    .dataframe tbody tr th {\n",
              "        vertical-align: top;\n",
              "    }\n",
              "\n",
              "    .dataframe thead th {\n",
              "        text-align: right;\n",
              "    }\n",
              "</style>\n",
              "<table border=\"1\" class=\"dataframe\">\n",
              "  <thead>\n",
              "    <tr style=\"text-align: right;\">\n",
              "      <th></th>\n",
              "      <th>budget_category</th>\n",
              "    </tr>\n",
              "  </thead>\n",
              "  <tbody>\n",
              "    <tr>\n",
              "      <th>0</th>\n",
              "      <td>Unknown</td>\n",
              "    </tr>\n",
              "    <tr>\n",
              "      <th>1</th>\n",
              "      <td>Medium</td>\n",
              "    </tr>\n",
              "    <tr>\n",
              "      <th>2</th>\n",
              "      <td>Unknown</td>\n",
              "    </tr>\n",
              "    <tr>\n",
              "      <th>3</th>\n",
              "      <td>Low</td>\n",
              "    </tr>\n",
              "    <tr>\n",
              "      <th>4</th>\n",
              "      <td>Medium</td>\n",
              "    </tr>\n",
              "    <tr>\n",
              "      <th>...</th>\n",
              "      <td>...</td>\n",
              "    </tr>\n",
              "    <tr>\n",
              "      <th>10933</th>\n",
              "      <td>High</td>\n",
              "    </tr>\n",
              "    <tr>\n",
              "      <th>10934</th>\n",
              "      <td>Low</td>\n",
              "    </tr>\n",
              "    <tr>\n",
              "      <th>10935</th>\n",
              "      <td>High</td>\n",
              "    </tr>\n",
              "    <tr>\n",
              "      <th>10936</th>\n",
              "      <td>High</td>\n",
              "    </tr>\n",
              "    <tr>\n",
              "      <th>10937</th>\n",
              "      <td>Unknown</td>\n",
              "    </tr>\n",
              "  </tbody>\n",
              "</table>\n",
              "<p>10898 rows × 1 columns</p>\n",
              "</div><br><label><b>dtype:</b> object</label>"
            ]
          },
          "metadata": {},
          "execution_count": 129
        }
      ]
    },
    {
      "cell_type": "code",
      "source": [
        "df['budget_category'].value_counts()"
      ],
      "metadata": {
        "colab": {
          "base_uri": "https://localhost:8080/",
          "height": 272
        },
        "id": "g76zNH7A1jae",
        "outputId": "73310ef4-b3be-4d9e-9b2c-a5cffeb3d43c"
      },
      "execution_count": 130,
      "outputs": [
        {
          "output_type": "execute_result",
          "data": {
            "text/plain": [
              "budget_category\n",
              "Unknown        6062\n",
              "Medium         2186\n",
              "High           1867\n",
              "Blockbuster     395\n",
              "Low             388\n",
              "Name: count, dtype: int64"
            ],
            "text/html": [
              "<div>\n",
              "<style scoped>\n",
              "    .dataframe tbody tr th:only-of-type {\n",
              "        vertical-align: middle;\n",
              "    }\n",
              "\n",
              "    .dataframe tbody tr th {\n",
              "        vertical-align: top;\n",
              "    }\n",
              "\n",
              "    .dataframe thead th {\n",
              "        text-align: right;\n",
              "    }\n",
              "</style>\n",
              "<table border=\"1\" class=\"dataframe\">\n",
              "  <thead>\n",
              "    <tr style=\"text-align: right;\">\n",
              "      <th></th>\n",
              "      <th>count</th>\n",
              "    </tr>\n",
              "    <tr>\n",
              "      <th>budget_category</th>\n",
              "      <th></th>\n",
              "    </tr>\n",
              "  </thead>\n",
              "  <tbody>\n",
              "    <tr>\n",
              "      <th>Unknown</th>\n",
              "      <td>6062</td>\n",
              "    </tr>\n",
              "    <tr>\n",
              "      <th>Medium</th>\n",
              "      <td>2186</td>\n",
              "    </tr>\n",
              "    <tr>\n",
              "      <th>High</th>\n",
              "      <td>1867</td>\n",
              "    </tr>\n",
              "    <tr>\n",
              "      <th>Blockbuster</th>\n",
              "      <td>395</td>\n",
              "    </tr>\n",
              "    <tr>\n",
              "      <th>Low</th>\n",
              "      <td>388</td>\n",
              "    </tr>\n",
              "  </tbody>\n",
              "</table>\n",
              "</div><br><label><b>dtype:</b> int64</label>"
            ]
          },
          "metadata": {},
          "execution_count": 130
        }
      ]
    },
    {
      "cell_type": "markdown",
      "source": [
        "5.genres"
      ],
      "metadata": {
        "id": "qLv98_31f7hf"
      }
    },
    {
      "cell_type": "code",
      "source": [
        "df['genres']"
      ],
      "metadata": {
        "colab": {
          "base_uri": "https://localhost:8080/",
          "height": 458
        },
        "id": "KMbBUho5wcPC",
        "outputId": "21aa989d-5eb8-4bfd-c935-4c96f7083719"
      },
      "execution_count": 131,
      "outputs": [
        {
          "output_type": "execute_result",
          "data": {
            "text/plain": [
              "0                         [{'id':99,'name':'Documentary'}]\n",
              "1        [{'id':18,'name':'Drama'},{'id':10751,'name':'...\n",
              "2        [{'id':27,'name':'Horror'},{'id':53,'name':'Th...\n",
              "3        [{'id':35,'name':'Comedy'},{'id':18,'name':'Dr...\n",
              "4                              [{'id':27,'name':'Horror'}]\n",
              "                               ...                        \n",
              "10933    [{'id':28,'name':'Action'},{'id':80,'name':'Cr...\n",
              "10934    [{'id':27,'name':'Horror'},{'id':53,'name':'Th...\n",
              "10935    [{'id':18,'name':'Drama'},{'id':80,'name':'Cri...\n",
              "10936    [{'id':18,'name':'Drama'},{'id':80,'name':'Cri...\n",
              "10937    [{'id':28,'name':'Action'},{'id':53,'name':'Th...\n",
              "Name: genres, Length: 10898, dtype: object"
            ],
            "text/html": [
              "<div>\n",
              "<style scoped>\n",
              "    .dataframe tbody tr th:only-of-type {\n",
              "        vertical-align: middle;\n",
              "    }\n",
              "\n",
              "    .dataframe tbody tr th {\n",
              "        vertical-align: top;\n",
              "    }\n",
              "\n",
              "    .dataframe thead th {\n",
              "        text-align: right;\n",
              "    }\n",
              "</style>\n",
              "<table border=\"1\" class=\"dataframe\">\n",
              "  <thead>\n",
              "    <tr style=\"text-align: right;\">\n",
              "      <th></th>\n",
              "      <th>genres</th>\n",
              "    </tr>\n",
              "  </thead>\n",
              "  <tbody>\n",
              "    <tr>\n",
              "      <th>0</th>\n",
              "      <td>[{'id':99,'name':'Documentary'}]</td>\n",
              "    </tr>\n",
              "    <tr>\n",
              "      <th>1</th>\n",
              "      <td>[{'id':18,'name':'Drama'},{'id':10751,'name':'...</td>\n",
              "    </tr>\n",
              "    <tr>\n",
              "      <th>2</th>\n",
              "      <td>[{'id':27,'name':'Horror'},{'id':53,'name':'Th...</td>\n",
              "    </tr>\n",
              "    <tr>\n",
              "      <th>3</th>\n",
              "      <td>[{'id':35,'name':'Comedy'},{'id':18,'name':'Dr...</td>\n",
              "    </tr>\n",
              "    <tr>\n",
              "      <th>4</th>\n",
              "      <td>[{'id':27,'name':'Horror'}]</td>\n",
              "    </tr>\n",
              "    <tr>\n",
              "      <th>...</th>\n",
              "      <td>...</td>\n",
              "    </tr>\n",
              "    <tr>\n",
              "      <th>10933</th>\n",
              "      <td>[{'id':28,'name':'Action'},{'id':80,'name':'Cr...</td>\n",
              "    </tr>\n",
              "    <tr>\n",
              "      <th>10934</th>\n",
              "      <td>[{'id':27,'name':'Horror'},{'id':53,'name':'Th...</td>\n",
              "    </tr>\n",
              "    <tr>\n",
              "      <th>10935</th>\n",
              "      <td>[{'id':18,'name':'Drama'},{'id':80,'name':'Cri...</td>\n",
              "    </tr>\n",
              "    <tr>\n",
              "      <th>10936</th>\n",
              "      <td>[{'id':18,'name':'Drama'},{'id':80,'name':'Cri...</td>\n",
              "    </tr>\n",
              "    <tr>\n",
              "      <th>10937</th>\n",
              "      <td>[{'id':28,'name':'Action'},{'id':53,'name':'Th...</td>\n",
              "    </tr>\n",
              "  </tbody>\n",
              "</table>\n",
              "<p>10898 rows × 1 columns</p>\n",
              "</div><br><label><b>dtype:</b> object</label>"
            ]
          },
          "metadata": {},
          "execution_count": 131
        }
      ]
    },
    {
      "cell_type": "code",
      "source": [
        "df['genres'].unique()"
      ],
      "metadata": {
        "colab": {
          "base_uri": "https://localhost:8080/"
        },
        "id": "RX3QupwqehoZ",
        "outputId": "cafb1732-1a74-4346-839d-81a8bb070fe8"
      },
      "execution_count": 132,
      "outputs": [
        {
          "output_type": "execute_result",
          "data": {
            "text/plain": [
              "array([\"[{'id':99,'name':'Documentary'}]\",\n",
              "       \"[{'id':18,'name':'Drama'},{'id':10751,'name':'Family'},{'id':12,'name':'Adventure'}]\",\n",
              "       \"[{'id':27,'name':'Horror'},{'id':53,'name':'Thriller'},{'id':35,'name':'Comedy'},{'id':28,'name':'Action'}]\",\n",
              "       ...,\n",
              "       \"[{'id':10751,'name':'Family'},{'id':12,'name':'Adventure'},{'id':35,'name':'Comedy'},{'id':10402,'name':'Music'},{'id':16,'name':'Animation'}]\",\n",
              "       \"[{'id':12,'name':'Adventure'},{'id':28,'name':'Action'},{'id':18,'name':'Drama'},{'id':14,'name':'Fantasy'}]\",\n",
              "       \"[{'id':28,'name':'Action'},{'id':12,'name':'Adventure'},{'id':10752,'name':'War'}]\"],\n",
              "      dtype=object)"
            ]
          },
          "metadata": {},
          "execution_count": 132
        }
      ]
    },
    {
      "cell_type": "code",
      "source": [
        "# Genres\n",
        "df['genres_list'] = df['genres'].apply(lambda x: [d['name'] for d in ast.literal_eval(x)] if pd.notnull(x) else [])\n",
        "df['genres_list']"
      ],
      "metadata": {
        "colab": {
          "base_uri": "https://localhost:8080/",
          "height": 458
        },
        "id": "9hRUwxOthLte",
        "outputId": "87ceb8cc-ec17-43d9-f81e-cb925e4078b2"
      },
      "execution_count": 133,
      "outputs": [
        {
          "output_type": "execute_result",
          "data": {
            "text/plain": [
              "0                              [Documentary]\n",
              "1                 [Drama, Family, Adventure]\n",
              "2         [Horror, Thriller, Comedy, Action]\n",
              "3                            [Comedy, Drama]\n",
              "4                                   [Horror]\n",
              "                        ...                 \n",
              "10933              [Action, Crime, Thriller]\n",
              "10934                     [Horror, Thriller]\n",
              "10935               [Drama, Crime, Thriller]\n",
              "10936                         [Drama, Crime]\n",
              "10937    [Action, Thriller, Science Fiction]\n",
              "Name: genres_list, Length: 10898, dtype: object"
            ],
            "text/html": [
              "<div>\n",
              "<style scoped>\n",
              "    .dataframe tbody tr th:only-of-type {\n",
              "        vertical-align: middle;\n",
              "    }\n",
              "\n",
              "    .dataframe tbody tr th {\n",
              "        vertical-align: top;\n",
              "    }\n",
              "\n",
              "    .dataframe thead th {\n",
              "        text-align: right;\n",
              "    }\n",
              "</style>\n",
              "<table border=\"1\" class=\"dataframe\">\n",
              "  <thead>\n",
              "    <tr style=\"text-align: right;\">\n",
              "      <th></th>\n",
              "      <th>genres_list</th>\n",
              "    </tr>\n",
              "  </thead>\n",
              "  <tbody>\n",
              "    <tr>\n",
              "      <th>0</th>\n",
              "      <td>[Documentary]</td>\n",
              "    </tr>\n",
              "    <tr>\n",
              "      <th>1</th>\n",
              "      <td>[Drama, Family, Adventure]</td>\n",
              "    </tr>\n",
              "    <tr>\n",
              "      <th>2</th>\n",
              "      <td>[Horror, Thriller, Comedy, Action]</td>\n",
              "    </tr>\n",
              "    <tr>\n",
              "      <th>3</th>\n",
              "      <td>[Comedy, Drama]</td>\n",
              "    </tr>\n",
              "    <tr>\n",
              "      <th>4</th>\n",
              "      <td>[Horror]</td>\n",
              "    </tr>\n",
              "    <tr>\n",
              "      <th>...</th>\n",
              "      <td>...</td>\n",
              "    </tr>\n",
              "    <tr>\n",
              "      <th>10933</th>\n",
              "      <td>[Action, Crime, Thriller]</td>\n",
              "    </tr>\n",
              "    <tr>\n",
              "      <th>10934</th>\n",
              "      <td>[Horror, Thriller]</td>\n",
              "    </tr>\n",
              "    <tr>\n",
              "      <th>10935</th>\n",
              "      <td>[Drama, Crime, Thriller]</td>\n",
              "    </tr>\n",
              "    <tr>\n",
              "      <th>10936</th>\n",
              "      <td>[Drama, Crime]</td>\n",
              "    </tr>\n",
              "    <tr>\n",
              "      <th>10937</th>\n",
              "      <td>[Action, Thriller, Science Fiction]</td>\n",
              "    </tr>\n",
              "  </tbody>\n",
              "</table>\n",
              "<p>10898 rows × 1 columns</p>\n",
              "</div><br><label><b>dtype:</b> object</label>"
            ]
          },
          "metadata": {},
          "execution_count": 133
        }
      ]
    },
    {
      "cell_type": "code",
      "source": [
        "df.drop('genres',inplace=True,axis=1)"
      ],
      "metadata": {
        "id": "NqEXZOtMKxyg"
      },
      "execution_count": 134,
      "outputs": []
    },
    {
      "cell_type": "markdown",
      "source": [
        "6.homepage"
      ],
      "metadata": {
        "id": "KaYjSzQjxchA"
      }
    },
    {
      "cell_type": "code",
      "source": [
        "df['homepage']"
      ],
      "metadata": {
        "colab": {
          "base_uri": "https://localhost:8080/",
          "height": 458
        },
        "id": "0b-DGhdke44J",
        "outputId": "f7790e46-8f95-448d-9474-f41012c5bdd3"
      },
      "execution_count": 135,
      "outputs": [
        {
          "output_type": "execute_result",
          "data": {
            "text/plain": [
              "0                                                 NaN\n",
              "1                      http://www.adogswayhome.movie/\n",
              "2        http://ariescope.com/2011/04/12/hatchet-iii/\n",
              "3                                                 NaN\n",
              "4                                                 NaN\n",
              "                             ...                     \n",
              "10933                     http://www.22bullets.co.uk/\n",
              "10934                                             NaN\n",
              "10935               http://www.21-grams.com/index.php\n",
              "10936          http://www.sonypictures.com/movies/21/\n",
              "10937                                             NaN\n",
              "Name: homepage, Length: 10898, dtype: object"
            ],
            "text/html": [
              "<div>\n",
              "<style scoped>\n",
              "    .dataframe tbody tr th:only-of-type {\n",
              "        vertical-align: middle;\n",
              "    }\n",
              "\n",
              "    .dataframe tbody tr th {\n",
              "        vertical-align: top;\n",
              "    }\n",
              "\n",
              "    .dataframe thead th {\n",
              "        text-align: right;\n",
              "    }\n",
              "</style>\n",
              "<table border=\"1\" class=\"dataframe\">\n",
              "  <thead>\n",
              "    <tr style=\"text-align: right;\">\n",
              "      <th></th>\n",
              "      <th>homepage</th>\n",
              "    </tr>\n",
              "  </thead>\n",
              "  <tbody>\n",
              "    <tr>\n",
              "      <th>0</th>\n",
              "      <td>NaN</td>\n",
              "    </tr>\n",
              "    <tr>\n",
              "      <th>1</th>\n",
              "      <td>http://www.adogswayhome.movie/</td>\n",
              "    </tr>\n",
              "    <tr>\n",
              "      <th>2</th>\n",
              "      <td>http://ariescope.com/2011/04/12/hatchet-iii/</td>\n",
              "    </tr>\n",
              "    <tr>\n",
              "      <th>3</th>\n",
              "      <td>NaN</td>\n",
              "    </tr>\n",
              "    <tr>\n",
              "      <th>4</th>\n",
              "      <td>NaN</td>\n",
              "    </tr>\n",
              "    <tr>\n",
              "      <th>...</th>\n",
              "      <td>...</td>\n",
              "    </tr>\n",
              "    <tr>\n",
              "      <th>10933</th>\n",
              "      <td>http://www.22bullets.co.uk/</td>\n",
              "    </tr>\n",
              "    <tr>\n",
              "      <th>10934</th>\n",
              "      <td>NaN</td>\n",
              "    </tr>\n",
              "    <tr>\n",
              "      <th>10935</th>\n",
              "      <td>http://www.21-grams.com/index.php</td>\n",
              "    </tr>\n",
              "    <tr>\n",
              "      <th>10936</th>\n",
              "      <td>http://www.sonypictures.com/movies/21/</td>\n",
              "    </tr>\n",
              "    <tr>\n",
              "      <th>10937</th>\n",
              "      <td>NaN</td>\n",
              "    </tr>\n",
              "  </tbody>\n",
              "</table>\n",
              "<p>10898 rows × 1 columns</p>\n",
              "</div><br><label><b>dtype:</b> object</label>"
            ]
          },
          "metadata": {},
          "execution_count": 135
        }
      ]
    },
    {
      "cell_type": "code",
      "source": [
        "df['homepage'].unique()"
      ],
      "metadata": {
        "colab": {
          "base_uri": "https://localhost:8080/"
        },
        "id": "9o8_w_9Ze7Vn",
        "outputId": "b2b759e8-4784-4344-beab-a66cc6b5d5f2"
      },
      "execution_count": 136,
      "outputs": [
        {
          "output_type": "execute_result",
          "data": {
            "text/plain": [
              "array([nan, 'http://www.adogswayhome.movie/',\n",
              "       'http://ariescope.com/2011/04/12/hatchet-iii/', ...,\n",
              "       'http://www.22bullets.co.uk/', 'http://www.21-grams.com/index.php',\n",
              "       'http://www.sonypictures.com/movies/21/'], dtype=object)"
            ]
          },
          "metadata": {},
          "execution_count": 136
        }
      ]
    },
    {
      "cell_type": "code",
      "source": [
        "df['homepage'].isnull().sum()"
      ],
      "metadata": {
        "colab": {
          "base_uri": "https://localhost:8080/"
        },
        "id": "nlRzcXrrn5y4",
        "outputId": "0bea98a3-aacd-4dd6-ef2d-5493138dc732"
      },
      "execution_count": 137,
      "outputs": [
        {
          "output_type": "execute_result",
          "data": {
            "text/plain": [
              "np.int64(7295)"
            ]
          },
          "metadata": {},
          "execution_count": 137
        }
      ]
    },
    {
      "cell_type": "code",
      "source": [
        "#more null values so we remove \"homepage\" column\n",
        "df.drop('homepage',inplace=True,axis=1)"
      ],
      "metadata": {
        "id": "nIla5gDooMJv"
      },
      "execution_count": 138,
      "outputs": []
    },
    {
      "cell_type": "markdown",
      "source": [
        "7.movie id"
      ],
      "metadata": {
        "id": "Owv2rE9dxolG"
      }
    },
    {
      "cell_type": "code",
      "source": [
        "df['id']"
      ],
      "metadata": {
        "colab": {
          "base_uri": "https://localhost:8080/",
          "height": 458
        },
        "id": "S2CpVPM4e-Tg",
        "outputId": "bc538653-6c91-4a51-948c-8371422c42e3"
      },
      "execution_count": 139,
      "outputs": [
        {
          "output_type": "execute_result",
          "data": {
            "text/plain": [
              "0        526313\n",
              "1        508763\n",
              "2        167575\n",
              "3           838\n",
              "4          9674\n",
              "          ...  \n",
              "10933     37645\n",
              "10934    137145\n",
              "10935       470\n",
              "10936      8065\n",
              "10937    277399\n",
              "Name: id, Length: 10898, dtype: int64"
            ],
            "text/html": [
              "<div>\n",
              "<style scoped>\n",
              "    .dataframe tbody tr th:only-of-type {\n",
              "        vertical-align: middle;\n",
              "    }\n",
              "\n",
              "    .dataframe tbody tr th {\n",
              "        vertical-align: top;\n",
              "    }\n",
              "\n",
              "    .dataframe thead th {\n",
              "        text-align: right;\n",
              "    }\n",
              "</style>\n",
              "<table border=\"1\" class=\"dataframe\">\n",
              "  <thead>\n",
              "    <tr style=\"text-align: right;\">\n",
              "      <th></th>\n",
              "      <th>id</th>\n",
              "    </tr>\n",
              "  </thead>\n",
              "  <tbody>\n",
              "    <tr>\n",
              "      <th>0</th>\n",
              "      <td>526313</td>\n",
              "    </tr>\n",
              "    <tr>\n",
              "      <th>1</th>\n",
              "      <td>508763</td>\n",
              "    </tr>\n",
              "    <tr>\n",
              "      <th>2</th>\n",
              "      <td>167575</td>\n",
              "    </tr>\n",
              "    <tr>\n",
              "      <th>3</th>\n",
              "      <td>838</td>\n",
              "    </tr>\n",
              "    <tr>\n",
              "      <th>4</th>\n",
              "      <td>9674</td>\n",
              "    </tr>\n",
              "    <tr>\n",
              "      <th>...</th>\n",
              "      <td>...</td>\n",
              "    </tr>\n",
              "    <tr>\n",
              "      <th>10933</th>\n",
              "      <td>37645</td>\n",
              "    </tr>\n",
              "    <tr>\n",
              "      <th>10934</th>\n",
              "      <td>137145</td>\n",
              "    </tr>\n",
              "    <tr>\n",
              "      <th>10935</th>\n",
              "      <td>470</td>\n",
              "    </tr>\n",
              "    <tr>\n",
              "      <th>10936</th>\n",
              "      <td>8065</td>\n",
              "    </tr>\n",
              "    <tr>\n",
              "      <th>10937</th>\n",
              "      <td>277399</td>\n",
              "    </tr>\n",
              "  </tbody>\n",
              "</table>\n",
              "<p>10898 rows × 1 columns</p>\n",
              "</div><br><label><b>dtype:</b> int64</label>"
            ]
          },
          "metadata": {},
          "execution_count": 139
        }
      ]
    },
    {
      "cell_type": "code",
      "source": [
        "df['id'].unique()"
      ],
      "metadata": {
        "colab": {
          "base_uri": "https://localhost:8080/"
        },
        "id": "s8L5a8PDp2xE",
        "outputId": "1a1ad823-1b5f-4a7c-de96-807cdd10d56d"
      },
      "execution_count": 140,
      "outputs": [
        {
          "output_type": "execute_result",
          "data": {
            "text/plain": [
              "array([526313, 508763, 167575, ...,    470,   8065, 277399])"
            ]
          },
          "metadata": {},
          "execution_count": 140
        }
      ]
    },
    {
      "cell_type": "code",
      "source": [
        "df['id'].nunique()"
      ],
      "metadata": {
        "colab": {
          "base_uri": "https://localhost:8080/"
        },
        "id": "zTnx0S6sfBU4",
        "outputId": "db8245c3-7d82-463e-d2ab-bfe9e5618fae"
      },
      "execution_count": 141,
      "outputs": [
        {
          "output_type": "execute_result",
          "data": {
            "text/plain": [
              "10898"
            ]
          },
          "metadata": {},
          "execution_count": 141
        }
      ]
    },
    {
      "cell_type": "markdown",
      "source": [
        "8.imdb id"
      ],
      "metadata": {
        "id": "xvsnEw1Kxs3v"
      }
    },
    {
      "cell_type": "code",
      "source": [
        "df['imdb_id']"
      ],
      "metadata": {
        "colab": {
          "base_uri": "https://localhost:8080/",
          "height": 458
        },
        "id": "V0YDn-MzfJUW",
        "outputId": "a83888e2-acf1-46ca-90c1-08b199534012"
      },
      "execution_count": 142,
      "outputs": [
        {
          "output_type": "execute_result",
          "data": {
            "text/plain": [
              "0        tt8412232\n",
              "1        tt7616798\n",
              "2        tt1870419\n",
              "3        tt0069704\n",
              "4        tt0235712\n",
              "           ...    \n",
              "10933    tt1167638\n",
              "10934    tt1877543\n",
              "10935    tt0315733\n",
              "10936    tt0478087\n",
              "10937    tt3481210\n",
              "Name: imdb_id, Length: 10898, dtype: object"
            ],
            "text/html": [
              "<div>\n",
              "<style scoped>\n",
              "    .dataframe tbody tr th:only-of-type {\n",
              "        vertical-align: middle;\n",
              "    }\n",
              "\n",
              "    .dataframe tbody tr th {\n",
              "        vertical-align: top;\n",
              "    }\n",
              "\n",
              "    .dataframe thead th {\n",
              "        text-align: right;\n",
              "    }\n",
              "</style>\n",
              "<table border=\"1\" class=\"dataframe\">\n",
              "  <thead>\n",
              "    <tr style=\"text-align: right;\">\n",
              "      <th></th>\n",
              "      <th>imdb_id</th>\n",
              "    </tr>\n",
              "  </thead>\n",
              "  <tbody>\n",
              "    <tr>\n",
              "      <th>0</th>\n",
              "      <td>tt8412232</td>\n",
              "    </tr>\n",
              "    <tr>\n",
              "      <th>1</th>\n",
              "      <td>tt7616798</td>\n",
              "    </tr>\n",
              "    <tr>\n",
              "      <th>2</th>\n",
              "      <td>tt1870419</td>\n",
              "    </tr>\n",
              "    <tr>\n",
              "      <th>3</th>\n",
              "      <td>tt0069704</td>\n",
              "    </tr>\n",
              "    <tr>\n",
              "      <th>4</th>\n",
              "      <td>tt0235712</td>\n",
              "    </tr>\n",
              "    <tr>\n",
              "      <th>...</th>\n",
              "      <td>...</td>\n",
              "    </tr>\n",
              "    <tr>\n",
              "      <th>10933</th>\n",
              "      <td>tt1167638</td>\n",
              "    </tr>\n",
              "    <tr>\n",
              "      <th>10934</th>\n",
              "      <td>tt1877543</td>\n",
              "    </tr>\n",
              "    <tr>\n",
              "      <th>10935</th>\n",
              "      <td>tt0315733</td>\n",
              "    </tr>\n",
              "    <tr>\n",
              "      <th>10936</th>\n",
              "      <td>tt0478087</td>\n",
              "    </tr>\n",
              "    <tr>\n",
              "      <th>10937</th>\n",
              "      <td>tt3481210</td>\n",
              "    </tr>\n",
              "  </tbody>\n",
              "</table>\n",
              "<p>10898 rows × 1 columns</p>\n",
              "</div><br><label><b>dtype:</b> object</label>"
            ]
          },
          "metadata": {},
          "execution_count": 142
        }
      ]
    },
    {
      "cell_type": "code",
      "source": [
        "df['imdb_id'].unique()"
      ],
      "metadata": {
        "colab": {
          "base_uri": "https://localhost:8080/"
        },
        "id": "xC0_BPncfR_6",
        "outputId": "82a7124c-5cf2-40f3-cc42-ce13c772379b"
      },
      "execution_count": 143,
      "outputs": [
        {
          "output_type": "execute_result",
          "data": {
            "text/plain": [
              "array(['tt8412232', 'tt7616798', 'tt1870419', ..., 'tt0315733',\n",
              "       'tt0478087', 'tt3481210'], dtype=object)"
            ]
          },
          "metadata": {},
          "execution_count": 143
        }
      ]
    },
    {
      "cell_type": "code",
      "source": [
        "df['imdb_id'].nunique()"
      ],
      "metadata": {
        "colab": {
          "base_uri": "https://localhost:8080/"
        },
        "id": "XI5otIcXqFRF",
        "outputId": "cfb36312-d931-4f15-a84f-d740778bce3a"
      },
      "execution_count": 144,
      "outputs": [
        {
          "output_type": "execute_result",
          "data": {
            "text/plain": [
              "10898"
            ]
          },
          "metadata": {},
          "execution_count": 144
        }
      ]
    },
    {
      "cell_type": "code",
      "source": [
        "#we have movie id  no need imdb id . so we can remove it\n",
        "df.drop('imdb_id',inplace=True,axis=1)"
      ],
      "metadata": {
        "id": "o9-ucdlAp1KW"
      },
      "execution_count": 145,
      "outputs": []
    },
    {
      "cell_type": "markdown",
      "source": [
        "9. original language"
      ],
      "metadata": {
        "id": "YZvShRLHxw6S"
      }
    },
    {
      "cell_type": "code",
      "source": [
        "df['original_language']"
      ],
      "metadata": {
        "colab": {
          "base_uri": "https://localhost:8080/",
          "height": 458
        },
        "id": "tTKADorCfU7V",
        "outputId": "ef7ae688-f6b3-4668-beec-0747ce1c9c65"
      },
      "execution_count": 146,
      "outputs": [
        {
          "output_type": "execute_result",
          "data": {
            "text/plain": [
              "0        en\n",
              "1        en\n",
              "2        en\n",
              "3        en\n",
              "4        ja\n",
              "         ..\n",
              "10933    fr\n",
              "10934    pt\n",
              "10935    en\n",
              "10936    en\n",
              "10937    it\n",
              "Name: original_language, Length: 10898, dtype: object"
            ],
            "text/html": [
              "<div>\n",
              "<style scoped>\n",
              "    .dataframe tbody tr th:only-of-type {\n",
              "        vertical-align: middle;\n",
              "    }\n",
              "\n",
              "    .dataframe tbody tr th {\n",
              "        vertical-align: top;\n",
              "    }\n",
              "\n",
              "    .dataframe thead th {\n",
              "        text-align: right;\n",
              "    }\n",
              "</style>\n",
              "<table border=\"1\" class=\"dataframe\">\n",
              "  <thead>\n",
              "    <tr style=\"text-align: right;\">\n",
              "      <th></th>\n",
              "      <th>original_language</th>\n",
              "    </tr>\n",
              "  </thead>\n",
              "  <tbody>\n",
              "    <tr>\n",
              "      <th>0</th>\n",
              "      <td>en</td>\n",
              "    </tr>\n",
              "    <tr>\n",
              "      <th>1</th>\n",
              "      <td>en</td>\n",
              "    </tr>\n",
              "    <tr>\n",
              "      <th>2</th>\n",
              "      <td>en</td>\n",
              "    </tr>\n",
              "    <tr>\n",
              "      <th>3</th>\n",
              "      <td>en</td>\n",
              "    </tr>\n",
              "    <tr>\n",
              "      <th>4</th>\n",
              "      <td>ja</td>\n",
              "    </tr>\n",
              "    <tr>\n",
              "      <th>...</th>\n",
              "      <td>...</td>\n",
              "    </tr>\n",
              "    <tr>\n",
              "      <th>10933</th>\n",
              "      <td>fr</td>\n",
              "    </tr>\n",
              "    <tr>\n",
              "      <th>10934</th>\n",
              "      <td>pt</td>\n",
              "    </tr>\n",
              "    <tr>\n",
              "      <th>10935</th>\n",
              "      <td>en</td>\n",
              "    </tr>\n",
              "    <tr>\n",
              "      <th>10936</th>\n",
              "      <td>en</td>\n",
              "    </tr>\n",
              "    <tr>\n",
              "      <th>10937</th>\n",
              "      <td>it</td>\n",
              "    </tr>\n",
              "  </tbody>\n",
              "</table>\n",
              "<p>10898 rows × 1 columns</p>\n",
              "</div><br><label><b>dtype:</b> object</label>"
            ]
          },
          "metadata": {},
          "execution_count": 146
        }
      ]
    },
    {
      "cell_type": "code",
      "source": [
        "df['original_language'].unique()"
      ],
      "metadata": {
        "colab": {
          "base_uri": "https://localhost:8080/"
        },
        "id": "wtHFjEwEfYnE",
        "outputId": "bcdb6890-4f5c-4feb-8b23-f56a38570f03"
      },
      "execution_count": 147,
      "outputs": [
        {
          "output_type": "execute_result",
          "data": {
            "text/plain": [
              "array(['en', 'ja', 'hi', 'de', 'ko', 'pt', 'it', 'fi', 'fr', 'ms', 'cn',\n",
              "       'tr', 'es', 'ru', 'sv', 'pl', 'hu', 'zh', 'nl', 'ar', 'da', 'el',\n",
              "       'id', 'cs', 'no', 'tl', 'is', 'he', 'mr', 'km', 'te', 'bn', 'eu',\n",
              "       'af', 'fa', 'sk', 'et', 'ta', 'sr', 'uk', 'th', 'ca', 'ur', 'vi',\n",
              "       'ro', 'yi'], dtype=object)"
            ]
          },
          "metadata": {},
          "execution_count": 147
        }
      ]
    },
    {
      "cell_type": "code",
      "source": [
        "df['original_language'].nunique()"
      ],
      "metadata": {
        "colab": {
          "base_uri": "https://localhost:8080/"
        },
        "id": "WMY5vAr5f0nv",
        "outputId": "11efd72b-a42f-4d87-8d2b-416f00e3a51a"
      },
      "execution_count": 148,
      "outputs": [
        {
          "output_type": "execute_result",
          "data": {
            "text/plain": [
              "46"
            ]
          },
          "metadata": {},
          "execution_count": 148
        }
      ]
    },
    {
      "cell_type": "code",
      "source": [
        "df['original_title']"
      ],
      "metadata": {
        "colab": {
          "base_uri": "https://localhost:8080/",
          "height": 458
        },
        "id": "w94NJma9f2ek",
        "outputId": "9c4e98c7-39b9-44f6-da2f-8424efece924"
      },
      "execution_count": 149,
      "outputs": [
        {
          "output_type": "execute_result",
          "data": {
            "text/plain": [
              "0                       A Leaf of Faith\n",
              "1                      A Dog's Way Home\n",
              "2                           Hatchet III\n",
              "3                     American Graffiti\n",
              "4        ??????????????????????????????\n",
              "                      ...              \n",
              "10933                        L'Immortel\n",
              "10934                            247??F\n",
              "10935                          21 Grams\n",
              "10936                                21\n",
              "10937            2047 - Sights of Death\n",
              "Name: original_title, Length: 10898, dtype: object"
            ],
            "text/html": [
              "<div>\n",
              "<style scoped>\n",
              "    .dataframe tbody tr th:only-of-type {\n",
              "        vertical-align: middle;\n",
              "    }\n",
              "\n",
              "    .dataframe tbody tr th {\n",
              "        vertical-align: top;\n",
              "    }\n",
              "\n",
              "    .dataframe thead th {\n",
              "        text-align: right;\n",
              "    }\n",
              "</style>\n",
              "<table border=\"1\" class=\"dataframe\">\n",
              "  <thead>\n",
              "    <tr style=\"text-align: right;\">\n",
              "      <th></th>\n",
              "      <th>original_title</th>\n",
              "    </tr>\n",
              "  </thead>\n",
              "  <tbody>\n",
              "    <tr>\n",
              "      <th>0</th>\n",
              "      <td>A Leaf of Faith</td>\n",
              "    </tr>\n",
              "    <tr>\n",
              "      <th>1</th>\n",
              "      <td>A Dog's Way Home</td>\n",
              "    </tr>\n",
              "    <tr>\n",
              "      <th>2</th>\n",
              "      <td>Hatchet III</td>\n",
              "    </tr>\n",
              "    <tr>\n",
              "      <th>3</th>\n",
              "      <td>American Graffiti</td>\n",
              "    </tr>\n",
              "    <tr>\n",
              "      <th>4</th>\n",
              "      <td>??????????????????????????????</td>\n",
              "    </tr>\n",
              "    <tr>\n",
              "      <th>...</th>\n",
              "      <td>...</td>\n",
              "    </tr>\n",
              "    <tr>\n",
              "      <th>10933</th>\n",
              "      <td>L'Immortel</td>\n",
              "    </tr>\n",
              "    <tr>\n",
              "      <th>10934</th>\n",
              "      <td>247??F</td>\n",
              "    </tr>\n",
              "    <tr>\n",
              "      <th>10935</th>\n",
              "      <td>21 Grams</td>\n",
              "    </tr>\n",
              "    <tr>\n",
              "      <th>10936</th>\n",
              "      <td>21</td>\n",
              "    </tr>\n",
              "    <tr>\n",
              "      <th>10937</th>\n",
              "      <td>2047 - Sights of Death</td>\n",
              "    </tr>\n",
              "  </tbody>\n",
              "</table>\n",
              "<p>10898 rows × 1 columns</p>\n",
              "</div><br><label><b>dtype:</b> object</label>"
            ]
          },
          "metadata": {},
          "execution_count": 149
        }
      ]
    },
    {
      "cell_type": "code",
      "source": [
        "df['original_title'].unique()"
      ],
      "metadata": {
        "colab": {
          "base_uri": "https://localhost:8080/"
        },
        "id": "AkmCoy-cqtcZ",
        "outputId": "23ba2012-8cf7-4017-8f00-2a7004cddb2f"
      },
      "execution_count": 150,
      "outputs": [
        {
          "output_type": "execute_result",
          "data": {
            "text/plain": [
              "array(['A Leaf of Faith', \"A Dog's Way Home\", 'Hatchet III', ...,\n",
              "       '21 Grams', '21', '2047 - Sights of Death'], dtype=object)"
            ]
          },
          "metadata": {},
          "execution_count": 150
        }
      ]
    },
    {
      "cell_type": "code",
      "source": [
        "df['original_title'].nunique()"
      ],
      "metadata": {
        "colab": {
          "base_uri": "https://localhost:8080/"
        },
        "id": "SPw-mSncqxuX",
        "outputId": "0d7b5938-a1c8-481e-e262-ab0040ed1df6"
      },
      "execution_count": 151,
      "outputs": [
        {
          "output_type": "execute_result",
          "data": {
            "text/plain": [
              "10429"
            ]
          },
          "metadata": {},
          "execution_count": 151
        }
      ]
    },
    {
      "cell_type": "code",
      "source": [
        "df['overview']"
      ],
      "metadata": {
        "colab": {
          "base_uri": "https://localhost:8080/",
          "height": 458
        },
        "id": "GFhbXZcZf7ya",
        "outputId": "e1804a3b-1885-4fac-ae2e-3f5f9d8ee280"
      },
      "execution_count": 152,
      "outputs": [
        {
          "output_type": "execute_result",
          "data": {
            "text/plain": [
              "0        Documentary exploring a plant-based alternativ...\n",
              "1        A Dog???s Way Home chronicles the heartwarming...\n",
              "2        A search and recovery team heads into the haun...\n",
              "3        A couple of high school graduates spend one fi...\n",
              "4        Taking place thirty years before the events of...\n",
              "                               ...                        \n",
              "10933    Charly Mattei?? has turned his back on his lif...\n",
              "10934    Four friends travel to a lakeside cabin for a ...\n",
              "10935    This is the story of three gentle persons: Pau...\n",
              "10936    Ben Campbell is a young, highly intelligent, s...\n",
              "10937    The year is 2047.  Our planet is ruled by the ...\n",
              "Name: overview, Length: 10898, dtype: object"
            ],
            "text/html": [
              "<div>\n",
              "<style scoped>\n",
              "    .dataframe tbody tr th:only-of-type {\n",
              "        vertical-align: middle;\n",
              "    }\n",
              "\n",
              "    .dataframe tbody tr th {\n",
              "        vertical-align: top;\n",
              "    }\n",
              "\n",
              "    .dataframe thead th {\n",
              "        text-align: right;\n",
              "    }\n",
              "</style>\n",
              "<table border=\"1\" class=\"dataframe\">\n",
              "  <thead>\n",
              "    <tr style=\"text-align: right;\">\n",
              "      <th></th>\n",
              "      <th>overview</th>\n",
              "    </tr>\n",
              "  </thead>\n",
              "  <tbody>\n",
              "    <tr>\n",
              "      <th>0</th>\n",
              "      <td>Documentary exploring a plant-based alternativ...</td>\n",
              "    </tr>\n",
              "    <tr>\n",
              "      <th>1</th>\n",
              "      <td>A Dog???s Way Home chronicles the heartwarming...</td>\n",
              "    </tr>\n",
              "    <tr>\n",
              "      <th>2</th>\n",
              "      <td>A search and recovery team heads into the haun...</td>\n",
              "    </tr>\n",
              "    <tr>\n",
              "      <th>3</th>\n",
              "      <td>A couple of high school graduates spend one fi...</td>\n",
              "    </tr>\n",
              "    <tr>\n",
              "      <th>4</th>\n",
              "      <td>Taking place thirty years before the events of...</td>\n",
              "    </tr>\n",
              "    <tr>\n",
              "      <th>...</th>\n",
              "      <td>...</td>\n",
              "    </tr>\n",
              "    <tr>\n",
              "      <th>10933</th>\n",
              "      <td>Charly Mattei?? has turned his back on his lif...</td>\n",
              "    </tr>\n",
              "    <tr>\n",
              "      <th>10934</th>\n",
              "      <td>Four friends travel to a lakeside cabin for a ...</td>\n",
              "    </tr>\n",
              "    <tr>\n",
              "      <th>10935</th>\n",
              "      <td>This is the story of three gentle persons: Pau...</td>\n",
              "    </tr>\n",
              "    <tr>\n",
              "      <th>10936</th>\n",
              "      <td>Ben Campbell is a young, highly intelligent, s...</td>\n",
              "    </tr>\n",
              "    <tr>\n",
              "      <th>10937</th>\n",
              "      <td>The year is 2047.  Our planet is ruled by the ...</td>\n",
              "    </tr>\n",
              "  </tbody>\n",
              "</table>\n",
              "<p>10898 rows × 1 columns</p>\n",
              "</div><br><label><b>dtype:</b> object</label>"
            ]
          },
          "metadata": {},
          "execution_count": 152
        }
      ]
    },
    {
      "cell_type": "code",
      "source": [
        "df['overview'].isnull().sum()"
      ],
      "metadata": {
        "colab": {
          "base_uri": "https://localhost:8080/"
        },
        "id": "1TFtHEMDrKHa",
        "outputId": "02f3cba6-449f-440b-f23e-d46ae68019f0"
      },
      "execution_count": 153,
      "outputs": [
        {
          "output_type": "execute_result",
          "data": {
            "text/plain": [
              "np.int64(9)"
            ]
          },
          "metadata": {},
          "execution_count": 153
        }
      ]
    },
    {
      "cell_type": "code",
      "source": [
        "#no need for furture analysis. so remove it\n",
        "df.drop('overview',inplace=True,axis=1)"
      ],
      "metadata": {
        "id": "2hq83GjzrT6t"
      },
      "execution_count": 154,
      "outputs": []
    },
    {
      "cell_type": "code",
      "source": [
        "df['popularity']"
      ],
      "metadata": {
        "colab": {
          "base_uri": "https://localhost:8080/",
          "height": 458
        },
        "id": "Qg-YL5j5f_5e",
        "outputId": "7532c428-cdde-432a-922d-fdb2f85cc4e7"
      },
      "execution_count": 155,
      "outputs": [
        {
          "output_type": "execute_result",
          "data": {
            "text/plain": [
              "0         2.305\n",
              "1        64.245\n",
              "2         6.478\n",
              "3        10.857\n",
              "4         5.691\n",
              "          ...  \n",
              "10933     7.606\n",
              "10934     4.894\n",
              "10935    12.441\n",
              "10936    12.705\n",
              "10937     2.216\n",
              "Name: popularity, Length: 10898, dtype: float64"
            ],
            "text/html": [
              "<div>\n",
              "<style scoped>\n",
              "    .dataframe tbody tr th:only-of-type {\n",
              "        vertical-align: middle;\n",
              "    }\n",
              "\n",
              "    .dataframe tbody tr th {\n",
              "        vertical-align: top;\n",
              "    }\n",
              "\n",
              "    .dataframe thead th {\n",
              "        text-align: right;\n",
              "    }\n",
              "</style>\n",
              "<table border=\"1\" class=\"dataframe\">\n",
              "  <thead>\n",
              "    <tr style=\"text-align: right;\">\n",
              "      <th></th>\n",
              "      <th>popularity</th>\n",
              "    </tr>\n",
              "  </thead>\n",
              "  <tbody>\n",
              "    <tr>\n",
              "      <th>0</th>\n",
              "      <td>2.305</td>\n",
              "    </tr>\n",
              "    <tr>\n",
              "      <th>1</th>\n",
              "      <td>64.245</td>\n",
              "    </tr>\n",
              "    <tr>\n",
              "      <th>2</th>\n",
              "      <td>6.478</td>\n",
              "    </tr>\n",
              "    <tr>\n",
              "      <th>3</th>\n",
              "      <td>10.857</td>\n",
              "    </tr>\n",
              "    <tr>\n",
              "      <th>4</th>\n",
              "      <td>5.691</td>\n",
              "    </tr>\n",
              "    <tr>\n",
              "      <th>...</th>\n",
              "      <td>...</td>\n",
              "    </tr>\n",
              "    <tr>\n",
              "      <th>10933</th>\n",
              "      <td>7.606</td>\n",
              "    </tr>\n",
              "    <tr>\n",
              "      <th>10934</th>\n",
              "      <td>4.894</td>\n",
              "    </tr>\n",
              "    <tr>\n",
              "      <th>10935</th>\n",
              "      <td>12.441</td>\n",
              "    </tr>\n",
              "    <tr>\n",
              "      <th>10936</th>\n",
              "      <td>12.705</td>\n",
              "    </tr>\n",
              "    <tr>\n",
              "      <th>10937</th>\n",
              "      <td>2.216</td>\n",
              "    </tr>\n",
              "  </tbody>\n",
              "</table>\n",
              "<p>10898 rows × 1 columns</p>\n",
              "</div><br><label><b>dtype:</b> float64</label>"
            ]
          },
          "metadata": {},
          "execution_count": 155
        }
      ]
    },
    {
      "cell_type": "code",
      "source": [
        "df['popularity'].isnull().sum()"
      ],
      "metadata": {
        "colab": {
          "base_uri": "https://localhost:8080/"
        },
        "id": "FJrvzO3Urnsb",
        "outputId": "3114fa3c-816a-47c7-f0aa-f929e4426f7c"
      },
      "execution_count": 156,
      "outputs": [
        {
          "output_type": "execute_result",
          "data": {
            "text/plain": [
              "np.int64(0)"
            ]
          },
          "metadata": {},
          "execution_count": 156
        }
      ]
    },
    {
      "cell_type": "code",
      "source": [
        "df['poster_path']"
      ],
      "metadata": {
        "colab": {
          "base_uri": "https://localhost:8080/",
          "height": 458
        },
        "id": "zLhs8W-igDYX",
        "outputId": "aca499c9-c8ff-4455-dea6-b7ba720998aa"
      },
      "execution_count": 157,
      "outputs": [
        {
          "output_type": "execute_result",
          "data": {
            "text/plain": [
              "0        /yBR1TbSZ2Y4nkBj85q07OgY9L03.jpg\n",
              "1        /pZn87R7gtmMCGGO8KeaAfZDhXLg.jpg\n",
              "2        /xQPHO8QVE7U3XuPRxqVmqpA4Csq.jpg\n",
              "3        /xq8MFYQ6MLZ65mFpweqV6mCs39k.jpg\n",
              "4        /26Jcnk6ObDPCtvKqZkgjWI1b8Y1.jpg\n",
              "                       ...               \n",
              "10933    /wTYZjPq4YA2wC99MdHZTFQuxFpd.jpg\n",
              "10934    /yNSE6aAS8pa2kzxDwCkpAIlNeQx.jpg\n",
              "10935    /Aps7GzrYiJZKHNT524Rsg4jaXej.jpg\n",
              "10936    /4zKAgycQDJD2zIkmPYV3aMR8tEy.jpg\n",
              "10937    /d3YAZI9XnjYG56UQPj8nT2z7Dnh.jpg\n",
              "Name: poster_path, Length: 10898, dtype: object"
            ],
            "text/html": [
              "<div>\n",
              "<style scoped>\n",
              "    .dataframe tbody tr th:only-of-type {\n",
              "        vertical-align: middle;\n",
              "    }\n",
              "\n",
              "    .dataframe tbody tr th {\n",
              "        vertical-align: top;\n",
              "    }\n",
              "\n",
              "    .dataframe thead th {\n",
              "        text-align: right;\n",
              "    }\n",
              "</style>\n",
              "<table border=\"1\" class=\"dataframe\">\n",
              "  <thead>\n",
              "    <tr style=\"text-align: right;\">\n",
              "      <th></th>\n",
              "      <th>poster_path</th>\n",
              "    </tr>\n",
              "  </thead>\n",
              "  <tbody>\n",
              "    <tr>\n",
              "      <th>0</th>\n",
              "      <td>/yBR1TbSZ2Y4nkBj85q07OgY9L03.jpg</td>\n",
              "    </tr>\n",
              "    <tr>\n",
              "      <th>1</th>\n",
              "      <td>/pZn87R7gtmMCGGO8KeaAfZDhXLg.jpg</td>\n",
              "    </tr>\n",
              "    <tr>\n",
              "      <th>2</th>\n",
              "      <td>/xQPHO8QVE7U3XuPRxqVmqpA4Csq.jpg</td>\n",
              "    </tr>\n",
              "    <tr>\n",
              "      <th>3</th>\n",
              "      <td>/xq8MFYQ6MLZ65mFpweqV6mCs39k.jpg</td>\n",
              "    </tr>\n",
              "    <tr>\n",
              "      <th>4</th>\n",
              "      <td>/26Jcnk6ObDPCtvKqZkgjWI1b8Y1.jpg</td>\n",
              "    </tr>\n",
              "    <tr>\n",
              "      <th>...</th>\n",
              "      <td>...</td>\n",
              "    </tr>\n",
              "    <tr>\n",
              "      <th>10933</th>\n",
              "      <td>/wTYZjPq4YA2wC99MdHZTFQuxFpd.jpg</td>\n",
              "    </tr>\n",
              "    <tr>\n",
              "      <th>10934</th>\n",
              "      <td>/yNSE6aAS8pa2kzxDwCkpAIlNeQx.jpg</td>\n",
              "    </tr>\n",
              "    <tr>\n",
              "      <th>10935</th>\n",
              "      <td>/Aps7GzrYiJZKHNT524Rsg4jaXej.jpg</td>\n",
              "    </tr>\n",
              "    <tr>\n",
              "      <th>10936</th>\n",
              "      <td>/4zKAgycQDJD2zIkmPYV3aMR8tEy.jpg</td>\n",
              "    </tr>\n",
              "    <tr>\n",
              "      <th>10937</th>\n",
              "      <td>/d3YAZI9XnjYG56UQPj8nT2z7Dnh.jpg</td>\n",
              "    </tr>\n",
              "  </tbody>\n",
              "</table>\n",
              "<p>10898 rows × 1 columns</p>\n",
              "</div><br><label><b>dtype:</b> object</label>"
            ]
          },
          "metadata": {},
          "execution_count": 157
        }
      ]
    },
    {
      "cell_type": "code",
      "source": [
        "#we not need poster_path for analysis\n",
        "df.drop('poster_path',inplace=True,axis=1)"
      ],
      "metadata": {
        "id": "cffjkwaUr0K1"
      },
      "execution_count": 158,
      "outputs": []
    },
    {
      "cell_type": "code",
      "source": [
        "df['production_companies']"
      ],
      "metadata": {
        "colab": {
          "base_uri": "https://localhost:8080/",
          "height": 458
        },
        "id": "gormQM9qgG1D",
        "outputId": "442c1107-446d-4ba1-f188-b9da7224e6fc"
      },
      "execution_count": 159,
      "outputs": [
        {
          "output_type": "execute_result",
          "data": {
            "text/plain": [
              "0        [{'id':104960,'logo_path':null,'name':'Oxymoro...\n",
              "1        [{'id':30148,'logo_path':null,'name':'Bona Fil...\n",
              "2        [{'id':3960,'logo_path':null,'name':'ArieScope...\n",
              "3        [{'id':33,'logo_path':'/8lvHyhjr8oUKOOy2dKXoAL...\n",
              "4                                                       []\n",
              "                               ...                        \n",
              "10933    [{'id':6896,'logo_path':'/2Q89KvzxTKB5BAv9RqFI...\n",
              "10934    [{'id':68937,'logo_path':null,'name':'Foley Wa...\n",
              "10935    [{'id':10059,'logo_path':null,'name':'This Is ...\n",
              "10936    [{'id':5,'logo_path':'/71BqEFAF4V3qjjMPCpLuyJF...\n",
              "10937    [{'id':37517,'logo_path':null,'name':'Monika B...\n",
              "Name: production_companies, Length: 10898, dtype: object"
            ],
            "text/html": [
              "<div>\n",
              "<style scoped>\n",
              "    .dataframe tbody tr th:only-of-type {\n",
              "        vertical-align: middle;\n",
              "    }\n",
              "\n",
              "    .dataframe tbody tr th {\n",
              "        vertical-align: top;\n",
              "    }\n",
              "\n",
              "    .dataframe thead th {\n",
              "        text-align: right;\n",
              "    }\n",
              "</style>\n",
              "<table border=\"1\" class=\"dataframe\">\n",
              "  <thead>\n",
              "    <tr style=\"text-align: right;\">\n",
              "      <th></th>\n",
              "      <th>production_companies</th>\n",
              "    </tr>\n",
              "  </thead>\n",
              "  <tbody>\n",
              "    <tr>\n",
              "      <th>0</th>\n",
              "      <td>[{'id':104960,'logo_path':null,'name':'Oxymoro...</td>\n",
              "    </tr>\n",
              "    <tr>\n",
              "      <th>1</th>\n",
              "      <td>[{'id':30148,'logo_path':null,'name':'Bona Fil...</td>\n",
              "    </tr>\n",
              "    <tr>\n",
              "      <th>2</th>\n",
              "      <td>[{'id':3960,'logo_path':null,'name':'ArieScope...</td>\n",
              "    </tr>\n",
              "    <tr>\n",
              "      <th>3</th>\n",
              "      <td>[{'id':33,'logo_path':'/8lvHyhjr8oUKOOy2dKXoAL...</td>\n",
              "    </tr>\n",
              "    <tr>\n",
              "      <th>4</th>\n",
              "      <td>[]</td>\n",
              "    </tr>\n",
              "    <tr>\n",
              "      <th>...</th>\n",
              "      <td>...</td>\n",
              "    </tr>\n",
              "    <tr>\n",
              "      <th>10933</th>\n",
              "      <td>[{'id':6896,'logo_path':'/2Q89KvzxTKB5BAv9RqFI...</td>\n",
              "    </tr>\n",
              "    <tr>\n",
              "      <th>10934</th>\n",
              "      <td>[{'id':68937,'logo_path':null,'name':'Foley Wa...</td>\n",
              "    </tr>\n",
              "    <tr>\n",
              "      <th>10935</th>\n",
              "      <td>[{'id':10059,'logo_path':null,'name':'This Is ...</td>\n",
              "    </tr>\n",
              "    <tr>\n",
              "      <th>10936</th>\n",
              "      <td>[{'id':5,'logo_path':'/71BqEFAF4V3qjjMPCpLuyJF...</td>\n",
              "    </tr>\n",
              "    <tr>\n",
              "      <th>10937</th>\n",
              "      <td>[{'id':37517,'logo_path':null,'name':'Monika B...</td>\n",
              "    </tr>\n",
              "  </tbody>\n",
              "</table>\n",
              "<p>10898 rows × 1 columns</p>\n",
              "</div><br><label><b>dtype:</b> object</label>"
            ]
          },
          "metadata": {},
          "execution_count": 159
        }
      ]
    },
    {
      "cell_type": "code",
      "source": [
        "#we no need this data for analysis.so remove it\n",
        "\n",
        "df.drop('production_companies',inplace=True,axis=1)"
      ],
      "metadata": {
        "id": "mK8fU0j4vhoc"
      },
      "execution_count": 160,
      "outputs": []
    },
    {
      "cell_type": "code",
      "source": [
        "df['production_countries']"
      ],
      "metadata": {
        "colab": {
          "base_uri": "https://localhost:8080/",
          "height": 458
        },
        "id": "dYB8TisagKrL",
        "outputId": "55be3d5f-50ab-452a-e019-2949d392aec9"
      },
      "execution_count": 161,
      "outputs": [
        {
          "output_type": "execute_result",
          "data": {
            "text/plain": [
              "0                                                       []\n",
              "1        [{'iso_3166_1':'US','name':'United States of A...\n",
              "2        [{'iso_3166_1':'US','name':'United States of A...\n",
              "3        [{'iso_3166_1':'US','name':'United States of A...\n",
              "4                     [{'iso_3166_1':'JP','name':'Japan'}]\n",
              "                               ...                        \n",
              "10933                [{'iso_3166_1':'FR','name':'France'}]\n",
              "10934    [{'iso_3166_1':'GE','name':'Georgia'},{'iso_31...\n",
              "10935    [{'iso_3166_1':'US','name':'United States of A...\n",
              "10936    [{'iso_3166_1':'US','name':'United States of A...\n",
              "10937                 [{'iso_3166_1':'IT','name':'Italy'}]\n",
              "Name: production_countries, Length: 10898, dtype: object"
            ],
            "text/html": [
              "<div>\n",
              "<style scoped>\n",
              "    .dataframe tbody tr th:only-of-type {\n",
              "        vertical-align: middle;\n",
              "    }\n",
              "\n",
              "    .dataframe tbody tr th {\n",
              "        vertical-align: top;\n",
              "    }\n",
              "\n",
              "    .dataframe thead th {\n",
              "        text-align: right;\n",
              "    }\n",
              "</style>\n",
              "<table border=\"1\" class=\"dataframe\">\n",
              "  <thead>\n",
              "    <tr style=\"text-align: right;\">\n",
              "      <th></th>\n",
              "      <th>production_countries</th>\n",
              "    </tr>\n",
              "  </thead>\n",
              "  <tbody>\n",
              "    <tr>\n",
              "      <th>0</th>\n",
              "      <td>[]</td>\n",
              "    </tr>\n",
              "    <tr>\n",
              "      <th>1</th>\n",
              "      <td>[{'iso_3166_1':'US','name':'United States of A...</td>\n",
              "    </tr>\n",
              "    <tr>\n",
              "      <th>2</th>\n",
              "      <td>[{'iso_3166_1':'US','name':'United States of A...</td>\n",
              "    </tr>\n",
              "    <tr>\n",
              "      <th>3</th>\n",
              "      <td>[{'iso_3166_1':'US','name':'United States of A...</td>\n",
              "    </tr>\n",
              "    <tr>\n",
              "      <th>4</th>\n",
              "      <td>[{'iso_3166_1':'JP','name':'Japan'}]</td>\n",
              "    </tr>\n",
              "    <tr>\n",
              "      <th>...</th>\n",
              "      <td>...</td>\n",
              "    </tr>\n",
              "    <tr>\n",
              "      <th>10933</th>\n",
              "      <td>[{'iso_3166_1':'FR','name':'France'}]</td>\n",
              "    </tr>\n",
              "    <tr>\n",
              "      <th>10934</th>\n",
              "      <td>[{'iso_3166_1':'GE','name':'Georgia'},{'iso_31...</td>\n",
              "    </tr>\n",
              "    <tr>\n",
              "      <th>10935</th>\n",
              "      <td>[{'iso_3166_1':'US','name':'United States of A...</td>\n",
              "    </tr>\n",
              "    <tr>\n",
              "      <th>10936</th>\n",
              "      <td>[{'iso_3166_1':'US','name':'United States of A...</td>\n",
              "    </tr>\n",
              "    <tr>\n",
              "      <th>10937</th>\n",
              "      <td>[{'iso_3166_1':'IT','name':'Italy'}]</td>\n",
              "    </tr>\n",
              "  </tbody>\n",
              "</table>\n",
              "<p>10898 rows × 1 columns</p>\n",
              "</div><br><label><b>dtype:</b> object</label>"
            ]
          },
          "metadata": {},
          "execution_count": 161
        }
      ]
    },
    {
      "cell_type": "code",
      "source": [
        "#we no need this data for analysis.so remove it\n",
        "\n",
        "df.drop('production_countries',inplace=True,axis=1)"
      ],
      "metadata": {
        "id": "AWythuwmvkZV"
      },
      "execution_count": 162,
      "outputs": []
    },
    {
      "cell_type": "markdown",
      "source": [
        "Release date"
      ],
      "metadata": {
        "id": "IOjvlawUx992"
      }
    },
    {
      "cell_type": "code",
      "source": [
        "df['release_date']"
      ],
      "metadata": {
        "colab": {
          "base_uri": "https://localhost:8080/",
          "height": 458
        },
        "id": "tHsqi1_PgNCk",
        "outputId": "f7ffc809-8a5d-4e16-c1f7-e224dd720248"
      },
      "execution_count": 163,
      "outputs": [
        {
          "output_type": "execute_result",
          "data": {
            "text/plain": [
              "0        2018-05-21\n",
              "1        2019-01-10\n",
              "2        2013-06-14\n",
              "3        1973-08-01\n",
              "4        2000-01-22\n",
              "            ...    \n",
              "10933    2010-03-23\n",
              "10934    2011-09-01\n",
              "10935    2003-09-06\n",
              "10936    2008-03-27\n",
              "10937    2014-06-13\n",
              "Name: release_date, Length: 10898, dtype: object"
            ],
            "text/html": [
              "<div>\n",
              "<style scoped>\n",
              "    .dataframe tbody tr th:only-of-type {\n",
              "        vertical-align: middle;\n",
              "    }\n",
              "\n",
              "    .dataframe tbody tr th {\n",
              "        vertical-align: top;\n",
              "    }\n",
              "\n",
              "    .dataframe thead th {\n",
              "        text-align: right;\n",
              "    }\n",
              "</style>\n",
              "<table border=\"1\" class=\"dataframe\">\n",
              "  <thead>\n",
              "    <tr style=\"text-align: right;\">\n",
              "      <th></th>\n",
              "      <th>release_date</th>\n",
              "    </tr>\n",
              "  </thead>\n",
              "  <tbody>\n",
              "    <tr>\n",
              "      <th>0</th>\n",
              "      <td>2018-05-21</td>\n",
              "    </tr>\n",
              "    <tr>\n",
              "      <th>1</th>\n",
              "      <td>2019-01-10</td>\n",
              "    </tr>\n",
              "    <tr>\n",
              "      <th>2</th>\n",
              "      <td>2013-06-14</td>\n",
              "    </tr>\n",
              "    <tr>\n",
              "      <th>3</th>\n",
              "      <td>1973-08-01</td>\n",
              "    </tr>\n",
              "    <tr>\n",
              "      <th>4</th>\n",
              "      <td>2000-01-22</td>\n",
              "    </tr>\n",
              "    <tr>\n",
              "      <th>...</th>\n",
              "      <td>...</td>\n",
              "    </tr>\n",
              "    <tr>\n",
              "      <th>10933</th>\n",
              "      <td>2010-03-23</td>\n",
              "    </tr>\n",
              "    <tr>\n",
              "      <th>10934</th>\n",
              "      <td>2011-09-01</td>\n",
              "    </tr>\n",
              "    <tr>\n",
              "      <th>10935</th>\n",
              "      <td>2003-09-06</td>\n",
              "    </tr>\n",
              "    <tr>\n",
              "      <th>10936</th>\n",
              "      <td>2008-03-27</td>\n",
              "    </tr>\n",
              "    <tr>\n",
              "      <th>10937</th>\n",
              "      <td>2014-06-13</td>\n",
              "    </tr>\n",
              "  </tbody>\n",
              "</table>\n",
              "<p>10898 rows × 1 columns</p>\n",
              "</div><br><label><b>dtype:</b> object</label>"
            ]
          },
          "metadata": {},
          "execution_count": 163
        }
      ]
    },
    {
      "cell_type": "code",
      "source": [
        "# Convert to datetime\n",
        "df['release_date'] = pd.to_datetime(df['release_date'], errors='coerce')\n",
        "\n",
        "# Extract features\n",
        "df['release_year'] = df['release_date'].dt.year\n",
        "df['release_month'] = df['release_date'].dt.month"
      ],
      "metadata": {
        "id": "v8YsJ-02vn4g"
      },
      "execution_count": 164,
      "outputs": []
    },
    {
      "cell_type": "code",
      "source": [
        "df['revenue']"
      ],
      "metadata": {
        "colab": {
          "base_uri": "https://localhost:8080/",
          "height": 458
        },
        "id": "k_3WCImjgM_I",
        "outputId": "493df36e-8bbd-4cba-85d8-1d556545d75f"
      },
      "execution_count": 165,
      "outputs": [
        {
          "output_type": "execute_result",
          "data": {
            "text/plain": [
              "0                0\n",
              "1         17643857\n",
              "2                0\n",
              "3        140000000\n",
              "4                0\n",
              "           ...    \n",
              "10933            0\n",
              "10934            0\n",
              "10935     60427839\n",
              "10936     69823199\n",
              "10937            0\n",
              "Name: revenue, Length: 10898, dtype: int64"
            ],
            "text/html": [
              "<div>\n",
              "<style scoped>\n",
              "    .dataframe tbody tr th:only-of-type {\n",
              "        vertical-align: middle;\n",
              "    }\n",
              "\n",
              "    .dataframe tbody tr th {\n",
              "        vertical-align: top;\n",
              "    }\n",
              "\n",
              "    .dataframe thead th {\n",
              "        text-align: right;\n",
              "    }\n",
              "</style>\n",
              "<table border=\"1\" class=\"dataframe\">\n",
              "  <thead>\n",
              "    <tr style=\"text-align: right;\">\n",
              "      <th></th>\n",
              "      <th>revenue</th>\n",
              "    </tr>\n",
              "  </thead>\n",
              "  <tbody>\n",
              "    <tr>\n",
              "      <th>0</th>\n",
              "      <td>0</td>\n",
              "    </tr>\n",
              "    <tr>\n",
              "      <th>1</th>\n",
              "      <td>17643857</td>\n",
              "    </tr>\n",
              "    <tr>\n",
              "      <th>2</th>\n",
              "      <td>0</td>\n",
              "    </tr>\n",
              "    <tr>\n",
              "      <th>3</th>\n",
              "      <td>140000000</td>\n",
              "    </tr>\n",
              "    <tr>\n",
              "      <th>4</th>\n",
              "      <td>0</td>\n",
              "    </tr>\n",
              "    <tr>\n",
              "      <th>...</th>\n",
              "      <td>...</td>\n",
              "    </tr>\n",
              "    <tr>\n",
              "      <th>10933</th>\n",
              "      <td>0</td>\n",
              "    </tr>\n",
              "    <tr>\n",
              "      <th>10934</th>\n",
              "      <td>0</td>\n",
              "    </tr>\n",
              "    <tr>\n",
              "      <th>10935</th>\n",
              "      <td>60427839</td>\n",
              "    </tr>\n",
              "    <tr>\n",
              "      <th>10936</th>\n",
              "      <td>69823199</td>\n",
              "    </tr>\n",
              "    <tr>\n",
              "      <th>10937</th>\n",
              "      <td>0</td>\n",
              "    </tr>\n",
              "  </tbody>\n",
              "</table>\n",
              "<p>10898 rows × 1 columns</p>\n",
              "</div><br><label><b>dtype:</b> int64</label>"
            ]
          },
          "metadata": {},
          "execution_count": 165
        }
      ]
    },
    {
      "cell_type": "code",
      "source": [
        "# Revenue\n",
        "df['revenue'] = pd.to_numeric(df['revenue'], errors='coerce')\n",
        "df['revenue'].replace(0, np.nan, inplace=True)\n",
        "df['revenue'].fillna(df['revenue'].median(), inplace=True)"
      ],
      "metadata": {
        "colab": {
          "base_uri": "https://localhost:8080/"
        },
        "id": "JtJPjiH2vzCz",
        "outputId": "d9da3a5d-9623-48a9-f85f-febd465eebf4"
      },
      "execution_count": 166,
      "outputs": [
        {
          "output_type": "stream",
          "name": "stderr",
          "text": [
            "<ipython-input-166-3453289788>:3: FutureWarning: A value is trying to be set on a copy of a DataFrame or Series through chained assignment using an inplace method.\n",
            "The behavior will change in pandas 3.0. This inplace method will never work because the intermediate object on which we are setting values always behaves as a copy.\n",
            "\n",
            "For example, when doing 'df[col].method(value, inplace=True)', try using 'df.method({col: value}, inplace=True)' or df[col] = df[col].method(value) instead, to perform the operation inplace on the original object.\n",
            "\n",
            "\n",
            "  df['revenue'].replace(0, np.nan, inplace=True)\n"
          ]
        }
      ]
    },
    {
      "cell_type": "code",
      "source": [
        "# Profit\n",
        "df['profit'] = df['revenue'] - df['budget_filled']"
      ],
      "metadata": {
        "id": "IlJXEnuAOe3E"
      },
      "execution_count": 167,
      "outputs": []
    },
    {
      "cell_type": "code",
      "source": [
        "df['revenue']"
      ],
      "metadata": {
        "colab": {
          "base_uri": "https://localhost:8080/",
          "height": 458
        },
        "id": "8jjR7uGzGxlv",
        "outputId": "4b69757f-ce13-4973-98df-39e94039f6a7"
      },
      "execution_count": 168,
      "outputs": [
        {
          "output_type": "execute_result",
          "data": {
            "text/plain": [
              "0         38751734.0\n",
              "1         17643857.0\n",
              "2         38751734.0\n",
              "3        140000000.0\n",
              "4         38751734.0\n",
              "            ...     \n",
              "10933     38751734.0\n",
              "10934     38751734.0\n",
              "10935     60427839.0\n",
              "10936     69823199.0\n",
              "10937     38751734.0\n",
              "Name: revenue, Length: 10898, dtype: float64"
            ],
            "text/html": [
              "<div>\n",
              "<style scoped>\n",
              "    .dataframe tbody tr th:only-of-type {\n",
              "        vertical-align: middle;\n",
              "    }\n",
              "\n",
              "    .dataframe tbody tr th {\n",
              "        vertical-align: top;\n",
              "    }\n",
              "\n",
              "    .dataframe thead th {\n",
              "        text-align: right;\n",
              "    }\n",
              "</style>\n",
              "<table border=\"1\" class=\"dataframe\">\n",
              "  <thead>\n",
              "    <tr style=\"text-align: right;\">\n",
              "      <th></th>\n",
              "      <th>revenue</th>\n",
              "    </tr>\n",
              "  </thead>\n",
              "  <tbody>\n",
              "    <tr>\n",
              "      <th>0</th>\n",
              "      <td>38751734.0</td>\n",
              "    </tr>\n",
              "    <tr>\n",
              "      <th>1</th>\n",
              "      <td>17643857.0</td>\n",
              "    </tr>\n",
              "    <tr>\n",
              "      <th>2</th>\n",
              "      <td>38751734.0</td>\n",
              "    </tr>\n",
              "    <tr>\n",
              "      <th>3</th>\n",
              "      <td>140000000.0</td>\n",
              "    </tr>\n",
              "    <tr>\n",
              "      <th>4</th>\n",
              "      <td>38751734.0</td>\n",
              "    </tr>\n",
              "    <tr>\n",
              "      <th>...</th>\n",
              "      <td>...</td>\n",
              "    </tr>\n",
              "    <tr>\n",
              "      <th>10933</th>\n",
              "      <td>38751734.0</td>\n",
              "    </tr>\n",
              "    <tr>\n",
              "      <th>10934</th>\n",
              "      <td>38751734.0</td>\n",
              "    </tr>\n",
              "    <tr>\n",
              "      <th>10935</th>\n",
              "      <td>60427839.0</td>\n",
              "    </tr>\n",
              "    <tr>\n",
              "      <th>10936</th>\n",
              "      <td>69823199.0</td>\n",
              "    </tr>\n",
              "    <tr>\n",
              "      <th>10937</th>\n",
              "      <td>38751734.0</td>\n",
              "    </tr>\n",
              "  </tbody>\n",
              "</table>\n",
              "<p>10898 rows × 1 columns</p>\n",
              "</div><br><label><b>dtype:</b> float64</label>"
            ]
          },
          "metadata": {},
          "execution_count": 168
        }
      ]
    },
    {
      "cell_type": "code",
      "source": [
        "df['profit']"
      ],
      "metadata": {
        "colab": {
          "base_uri": "https://localhost:8080/",
          "height": 458
        },
        "id": "-JZ5Hr7TOp8-",
        "outputId": "a6400783-c33f-4414-e16a-bf5dd3e14b84"
      },
      "execution_count": 169,
      "outputs": [
        {
          "output_type": "execute_result",
          "data": {
            "text/plain": [
              "0         21751734.0\n",
              "1          -356143.0\n",
              "2         21751734.0\n",
              "3        139223000.0\n",
              "4         32751734.0\n",
              "            ...     \n",
              "10933     14751734.0\n",
              "10934     38101734.0\n",
              "10935     40427839.0\n",
              "10936     34823199.0\n",
              "10937     21751734.0\n",
              "Name: profit, Length: 10898, dtype: float64"
            ],
            "text/html": [
              "<div>\n",
              "<style scoped>\n",
              "    .dataframe tbody tr th:only-of-type {\n",
              "        vertical-align: middle;\n",
              "    }\n",
              "\n",
              "    .dataframe tbody tr th {\n",
              "        vertical-align: top;\n",
              "    }\n",
              "\n",
              "    .dataframe thead th {\n",
              "        text-align: right;\n",
              "    }\n",
              "</style>\n",
              "<table border=\"1\" class=\"dataframe\">\n",
              "  <thead>\n",
              "    <tr style=\"text-align: right;\">\n",
              "      <th></th>\n",
              "      <th>profit</th>\n",
              "    </tr>\n",
              "  </thead>\n",
              "  <tbody>\n",
              "    <tr>\n",
              "      <th>0</th>\n",
              "      <td>21751734.0</td>\n",
              "    </tr>\n",
              "    <tr>\n",
              "      <th>1</th>\n",
              "      <td>-356143.0</td>\n",
              "    </tr>\n",
              "    <tr>\n",
              "      <th>2</th>\n",
              "      <td>21751734.0</td>\n",
              "    </tr>\n",
              "    <tr>\n",
              "      <th>3</th>\n",
              "      <td>139223000.0</td>\n",
              "    </tr>\n",
              "    <tr>\n",
              "      <th>4</th>\n",
              "      <td>32751734.0</td>\n",
              "    </tr>\n",
              "    <tr>\n",
              "      <th>...</th>\n",
              "      <td>...</td>\n",
              "    </tr>\n",
              "    <tr>\n",
              "      <th>10933</th>\n",
              "      <td>14751734.0</td>\n",
              "    </tr>\n",
              "    <tr>\n",
              "      <th>10934</th>\n",
              "      <td>38101734.0</td>\n",
              "    </tr>\n",
              "    <tr>\n",
              "      <th>10935</th>\n",
              "      <td>40427839.0</td>\n",
              "    </tr>\n",
              "    <tr>\n",
              "      <th>10936</th>\n",
              "      <td>34823199.0</td>\n",
              "    </tr>\n",
              "    <tr>\n",
              "      <th>10937</th>\n",
              "      <td>21751734.0</td>\n",
              "    </tr>\n",
              "  </tbody>\n",
              "</table>\n",
              "<p>10898 rows × 1 columns</p>\n",
              "</div><br><label><b>dtype:</b> float64</label>"
            ]
          },
          "metadata": {},
          "execution_count": 169
        }
      ]
    },
    {
      "cell_type": "code",
      "source": [
        "df['runtime']"
      ],
      "metadata": {
        "colab": {
          "base_uri": "https://localhost:8080/",
          "height": 458
        },
        "id": "jJuwGqlCgM8r",
        "outputId": "62e19c73-e6e3-4d8b-b104-eb1de10d9f4a"
      },
      "execution_count": 170,
      "outputs": [
        {
          "output_type": "execute_result",
          "data": {
            "text/plain": [
              "0         86.0\n",
              "1         96.0\n",
              "2         89.0\n",
              "3        110.0\n",
              "4         99.0\n",
              "         ...  \n",
              "10933    115.0\n",
              "10934     90.0\n",
              "10935    124.0\n",
              "10936    123.0\n",
              "10937     85.0\n",
              "Name: runtime, Length: 10898, dtype: float64"
            ],
            "text/html": [
              "<div>\n",
              "<style scoped>\n",
              "    .dataframe tbody tr th:only-of-type {\n",
              "        vertical-align: middle;\n",
              "    }\n",
              "\n",
              "    .dataframe tbody tr th {\n",
              "        vertical-align: top;\n",
              "    }\n",
              "\n",
              "    .dataframe thead th {\n",
              "        text-align: right;\n",
              "    }\n",
              "</style>\n",
              "<table border=\"1\" class=\"dataframe\">\n",
              "  <thead>\n",
              "    <tr style=\"text-align: right;\">\n",
              "      <th></th>\n",
              "      <th>runtime</th>\n",
              "    </tr>\n",
              "  </thead>\n",
              "  <tbody>\n",
              "    <tr>\n",
              "      <th>0</th>\n",
              "      <td>86.0</td>\n",
              "    </tr>\n",
              "    <tr>\n",
              "      <th>1</th>\n",
              "      <td>96.0</td>\n",
              "    </tr>\n",
              "    <tr>\n",
              "      <th>2</th>\n",
              "      <td>89.0</td>\n",
              "    </tr>\n",
              "    <tr>\n",
              "      <th>3</th>\n",
              "      <td>110.0</td>\n",
              "    </tr>\n",
              "    <tr>\n",
              "      <th>4</th>\n",
              "      <td>99.0</td>\n",
              "    </tr>\n",
              "    <tr>\n",
              "      <th>...</th>\n",
              "      <td>...</td>\n",
              "    </tr>\n",
              "    <tr>\n",
              "      <th>10933</th>\n",
              "      <td>115.0</td>\n",
              "    </tr>\n",
              "    <tr>\n",
              "      <th>10934</th>\n",
              "      <td>90.0</td>\n",
              "    </tr>\n",
              "    <tr>\n",
              "      <th>10935</th>\n",
              "      <td>124.0</td>\n",
              "    </tr>\n",
              "    <tr>\n",
              "      <th>10936</th>\n",
              "      <td>123.0</td>\n",
              "    </tr>\n",
              "    <tr>\n",
              "      <th>10937</th>\n",
              "      <td>85.0</td>\n",
              "    </tr>\n",
              "  </tbody>\n",
              "</table>\n",
              "<p>10898 rows × 1 columns</p>\n",
              "</div><br><label><b>dtype:</b> float64</label>"
            ]
          },
          "metadata": {},
          "execution_count": 170
        }
      ]
    },
    {
      "cell_type": "code",
      "source": [
        "df['runtime'].isnull().sum()"
      ],
      "metadata": {
        "colab": {
          "base_uri": "https://localhost:8080/"
        },
        "id": "cEBbP24Mub57",
        "outputId": "b3280f74-d899-4532-fdfd-40d8fcac7da6"
      },
      "execution_count": 171,
      "outputs": [
        {
          "output_type": "execute_result",
          "data": {
            "text/plain": [
              "np.int64(90)"
            ]
          },
          "metadata": {},
          "execution_count": 171
        }
      ]
    },
    {
      "cell_type": "code",
      "source": [
        "# Runtime\n",
        "df['runtime'] = pd.to_numeric(df['runtime'], errors='coerce')\n",
        "df['runtime'].fillna(df['runtime'].median(), inplace=True)\n",
        "df['runtime']"
      ],
      "metadata": {
        "id": "FOLBDoRquaAf",
        "colab": {
          "base_uri": "https://localhost:8080/",
          "height": 600
        },
        "outputId": "992397ed-e838-4e3b-ed9a-37facbaed4f7"
      },
      "execution_count": 172,
      "outputs": [
        {
          "output_type": "stream",
          "name": "stderr",
          "text": [
            "<ipython-input-172-3473576741>:3: FutureWarning: A value is trying to be set on a copy of a DataFrame or Series through chained assignment using an inplace method.\n",
            "The behavior will change in pandas 3.0. This inplace method will never work because the intermediate object on which we are setting values always behaves as a copy.\n",
            "\n",
            "For example, when doing 'df[col].method(value, inplace=True)', try using 'df.method({col: value}, inplace=True)' or df[col] = df[col].method(value) instead, to perform the operation inplace on the original object.\n",
            "\n",
            "\n",
            "  df['runtime'].fillna(df['runtime'].median(), inplace=True)\n"
          ]
        },
        {
          "output_type": "execute_result",
          "data": {
            "text/plain": [
              "0         86.0\n",
              "1         96.0\n",
              "2         89.0\n",
              "3        110.0\n",
              "4         99.0\n",
              "         ...  \n",
              "10933    115.0\n",
              "10934     90.0\n",
              "10935    124.0\n",
              "10936    123.0\n",
              "10937     85.0\n",
              "Name: runtime, Length: 10898, dtype: float64"
            ],
            "text/html": [
              "<div>\n",
              "<style scoped>\n",
              "    .dataframe tbody tr th:only-of-type {\n",
              "        vertical-align: middle;\n",
              "    }\n",
              "\n",
              "    .dataframe tbody tr th {\n",
              "        vertical-align: top;\n",
              "    }\n",
              "\n",
              "    .dataframe thead th {\n",
              "        text-align: right;\n",
              "    }\n",
              "</style>\n",
              "<table border=\"1\" class=\"dataframe\">\n",
              "  <thead>\n",
              "    <tr style=\"text-align: right;\">\n",
              "      <th></th>\n",
              "      <th>runtime</th>\n",
              "    </tr>\n",
              "  </thead>\n",
              "  <tbody>\n",
              "    <tr>\n",
              "      <th>0</th>\n",
              "      <td>86.0</td>\n",
              "    </tr>\n",
              "    <tr>\n",
              "      <th>1</th>\n",
              "      <td>96.0</td>\n",
              "    </tr>\n",
              "    <tr>\n",
              "      <th>2</th>\n",
              "      <td>89.0</td>\n",
              "    </tr>\n",
              "    <tr>\n",
              "      <th>3</th>\n",
              "      <td>110.0</td>\n",
              "    </tr>\n",
              "    <tr>\n",
              "      <th>4</th>\n",
              "      <td>99.0</td>\n",
              "    </tr>\n",
              "    <tr>\n",
              "      <th>...</th>\n",
              "      <td>...</td>\n",
              "    </tr>\n",
              "    <tr>\n",
              "      <th>10933</th>\n",
              "      <td>115.0</td>\n",
              "    </tr>\n",
              "    <tr>\n",
              "      <th>10934</th>\n",
              "      <td>90.0</td>\n",
              "    </tr>\n",
              "    <tr>\n",
              "      <th>10935</th>\n",
              "      <td>124.0</td>\n",
              "    </tr>\n",
              "    <tr>\n",
              "      <th>10936</th>\n",
              "      <td>123.0</td>\n",
              "    </tr>\n",
              "    <tr>\n",
              "      <th>10937</th>\n",
              "      <td>85.0</td>\n",
              "    </tr>\n",
              "  </tbody>\n",
              "</table>\n",
              "<p>10898 rows × 1 columns</p>\n",
              "</div><br><label><b>dtype:</b> float64</label>"
            ]
          },
          "metadata": {},
          "execution_count": 172
        }
      ]
    },
    {
      "cell_type": "code",
      "source": [
        "df['spoken_languages']"
      ],
      "metadata": {
        "colab": {
          "base_uri": "https://localhost:8080/",
          "height": 458
        },
        "id": "KM_OAPSzgM6e",
        "outputId": "62cf7877-6649-43dc-fb0f-5f6bf23d5697"
      },
      "execution_count": 173,
      "outputs": [
        {
          "output_type": "execute_result",
          "data": {
            "text/plain": [
              "0                                                       []\n",
              "1                    [{'iso_639_1':'en','name':'English'}]\n",
              "2                    [{'iso_639_1':'en','name':'English'}]\n",
              "3                    [{'iso_639_1':'en','name':'English'}]\n",
              "4                  [{'iso_639_1':'ja','name':'?????????'}]\n",
              "                               ...                        \n",
              "10933    [{'iso_639_1':'en','name':'English'},{'iso_639...\n",
              "10934                [{'iso_639_1':'en','name':'English'}]\n",
              "10935                [{'iso_639_1':'en','name':'English'}]\n",
              "10936                [{'iso_639_1':'en','name':'English'}]\n",
              "10937                [{'iso_639_1':'en','name':'English'}]\n",
              "Name: spoken_languages, Length: 10898, dtype: object"
            ],
            "text/html": [
              "<div>\n",
              "<style scoped>\n",
              "    .dataframe tbody tr th:only-of-type {\n",
              "        vertical-align: middle;\n",
              "    }\n",
              "\n",
              "    .dataframe tbody tr th {\n",
              "        vertical-align: top;\n",
              "    }\n",
              "\n",
              "    .dataframe thead th {\n",
              "        text-align: right;\n",
              "    }\n",
              "</style>\n",
              "<table border=\"1\" class=\"dataframe\">\n",
              "  <thead>\n",
              "    <tr style=\"text-align: right;\">\n",
              "      <th></th>\n",
              "      <th>spoken_languages</th>\n",
              "    </tr>\n",
              "  </thead>\n",
              "  <tbody>\n",
              "    <tr>\n",
              "      <th>0</th>\n",
              "      <td>[]</td>\n",
              "    </tr>\n",
              "    <tr>\n",
              "      <th>1</th>\n",
              "      <td>[{'iso_639_1':'en','name':'English'}]</td>\n",
              "    </tr>\n",
              "    <tr>\n",
              "      <th>2</th>\n",
              "      <td>[{'iso_639_1':'en','name':'English'}]</td>\n",
              "    </tr>\n",
              "    <tr>\n",
              "      <th>3</th>\n",
              "      <td>[{'iso_639_1':'en','name':'English'}]</td>\n",
              "    </tr>\n",
              "    <tr>\n",
              "      <th>4</th>\n",
              "      <td>[{'iso_639_1':'ja','name':'?????????'}]</td>\n",
              "    </tr>\n",
              "    <tr>\n",
              "      <th>...</th>\n",
              "      <td>...</td>\n",
              "    </tr>\n",
              "    <tr>\n",
              "      <th>10933</th>\n",
              "      <td>[{'iso_639_1':'en','name':'English'},{'iso_639...</td>\n",
              "    </tr>\n",
              "    <tr>\n",
              "      <th>10934</th>\n",
              "      <td>[{'iso_639_1':'en','name':'English'}]</td>\n",
              "    </tr>\n",
              "    <tr>\n",
              "      <th>10935</th>\n",
              "      <td>[{'iso_639_1':'en','name':'English'}]</td>\n",
              "    </tr>\n",
              "    <tr>\n",
              "      <th>10936</th>\n",
              "      <td>[{'iso_639_1':'en','name':'English'}]</td>\n",
              "    </tr>\n",
              "    <tr>\n",
              "      <th>10937</th>\n",
              "      <td>[{'iso_639_1':'en','name':'English'}]</td>\n",
              "    </tr>\n",
              "  </tbody>\n",
              "</table>\n",
              "<p>10898 rows × 1 columns</p>\n",
              "</div><br><label><b>dtype:</b> object</label>"
            ]
          },
          "metadata": {},
          "execution_count": 173
        }
      ]
    },
    {
      "cell_type": "code",
      "source": [
        "#we have already orginal_language column so need this column for analysis\n",
        "df.drop('spoken_languages',inplace=True,axis=1)"
      ],
      "metadata": {
        "id": "BQ8P0EAeG4xu"
      },
      "execution_count": 174,
      "outputs": []
    },
    {
      "cell_type": "code",
      "source": [
        "df['status']"
      ],
      "metadata": {
        "colab": {
          "base_uri": "https://localhost:8080/",
          "height": 458
        },
        "id": "v1Cpt441gM4J",
        "outputId": "a5a77cee-9eb0-404a-f1f0-aa241191f599"
      },
      "execution_count": 175,
      "outputs": [
        {
          "output_type": "execute_result",
          "data": {
            "text/plain": [
              "0        Released\n",
              "1        Released\n",
              "2        Released\n",
              "3        Released\n",
              "4        Released\n",
              "           ...   \n",
              "10933    Released\n",
              "10934    Released\n",
              "10935    Released\n",
              "10936    Released\n",
              "10937    Released\n",
              "Name: status, Length: 10898, dtype: object"
            ],
            "text/html": [
              "<div>\n",
              "<style scoped>\n",
              "    .dataframe tbody tr th:only-of-type {\n",
              "        vertical-align: middle;\n",
              "    }\n",
              "\n",
              "    .dataframe tbody tr th {\n",
              "        vertical-align: top;\n",
              "    }\n",
              "\n",
              "    .dataframe thead th {\n",
              "        text-align: right;\n",
              "    }\n",
              "</style>\n",
              "<table border=\"1\" class=\"dataframe\">\n",
              "  <thead>\n",
              "    <tr style=\"text-align: right;\">\n",
              "      <th></th>\n",
              "      <th>status</th>\n",
              "    </tr>\n",
              "  </thead>\n",
              "  <tbody>\n",
              "    <tr>\n",
              "      <th>0</th>\n",
              "      <td>Released</td>\n",
              "    </tr>\n",
              "    <tr>\n",
              "      <th>1</th>\n",
              "      <td>Released</td>\n",
              "    </tr>\n",
              "    <tr>\n",
              "      <th>2</th>\n",
              "      <td>Released</td>\n",
              "    </tr>\n",
              "    <tr>\n",
              "      <th>3</th>\n",
              "      <td>Released</td>\n",
              "    </tr>\n",
              "    <tr>\n",
              "      <th>4</th>\n",
              "      <td>Released</td>\n",
              "    </tr>\n",
              "    <tr>\n",
              "      <th>...</th>\n",
              "      <td>...</td>\n",
              "    </tr>\n",
              "    <tr>\n",
              "      <th>10933</th>\n",
              "      <td>Released</td>\n",
              "    </tr>\n",
              "    <tr>\n",
              "      <th>10934</th>\n",
              "      <td>Released</td>\n",
              "    </tr>\n",
              "    <tr>\n",
              "      <th>10935</th>\n",
              "      <td>Released</td>\n",
              "    </tr>\n",
              "    <tr>\n",
              "      <th>10936</th>\n",
              "      <td>Released</td>\n",
              "    </tr>\n",
              "    <tr>\n",
              "      <th>10937</th>\n",
              "      <td>Released</td>\n",
              "    </tr>\n",
              "  </tbody>\n",
              "</table>\n",
              "<p>10898 rows × 1 columns</p>\n",
              "</div><br><label><b>dtype:</b> object</label>"
            ]
          },
          "metadata": {},
          "execution_count": 175
        }
      ]
    },
    {
      "cell_type": "code",
      "source": [
        "df['status'].unique()"
      ],
      "metadata": {
        "colab": {
          "base_uri": "https://localhost:8080/"
        },
        "id": "ZXQcJzZ7Xutu",
        "outputId": "eb79270f-a0b3-46fa-82b4-e0c02d67c5d9"
      },
      "execution_count": 176,
      "outputs": [
        {
          "output_type": "execute_result",
          "data": {
            "text/plain": [
              "array(['Released', 'In Production'], dtype=object)"
            ]
          },
          "metadata": {},
          "execution_count": 176
        }
      ]
    },
    {
      "cell_type": "code",
      "source": [
        "df['tagline']"
      ],
      "metadata": {
        "colab": {
          "base_uri": "https://localhost:8080/",
          "height": 458
        },
        "id": "AAPk5X_XgM18",
        "outputId": "f1a1c52f-2164-460a-8f11-892c1bd6ded8"
      },
      "execution_count": 177,
      "outputs": [
        {
          "output_type": "execute_result",
          "data": {
            "text/plain": [
              "0                          Kill the pain, not the patient.\n",
              "1                 A lot can happen between lost and found.\n",
              "2                               Victor Crowley Lives Again\n",
              "3                                   Where were you in '62?\n",
              "4                                                      NaN\n",
              "                               ...                        \n",
              "10933                     The revenge of the Professional.\n",
              "10934                                 Every Degree Matters\n",
              "10935                            How much does life weigh?\n",
              "10936    They proved the Vegas Blackjack System was bea...\n",
              "10937                                    Kill or Be Killed\n",
              "Name: tagline, Length: 10898, dtype: object"
            ],
            "text/html": [
              "<div>\n",
              "<style scoped>\n",
              "    .dataframe tbody tr th:only-of-type {\n",
              "        vertical-align: middle;\n",
              "    }\n",
              "\n",
              "    .dataframe tbody tr th {\n",
              "        vertical-align: top;\n",
              "    }\n",
              "\n",
              "    .dataframe thead th {\n",
              "        text-align: right;\n",
              "    }\n",
              "</style>\n",
              "<table border=\"1\" class=\"dataframe\">\n",
              "  <thead>\n",
              "    <tr style=\"text-align: right;\">\n",
              "      <th></th>\n",
              "      <th>tagline</th>\n",
              "    </tr>\n",
              "  </thead>\n",
              "  <tbody>\n",
              "    <tr>\n",
              "      <th>0</th>\n",
              "      <td>Kill the pain, not the patient.</td>\n",
              "    </tr>\n",
              "    <tr>\n",
              "      <th>1</th>\n",
              "      <td>A lot can happen between lost and found.</td>\n",
              "    </tr>\n",
              "    <tr>\n",
              "      <th>2</th>\n",
              "      <td>Victor Crowley Lives Again</td>\n",
              "    </tr>\n",
              "    <tr>\n",
              "      <th>3</th>\n",
              "      <td>Where were you in '62?</td>\n",
              "    </tr>\n",
              "    <tr>\n",
              "      <th>4</th>\n",
              "      <td>NaN</td>\n",
              "    </tr>\n",
              "    <tr>\n",
              "      <th>...</th>\n",
              "      <td>...</td>\n",
              "    </tr>\n",
              "    <tr>\n",
              "      <th>10933</th>\n",
              "      <td>The revenge of the Professional.</td>\n",
              "    </tr>\n",
              "    <tr>\n",
              "      <th>10934</th>\n",
              "      <td>Every Degree Matters</td>\n",
              "    </tr>\n",
              "    <tr>\n",
              "      <th>10935</th>\n",
              "      <td>How much does life weigh?</td>\n",
              "    </tr>\n",
              "    <tr>\n",
              "      <th>10936</th>\n",
              "      <td>They proved the Vegas Blackjack System was bea...</td>\n",
              "    </tr>\n",
              "    <tr>\n",
              "      <th>10937</th>\n",
              "      <td>Kill or Be Killed</td>\n",
              "    </tr>\n",
              "  </tbody>\n",
              "</table>\n",
              "<p>10898 rows × 1 columns</p>\n",
              "</div><br><label><b>dtype:</b> object</label>"
            ]
          },
          "metadata": {},
          "execution_count": 177
        }
      ]
    },
    {
      "cell_type": "code",
      "source": [
        "df['tagline'].isnull().sum()\n"
      ],
      "metadata": {
        "colab": {
          "base_uri": "https://localhost:8080/"
        },
        "id": "_p7hrdKEtm7l",
        "outputId": "e6b6176e-c626-4384-cb50-c6d4fb054fcf"
      },
      "execution_count": 178,
      "outputs": [
        {
          "output_type": "execute_result",
          "data": {
            "text/plain": [
              "np.int64(2799)"
            ]
          },
          "metadata": {},
          "execution_count": 178
        }
      ]
    },
    {
      "cell_type": "code",
      "source": [
        "#so many missing values so remove it\n",
        "df.drop('tagline',inplace=True,axis=1)"
      ],
      "metadata": {
        "id": "dTxlJajMtsCs"
      },
      "execution_count": 179,
      "outputs": []
    },
    {
      "cell_type": "code",
      "source": [
        "df['title']"
      ],
      "metadata": {
        "colab": {
          "base_uri": "https://localhost:8080/",
          "height": 458
        },
        "id": "xBIBw0ASgMzp",
        "outputId": "f3a99a39-89fe-48a1-dccc-4230b50ef62f"
      },
      "execution_count": 180,
      "outputs": [
        {
          "output_type": "execute_result",
          "data": {
            "text/plain": [
              "0              A Leaf of Faith\n",
              "1             A Dog's Way Home\n",
              "2                  Hatchet III\n",
              "3            American Graffiti\n",
              "4                      Ringu 0\n",
              "                 ...          \n",
              "10933               22 Bullets\n",
              "10934                   247??F\n",
              "10935                 21 Grams\n",
              "10936                       21\n",
              "10937    2047: Sights of Death\n",
              "Name: title, Length: 10898, dtype: object"
            ],
            "text/html": [
              "<div>\n",
              "<style scoped>\n",
              "    .dataframe tbody tr th:only-of-type {\n",
              "        vertical-align: middle;\n",
              "    }\n",
              "\n",
              "    .dataframe tbody tr th {\n",
              "        vertical-align: top;\n",
              "    }\n",
              "\n",
              "    .dataframe thead th {\n",
              "        text-align: right;\n",
              "    }\n",
              "</style>\n",
              "<table border=\"1\" class=\"dataframe\">\n",
              "  <thead>\n",
              "    <tr style=\"text-align: right;\">\n",
              "      <th></th>\n",
              "      <th>title</th>\n",
              "    </tr>\n",
              "  </thead>\n",
              "  <tbody>\n",
              "    <tr>\n",
              "      <th>0</th>\n",
              "      <td>A Leaf of Faith</td>\n",
              "    </tr>\n",
              "    <tr>\n",
              "      <th>1</th>\n",
              "      <td>A Dog's Way Home</td>\n",
              "    </tr>\n",
              "    <tr>\n",
              "      <th>2</th>\n",
              "      <td>Hatchet III</td>\n",
              "    </tr>\n",
              "    <tr>\n",
              "      <th>3</th>\n",
              "      <td>American Graffiti</td>\n",
              "    </tr>\n",
              "    <tr>\n",
              "      <th>4</th>\n",
              "      <td>Ringu 0</td>\n",
              "    </tr>\n",
              "    <tr>\n",
              "      <th>...</th>\n",
              "      <td>...</td>\n",
              "    </tr>\n",
              "    <tr>\n",
              "      <th>10933</th>\n",
              "      <td>22 Bullets</td>\n",
              "    </tr>\n",
              "    <tr>\n",
              "      <th>10934</th>\n",
              "      <td>247??F</td>\n",
              "    </tr>\n",
              "    <tr>\n",
              "      <th>10935</th>\n",
              "      <td>21 Grams</td>\n",
              "    </tr>\n",
              "    <tr>\n",
              "      <th>10936</th>\n",
              "      <td>21</td>\n",
              "    </tr>\n",
              "    <tr>\n",
              "      <th>10937</th>\n",
              "      <td>2047: Sights of Death</td>\n",
              "    </tr>\n",
              "  </tbody>\n",
              "</table>\n",
              "<p>10898 rows × 1 columns</p>\n",
              "</div><br><label><b>dtype:</b> object</label>"
            ]
          },
          "metadata": {},
          "execution_count": 180
        }
      ]
    },
    {
      "cell_type": "code",
      "source": [
        "df['title'].unique()"
      ],
      "metadata": {
        "colab": {
          "base_uri": "https://localhost:8080/"
        },
        "id": "jTn79B5usBXr",
        "outputId": "7c104cb6-d10f-4c2f-c5e8-008c46594dc1"
      },
      "execution_count": 181,
      "outputs": [
        {
          "output_type": "execute_result",
          "data": {
            "text/plain": [
              "array(['A Leaf of Faith', \"A Dog's Way Home\", 'Hatchet III', ...,\n",
              "       '21 Grams', '21', '2047: Sights of Death'], dtype=object)"
            ]
          },
          "metadata": {},
          "execution_count": 181
        }
      ]
    },
    {
      "cell_type": "code",
      "source": [
        "df['title'].nunique()"
      ],
      "metadata": {
        "colab": {
          "base_uri": "https://localhost:8080/"
        },
        "id": "5oJecPPSsFwr",
        "outputId": "20e700e3-6813-4aa5-bd2f-7d6044d5b532"
      },
      "execution_count": 182,
      "outputs": [
        {
          "output_type": "execute_result",
          "data": {
            "text/plain": [
              "10650"
            ]
          },
          "metadata": {},
          "execution_count": 182
        }
      ]
    },
    {
      "cell_type": "code",
      "source": [
        "df['title'].isnull().sum()"
      ],
      "metadata": {
        "colab": {
          "base_uri": "https://localhost:8080/"
        },
        "id": "6hrVWZWqsKBz",
        "outputId": "6e4469d1-09f2-4bd8-9b44-4a903f0ba8df"
      },
      "execution_count": 183,
      "outputs": [
        {
          "output_type": "execute_result",
          "data": {
            "text/plain": [
              "np.int64(0)"
            ]
          },
          "metadata": {},
          "execution_count": 183
        }
      ]
    },
    {
      "cell_type": "code",
      "source": [
        "duplicate_titles = df[df.duplicated('title', keep=False)]\n",
        "\n",
        "print(\"Number of duplicated title rows:\", duplicate_titles.shape[0])\n",
        "print(duplicate_titles[['title']].value_counts().head(10))"
      ],
      "metadata": {
        "colab": {
          "base_uri": "https://localhost:8080/"
        },
        "id": "T0ybtx20Xe2Y",
        "outputId": "57cd47e5-63da-48e3-f3c2-918cf424f177"
      },
      "execution_count": 184,
      "outputs": [
        {
          "output_type": "stream",
          "name": "stdout",
          "text": [
            "Number of duplicated title rows: 476\n",
            "title         \n",
            "Robin Hood        4\n",
            "A Star Is Born    3\n",
            "Dracula           3\n",
            "Compulsion        3\n",
            "Carrie            3\n",
            "Jane Eyre         3\n",
            "Maniac            3\n",
            "Life              3\n",
            "Halloween         3\n",
            "Hamlet            3\n",
            "Name: count, dtype: int64\n"
          ]
        }
      ]
    },
    {
      "cell_type": "code",
      "source": [
        "df = df.drop_duplicates(subset=['title'], keep='first')"
      ],
      "metadata": {
        "id": "ziEV-tk9JJJH"
      },
      "execution_count": 185,
      "outputs": []
    },
    {
      "cell_type": "code",
      "source": [
        "df.shape"
      ],
      "metadata": {
        "colab": {
          "base_uri": "https://localhost:8080/"
        },
        "id": "8spTM4r4JLRJ",
        "outputId": "df919703-427c-4589-ac19-d977a63768ad"
      },
      "execution_count": 186,
      "outputs": [
        {
          "output_type": "execute_result",
          "data": {
            "text/plain": [
              "(10650, 21)"
            ]
          },
          "metadata": {},
          "execution_count": 186
        }
      ]
    },
    {
      "cell_type": "code",
      "source": [
        "df['video']"
      ],
      "metadata": {
        "colab": {
          "base_uri": "https://localhost:8080/",
          "height": 458
        },
        "id": "Ri5pMcRugMwU",
        "outputId": "269a660f-b177-4863-c2e9-330a2c0906dd"
      },
      "execution_count": 187,
      "outputs": [
        {
          "output_type": "execute_result",
          "data": {
            "text/plain": [
              "0        False\n",
              "1        False\n",
              "2        False\n",
              "3        False\n",
              "4        False\n",
              "         ...  \n",
              "10933    False\n",
              "10934    False\n",
              "10935    False\n",
              "10936    False\n",
              "10937    False\n",
              "Name: video, Length: 10650, dtype: bool"
            ],
            "text/html": [
              "<div>\n",
              "<style scoped>\n",
              "    .dataframe tbody tr th:only-of-type {\n",
              "        vertical-align: middle;\n",
              "    }\n",
              "\n",
              "    .dataframe tbody tr th {\n",
              "        vertical-align: top;\n",
              "    }\n",
              "\n",
              "    .dataframe thead th {\n",
              "        text-align: right;\n",
              "    }\n",
              "</style>\n",
              "<table border=\"1\" class=\"dataframe\">\n",
              "  <thead>\n",
              "    <tr style=\"text-align: right;\">\n",
              "      <th></th>\n",
              "      <th>video</th>\n",
              "    </tr>\n",
              "  </thead>\n",
              "  <tbody>\n",
              "    <tr>\n",
              "      <th>0</th>\n",
              "      <td>False</td>\n",
              "    </tr>\n",
              "    <tr>\n",
              "      <th>1</th>\n",
              "      <td>False</td>\n",
              "    </tr>\n",
              "    <tr>\n",
              "      <th>2</th>\n",
              "      <td>False</td>\n",
              "    </tr>\n",
              "    <tr>\n",
              "      <th>3</th>\n",
              "      <td>False</td>\n",
              "    </tr>\n",
              "    <tr>\n",
              "      <th>4</th>\n",
              "      <td>False</td>\n",
              "    </tr>\n",
              "    <tr>\n",
              "      <th>...</th>\n",
              "      <td>...</td>\n",
              "    </tr>\n",
              "    <tr>\n",
              "      <th>10933</th>\n",
              "      <td>False</td>\n",
              "    </tr>\n",
              "    <tr>\n",
              "      <th>10934</th>\n",
              "      <td>False</td>\n",
              "    </tr>\n",
              "    <tr>\n",
              "      <th>10935</th>\n",
              "      <td>False</td>\n",
              "    </tr>\n",
              "    <tr>\n",
              "      <th>10936</th>\n",
              "      <td>False</td>\n",
              "    </tr>\n",
              "    <tr>\n",
              "      <th>10937</th>\n",
              "      <td>False</td>\n",
              "    </tr>\n",
              "  </tbody>\n",
              "</table>\n",
              "<p>10650 rows × 1 columns</p>\n",
              "</div><br><label><b>dtype:</b> bool</label>"
            ]
          },
          "metadata": {},
          "execution_count": 187
        }
      ]
    },
    {
      "cell_type": "code",
      "source": [
        "df['vote_average']"
      ],
      "metadata": {
        "colab": {
          "base_uri": "https://localhost:8080/",
          "height": 458
        },
        "id": "W5Sm4p-GgMuL",
        "outputId": "805794f1-b882-4589-80fb-c6e2637ed8cf"
      },
      "execution_count": 188,
      "outputs": [
        {
          "output_type": "execute_result",
          "data": {
            "text/plain": [
              "0        8.0\n",
              "1        6.5\n",
              "2        5.5\n",
              "3        7.1\n",
              "4        6.0\n",
              "        ... \n",
              "10933    6.4\n",
              "10934    5.2\n",
              "10935    7.3\n",
              "10936    6.6\n",
              "10937    2.7\n",
              "Name: vote_average, Length: 10650, dtype: float64"
            ],
            "text/html": [
              "<div>\n",
              "<style scoped>\n",
              "    .dataframe tbody tr th:only-of-type {\n",
              "        vertical-align: middle;\n",
              "    }\n",
              "\n",
              "    .dataframe tbody tr th {\n",
              "        vertical-align: top;\n",
              "    }\n",
              "\n",
              "    .dataframe thead th {\n",
              "        text-align: right;\n",
              "    }\n",
              "</style>\n",
              "<table border=\"1\" class=\"dataframe\">\n",
              "  <thead>\n",
              "    <tr style=\"text-align: right;\">\n",
              "      <th></th>\n",
              "      <th>vote_average</th>\n",
              "    </tr>\n",
              "  </thead>\n",
              "  <tbody>\n",
              "    <tr>\n",
              "      <th>0</th>\n",
              "      <td>8.0</td>\n",
              "    </tr>\n",
              "    <tr>\n",
              "      <th>1</th>\n",
              "      <td>6.5</td>\n",
              "    </tr>\n",
              "    <tr>\n",
              "      <th>2</th>\n",
              "      <td>5.5</td>\n",
              "    </tr>\n",
              "    <tr>\n",
              "      <th>3</th>\n",
              "      <td>7.1</td>\n",
              "    </tr>\n",
              "    <tr>\n",
              "      <th>4</th>\n",
              "      <td>6.0</td>\n",
              "    </tr>\n",
              "    <tr>\n",
              "      <th>...</th>\n",
              "      <td>...</td>\n",
              "    </tr>\n",
              "    <tr>\n",
              "      <th>10933</th>\n",
              "      <td>6.4</td>\n",
              "    </tr>\n",
              "    <tr>\n",
              "      <th>10934</th>\n",
              "      <td>5.2</td>\n",
              "    </tr>\n",
              "    <tr>\n",
              "      <th>10935</th>\n",
              "      <td>7.3</td>\n",
              "    </tr>\n",
              "    <tr>\n",
              "      <th>10936</th>\n",
              "      <td>6.6</td>\n",
              "    </tr>\n",
              "    <tr>\n",
              "      <th>10937</th>\n",
              "      <td>2.7</td>\n",
              "    </tr>\n",
              "  </tbody>\n",
              "</table>\n",
              "<p>10650 rows × 1 columns</p>\n",
              "</div><br><label><b>dtype:</b> float64</label>"
            ]
          },
          "metadata": {},
          "execution_count": 188
        }
      ]
    },
    {
      "cell_type": "code",
      "source": [
        "df['vote_average'].isnull().sum()"
      ],
      "metadata": {
        "colab": {
          "base_uri": "https://localhost:8080/"
        },
        "id": "MUez6dOwtLdn",
        "outputId": "b885aa4f-dbae-4d6c-edbc-41b3a9c57ecb"
      },
      "execution_count": 189,
      "outputs": [
        {
          "output_type": "execute_result",
          "data": {
            "text/plain": [
              "np.int64(0)"
            ]
          },
          "metadata": {},
          "execution_count": 189
        }
      ]
    },
    {
      "cell_type": "code",
      "source": [
        "df['vote_count']"
      ],
      "metadata": {
        "colab": {
          "base_uri": "https://localhost:8080/",
          "height": 458
        },
        "id": "gf0t02ZUgMrx",
        "outputId": "fae3389c-f0d0-4f7b-8215-a658c8af43db"
      },
      "execution_count": 190,
      "outputs": [
        {
          "output_type": "execute_result",
          "data": {
            "text/plain": [
              "0           5\n",
              "1          76\n",
              "2         145\n",
              "3         597\n",
              "4          75\n",
              "         ... \n",
              "10933     489\n",
              "10934      82\n",
              "10935    1530\n",
              "10936    2255\n",
              "10937      25\n",
              "Name: vote_count, Length: 10650, dtype: int64"
            ],
            "text/html": [
              "<div>\n",
              "<style scoped>\n",
              "    .dataframe tbody tr th:only-of-type {\n",
              "        vertical-align: middle;\n",
              "    }\n",
              "\n",
              "    .dataframe tbody tr th {\n",
              "        vertical-align: top;\n",
              "    }\n",
              "\n",
              "    .dataframe thead th {\n",
              "        text-align: right;\n",
              "    }\n",
              "</style>\n",
              "<table border=\"1\" class=\"dataframe\">\n",
              "  <thead>\n",
              "    <tr style=\"text-align: right;\">\n",
              "      <th></th>\n",
              "      <th>vote_count</th>\n",
              "    </tr>\n",
              "  </thead>\n",
              "  <tbody>\n",
              "    <tr>\n",
              "      <th>0</th>\n",
              "      <td>5</td>\n",
              "    </tr>\n",
              "    <tr>\n",
              "      <th>1</th>\n",
              "      <td>76</td>\n",
              "    </tr>\n",
              "    <tr>\n",
              "      <th>2</th>\n",
              "      <td>145</td>\n",
              "    </tr>\n",
              "    <tr>\n",
              "      <th>3</th>\n",
              "      <td>597</td>\n",
              "    </tr>\n",
              "    <tr>\n",
              "      <th>4</th>\n",
              "      <td>75</td>\n",
              "    </tr>\n",
              "    <tr>\n",
              "      <th>...</th>\n",
              "      <td>...</td>\n",
              "    </tr>\n",
              "    <tr>\n",
              "      <th>10933</th>\n",
              "      <td>489</td>\n",
              "    </tr>\n",
              "    <tr>\n",
              "      <th>10934</th>\n",
              "      <td>82</td>\n",
              "    </tr>\n",
              "    <tr>\n",
              "      <th>10935</th>\n",
              "      <td>1530</td>\n",
              "    </tr>\n",
              "    <tr>\n",
              "      <th>10936</th>\n",
              "      <td>2255</td>\n",
              "    </tr>\n",
              "    <tr>\n",
              "      <th>10937</th>\n",
              "      <td>25</td>\n",
              "    </tr>\n",
              "  </tbody>\n",
              "</table>\n",
              "<p>10650 rows × 1 columns</p>\n",
              "</div><br><label><b>dtype:</b> int64</label>"
            ]
          },
          "metadata": {},
          "execution_count": 190
        }
      ]
    },
    {
      "cell_type": "code",
      "source": [
        "df['vote_count'].isnull().sum()"
      ],
      "metadata": {
        "colab": {
          "base_uri": "https://localhost:8080/"
        },
        "id": "Czs_CzUcgMnU",
        "outputId": "81c6bce9-3d9c-4057-abfe-f62556ecc941"
      },
      "execution_count": 191,
      "outputs": [
        {
          "output_type": "execute_result",
          "data": {
            "text/plain": [
              "np.int64(0)"
            ]
          },
          "metadata": {},
          "execution_count": 191
        }
      ]
    },
    {
      "cell_type": "markdown",
      "source": [
        "1. Distribution of Movie Budgets - Understand budget spread & detect outliers."
      ],
      "metadata": {
        "id": "I9B0NJIPwxzW"
      }
    },
    {
      "cell_type": "code",
      "source": [
        "# 1. Distribution of Movie Budgets\n",
        "sns.histplot(df['budget'], bins=30, kde=True)\n",
        "plt.title('Distribution of Movie Budgets')\n",
        "plt.xlabel('Budget (USD)')\n",
        "plt.show()"
      ],
      "metadata": {
        "colab": {
          "base_uri": "https://localhost:8080/",
          "height": 472
        },
        "id": "qW1ChEEJgMcb",
        "outputId": "c0fa26cd-7855-4732-f3a0-31c92e78696e"
      },
      "execution_count": 192,
      "outputs": [
        {
          "output_type": "display_data",
          "data": {
            "text/plain": [
              "<Figure size 640x480 with 1 Axes>"
            ],
            "image/png": "[encoded data removed]"
          },
          "metadata": {}
        }
      ]
    },
    {
      "cell_type": "markdown",
      "source": [
        "2. Top 10 Genres - See which genres dominate the industry."
      ],
      "metadata": {
        "id": "DbSf3Btjw2p8"
      }
    },
    {
      "cell_type": "code",
      "source": [
        "# 2. Top 10 Genres\n",
        "from collections import Counter\n",
        "all_genres = df['genres_list'].explode()\n",
        "top_genres = Counter(all_genres).most_common(10)\n",
        "genres_df = pd.DataFrame(top_genres, columns=['Genre', 'Count'])\n",
        "sns.barplot(x='Count', y='Genre', data=genres_df,palette='viridis')\n",
        "plt.title('Top 10 Movie Genres')\n",
        "plt.show()"
      ],
      "metadata": {
        "colab": {
          "base_uri": "https://localhost:8080/",
          "height": 559
        },
        "id": "Boi_IsVNw48c",
        "outputId": "11b4a211-a893-4a0a-bd77-7c7d54f03754"
      },
      "execution_count": 193,
      "outputs": [
        {
          "output_type": "stream",
          "name": "stderr",
          "text": [
            "<ipython-input-193-1449965732>:6: FutureWarning: \n",
            "\n",
            "Passing `palette` without assigning `hue` is deprecated and will be removed in v0.14.0. Assign the `y` variable to `hue` and set `legend=False` for the same effect.\n",
            "\n",
            "  sns.barplot(x='Count', y='Genre', data=genres_df,palette='viridis')\n"
          ]
        },
        {
          "output_type": "display_data",
          "data": {
            "text/plain": [
              "<Figure size 640x480 with 1 Axes>"
            ],
            "image/png": "[encoded data removed]"
          },
          "metadata": {}
        }
      ]
    },
    {
      "cell_type": "markdown",
      "source": [
        "3. Budget vs Revenue Relationship -  Understand how spending affects returns."
      ],
      "metadata": {
        "id": "C8K_xvMTw76W"
      }
    },
    {
      "cell_type": "code",
      "source": [
        "# 3. Budget vs Revenue\n",
        "sns.scatterplot(x='budget', y='revenue', data=df)\n",
        "plt.title('Budget vs Revenue')\n",
        "plt.xlabel('Budget')\n",
        "plt.ylabel('Revenue')\n",
        "plt.xlim(0, 5e8)\n",
        "plt.ylim(0, 2e9)\n",
        "plt.show()"
      ],
      "metadata": {
        "colab": {
          "base_uri": "https://localhost:8080/",
          "height": 472
        },
        "id": "AEhXGrTIw-Vb",
        "outputId": "1021aa5c-9737-4468-f9b9-989dbd240f00"
      },
      "execution_count": 194,
      "outputs": [
        {
          "output_type": "display_data",
          "data": {
            "text/plain": [
              "<Figure size 640x480 with 1 Axes>"
            ],
            "image/png": "[encoded data removed]"
          },
          "metadata": {}
        }
      ]
    },
    {
      "cell_type": "markdown",
      "source": [
        "4. Profit Distribution - See how profitable movies are on average."
      ],
      "metadata": {
        "id": "etzZ--P4xCW-"
      }
    },
    {
      "cell_type": "code",
      "source": [
        "# 4. Profit distribution\n",
        "sns.histplot(df['profit'], bins=30,color='Purple')\n",
        "plt.title('Distribution of Profit')\n",
        "plt.xlabel('Profit (USD)')\n",
        "plt.show()"
      ],
      "metadata": {
        "colab": {
          "base_uri": "https://localhost:8080/",
          "height": 472
        },
        "id": "18SsOPafxCAf",
        "outputId": "c78bb02b-6b99-48e7-ce8a-707a8ff488ec"
      },
      "execution_count": 195,
      "outputs": [
        {
          "output_type": "display_data",
          "data": {
            "text/plain": [
              "<Figure size 640x480 with 1 Axes>"
            ],
            "image/png": "[encoded data removed]"
          },
          "metadata": {}
        }
      ]
    },
    {
      "cell_type": "markdown",
      "source": [
        "5. Number of Movies Released by Year - See industry growth over time."
      ],
      "metadata": {
        "id": "NJhpVvrlxFYX"
      }
    },
    {
      "cell_type": "code",
      "source": [
        "# 5. Movies per year\n",
        "df['release_year'] = df['release_year'].astype('Int64')\n",
        "df['release_year'].value_counts().sort_index().plot(kind='line', figsize=(10,5))\n",
        "plt.title('Movies Released Per Year')\n",
        "plt.xlabel('Year')\n",
        "plt.ylabel('Number of Movies')\n",
        "plt.show()"
      ],
      "metadata": {
        "colab": {
          "base_uri": "https://localhost:8080/",
          "height": 487
        },
        "id": "dVI95hf_xIAH",
        "outputId": "220e5681-5560-4377-a825-ef514ae52223"
      },
      "execution_count": 196,
      "outputs": [
        {
          "output_type": "display_data",
          "data": {
            "text/plain": [
              "<Figure size 1000x500 with 1 Axes>"
            ],
            "image/png": "[encoded data removed]"
          },
          "metadata": {}
        }
      ]
    },
    {
      "cell_type": "markdown",
      "source": [
        "6. Average Runtime by Genre- Do action movies run longer?"
      ],
      "metadata": {
        "id": "SbM7GpLwxP3S"
      }
    },
    {
      "cell_type": "code",
      "source": [
        "# 6. Avg runtime by genre\n",
        "genre_runtimes = []\n",
        "for genre in df['genres_list'].explode().unique():\n",
        "    if genre:  # skip empty strings\n",
        "        avg_runtime = df[df['genres_list'].apply(lambda x: genre in x)]['runtime'].mean()\n",
        "        genre_runtimes.append((genre, avg_runtime))\n",
        "runtime_df = pd.DataFrame(genre_runtimes, columns=['Genre', 'Avg_Runtime']).sort_values(by='Avg_Runtime', ascending=False)\n",
        "sns.barplot(x='Avg_Runtime', y='Genre', data=runtime_df,palette='magma')\n",
        "plt.title('Average Runtime by Genre')\n",
        "plt.show()"
      ],
      "metadata": {
        "colab": {
          "base_uri": "https://localhost:8080/",
          "height": 559
        },
        "id": "7gKSv7GYxNKD",
        "outputId": "28f97c7a-b61e-4583-9ef3-d79087909a46"
      },
      "execution_count": 197,
      "outputs": [
        {
          "output_type": "stream",
          "name": "stderr",
          "text": [
            "<ipython-input-197-317813237>:8: FutureWarning: \n",
            "\n",
            "Passing `palette` without assigning `hue` is deprecated and will be removed in v0.14.0. Assign the `y` variable to `hue` and set `legend=False` for the same effect.\n",
            "\n",
            "  sns.barplot(x='Avg_Runtime', y='Genre', data=runtime_df,palette='magma')\n"
          ]
        },
        {
          "output_type": "display_data",
          "data": {
            "text/plain": [
              "<Figure size 640x480 with 1 Axes>"
            ],
            "image/png": "[encoded data removed]"
          },
          "metadata": {}
        }
      ]
    },
    {
      "cell_type": "markdown",
      "source": [
        "7. Vote Average Distribution - See how audiences rate movies."
      ],
      "metadata": {
        "id": "sJS6W9P5xZMr"
      }
    },
    {
      "cell_type": "code",
      "source": [
        "# 7. Vote average distribution\n",
        "sns.histplot(df['vote_average'], bins=20, kde=True,color='green')\n",
        "plt.title('Vote Average Distribution')\n",
        "plt.xlabel('Average Rating')\n",
        "plt.show()"
      ],
      "metadata": {
        "colab": {
          "base_uri": "https://localhost:8080/",
          "height": 472
        },
        "id": "k5SZQ2vWxbJT",
        "outputId": "2c235423-7d91-4df3-bee6-fb65027003c8"
      },
      "execution_count": 198,
      "outputs": [
        {
          "output_type": "display_data",
          "data": {
            "text/plain": [
              "<Figure size 640x480 with 1 Axes>"
            ],
            "image/png": "[encoded data removed]"
          },
          "metadata": {}
        }
      ]
    },
    {
      "cell_type": "markdown",
      "source": [
        "8. Top 10 Most Profitable Movie"
      ],
      "metadata": {
        "id": "nLoHw5vSxerq"
      }
    },
    {
      "cell_type": "code",
      "source": [
        "# 8. Top 10 most profitable movies\n",
        "top_profit = df[['title', 'profit']].sort_values(by='profit', ascending=False).head(10)\n",
        "print(top_profit)"
      ],
      "metadata": {
        "colab": {
          "base_uri": "https://localhost:8080/"
        },
        "id": "2ss9hInjxfeY",
        "outputId": "352a11c7-28c4-4936-fc21-1d376424e243"
      },
      "execution_count": 199,
      "outputs": [
        {
          "output_type": "stream",
          "name": "stdout",
          "text": [
            "                                              title        profit\n",
            "10577                                        Avatar  2.550965e+09\n",
            "5943                   Star Wars: The Force Awakens  1.823224e+09\n",
            "2828                         Avengers: Infinity War  1.746240e+09\n",
            "6599                                 Jurassic World  1.521713e+09\n",
            "9672                                      Furious 7  1.316249e+09\n",
            "9522   Harry Potter and the Deathly Hallows: Part 2  1.217000e+09\n",
            "3559                                  Black Panther  1.146739e+09\n",
            "2472                 Jurassic World: Fallen Kingdom  1.133460e+09\n",
            "3987                       Star Wars: The Last Jedi  1.132460e+09\n",
            "6552                        Avengers: Age of Ultron  1.125404e+09\n"
          ]
        }
      ]
    },
    {
      "cell_type": "markdown",
      "source": [
        "9. Are popular movies also highly rated?"
      ],
      "metadata": {
        "id": "I4DF3UmQxj8E"
      }
    },
    {
      "cell_type": "code",
      "source": [
        "# 9. Popularity vs Rating\n",
        "sns.scatterplot(x='popularity', y='vote_average', data=df)\n",
        "plt.title('Popularity vs Vote Average')\n",
        "plt.xlabel('Popularity Score')\n",
        "plt.ylabel('Vote Average')\n",
        "plt.show()\n"
      ],
      "metadata": {
        "id": "mb3dCZLOxjqX",
        "outputId": "1c915990-2e26-4273-e188-edcaa9977d89",
        "colab": {
          "base_uri": "https://localhost:8080/",
          "height": 472
        }
      },
      "execution_count": 200,
      "outputs": [
        {
          "output_type": "display_data",
          "data": {
            "text/plain": [
              "<Figure size 640x480 with 1 Axes>"
            ],
            "image/png": "[encoded data removed]"
          },
          "metadata": {}
        }
      ]
    },
    {
      "cell_type": "markdown",
      "source": [
        "10. Avg vote by budget category"
      ],
      "metadata": {
        "id": "aPbgs6anz3kJ"
      }
    },
    {
      "cell_type": "code",
      "source": [
        "# 10. Avg vote by budget category\n",
        "sns.barplot(x=df.groupby('budget_category')['vote_average'].mean().sort_index().index,\n",
        "            y=df.groupby('budget_category')['vote_average'].mean().sort_index().values,\n",
        "            palette='Set2')\n",
        "plt.title('Avg Vote Average by Budget Category')\n",
        "plt.xlabel('Budget Category')\n",
        "plt.ylabel('Average Vote')\n",
        "plt.show()"
      ],
      "metadata": {
        "colab": {
          "base_uri": "https://localhost:8080/",
          "height": 559
        },
        "id": "1vGYyaWULqPQ",
        "outputId": "16403213-7325-4e6d-f267-5495c543c77a"
      },
      "execution_count": 201,
      "outputs": [
        {
          "output_type": "stream",
          "name": "stderr",
          "text": [
            "<ipython-input-201-581310678>:2: FutureWarning: \n",
            "\n",
            "Passing `palette` without assigning `hue` is deprecated and will be removed in v0.14.0. Assign the `x` variable to `hue` and set `legend=False` for the same effect.\n",
            "\n",
            "  sns.barplot(x=df.groupby('budget_category')['vote_average'].mean().sort_index().index,\n"
          ]
        },
        {
          "output_type": "display_data",
          "data": {
            "text/plain": [
              "<Figure size 640x480 with 1 Axes>"
            ],
            "image/png": "[encoded data removed]"
          },
          "metadata": {}
        }
      ]
    },
    {
      "cell_type": "code",
      "source": [
        "# 11. Avg popularity by budget category\n",
        "sns.barplot(x=df.groupby('budget_category')['popularity'].mean().sort_index().index,\n",
        "            y=df.groupby('budget_category')['popularity'].mean().sort_index().values,\n",
        "            palette='Set1')\n",
        "plt.title('Average Popularity by Budget Category')\n",
        "plt.xlabel('Budget Category')\n",
        "plt.ylabel('Average Popularity')\n",
        "plt.show()\n"
      ],
      "metadata": {
        "colab": {
          "base_uri": "https://localhost:8080/",
          "height": 559
        },
        "id": "4qi9dbniLxvI",
        "outputId": "b2d29822-eb22-45fc-b5ee-5d76e0f53da5"
      },
      "execution_count": 202,
      "outputs": [
        {
          "output_type": "stream",
          "name": "stderr",
          "text": [
            "<ipython-input-202-1435724834>:2: FutureWarning: \n",
            "\n",
            "Passing `palette` without assigning `hue` is deprecated and will be removed in v0.14.0. Assign the `x` variable to `hue` and set `legend=False` for the same effect.\n",
            "\n",
            "  sns.barplot(x=df.groupby('budget_category')['popularity'].mean().sort_index().index,\n"
          ]
        },
        {
          "output_type": "display_data",
          "data": {
            "text/plain": [
              "<Figure size 640x480 with 1 Axes>"
            ],
            "image/png": "[encoded data removed]"
          },
          "metadata": {}
        }
      ]
    },
    {
      "cell_type": "code",
      "source": [
        "# 12. Budget categories over years\n",
        "pd.crosstab(df['release_year'], df['budget_category']).plot(\n",
        "    kind='bar', stacked=True, figsize=(15,6), title='Budget Categories by Year')\n",
        "plt.show()"
      ],
      "metadata": {
        "colab": {
          "base_uri": "https://localhost:8080/",
          "height": 586
        },
        "id": "SgIH2CSlMX9y",
        "outputId": "eeca0359-1cc5-452f-b644-44661bf05b69"
      },
      "execution_count": 203,
      "outputs": [
        {
          "output_type": "display_data",
          "data": {
            "text/plain": [
              "<Figure size 1500x600 with 1 Axes>"
            ],
            "image/png": "[encoded data removed]"
          },
          "metadata": {}
        }
      ]
    },
    {
      "cell_type": "code",
      "source": [
        "last_6_years = sorted(df['release_year'].dropna().unique())[-6:]\n",
        "ct = pd.crosstab(df[df['release_year'].isin(last_6_years)]['release_year'], df['budget_category'])\n",
        "\n",
        "ct.plot(kind='bar', stacked=True, figsize=(15,6), title='Budget Categories (Last 6 Years)')\n",
        "plt.xlabel('Release Year')\n",
        "plt.ylabel('Number of Movies')\n",
        "plt.show()"
      ],
      "metadata": {
        "colab": {
          "base_uri": "https://localhost:8080/",
          "height": 585
        },
        "id": "aW9MRvV145-w",
        "outputId": "efc59552-3b80-484e-b618-611634d0650c"
      },
      "execution_count": 204,
      "outputs": [
        {
          "output_type": "display_data",
          "data": {
            "text/plain": [
              "<Figure size 1500x600 with 1 Axes>"
            ],
            "image/png": "[encoded data removed]"
          },
          "metadata": {}
        }
      ]
    },
    {
      "cell_type": "markdown",
      "source": [
        "#Conclusions :\n",
        "1️⃣ Distribution of Movie Budgets\n",
        "\n",
        "   The majority of movies have low budgets, typically under $20 million.\n",
        "\n",
        "   There are a few outliers with extremely high budgets (blockbusters), which skew the distribution to the right.\n",
        "\n",
        "2️⃣ Top 10 Genres\n",
        "\n",
        "   The most common genres are Drama, Comedy, and Thriller.\n",
        "\n",
        "   These genres dominate the industry, suggesting they have a broader appeal or lower production risks.\n",
        "\n",
        "3️⃣ Budget vs Revenue\n",
        "\n",
        "   There is a positive correlation between budget and revenue, though not perfectly linear.\n",
        "\n",
        "   Some low-budget films achieve high revenues (e.g. independent hits), while some big-budget films fail to earn proportional returns.\n",
        "\n",
        "4️⃣ Profit Distribution\n",
        "\n",
        "   The profit distribution is wide, with many films making modest profits or losses.\n",
        "\n",
        "   A small number of films account for massive profits, indicating a hit-driven industry.\n",
        "\n",
        "5️⃣ Number of Movies Released by Year\n",
        "\n",
        "   The number of movies released increased steadily over time, reflecting industry growth.\n",
        "\n",
        "   There may be noticeable dips during certain years (e.g., strikes, economic downturns).\n",
        "\n",
        "6️⃣ Average Runtime by Genre\n",
        "\n",
        "   Genres like Adventure and Action tend to have longer runtimes.\n",
        "\n",
        "   Shorter runtimes are common for Animation and Family films, likely due to audience preferences.\n",
        "\n",
        "7️⃣ Vote Average Distribution\n",
        "\n",
        "   Most movies receive average ratings between 5 and 7.\n",
        "\n",
        "   Very few movies achieve extreme ratings (either very low or very high).\n",
        "\n",
        "8️⃣ Top 10 Most Profitable Movies\n",
        "\n",
        "   The most profitable movies often include major blockbusters or surprise hits.\n",
        "\n",
        "   High profit does not always mean high budget; some low-budget films earned huge profits.\n",
        "\n",
        "9️⃣ Are popular movies also highly rated?\n",
        "\n",
        "   There is no strong relationship between popularity and vote average.\n",
        "\n",
        "   Popularity might be influenced by marketing and hype rather than quality.\n",
        "\n",
        "🔟 Avg vote by budget category\n",
        "\n",
        "   Higher budget categories tend to have slightly higher average votes.\n",
        "\n",
        "   However, even low-budget movies can receive good ratings, suggesting budget isn’t the only factor in perceived quality.\n",
        "\n",
        "1️⃣1️⃣ Avg popularity by budget category\n",
        "\n",
        "   Blockbuster and high-budget movies generally have higher average popularity.\n",
        "\n",
        "   Marketing and distribution likely contribute to this pattern.\n",
        "\n",
        "1️⃣2️⃣ Budget categories over years\n",
        "\n",
        "   Recent years show a steady mix of all budget categories, though blockbusters remain consistently present.\n",
        "\n",
        "   There’s been sustained production of medium and low-budget films even as blockbusters dominate revenue."
      ],
      "metadata": {
        "id": "DCAPeCeY3EO6"
      }
    }
  ]
}